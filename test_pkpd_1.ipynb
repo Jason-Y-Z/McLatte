{
 "cells": [
  {
   "cell_type": "code",
   "execution_count": 1,
   "metadata": {},
   "outputs": [],
   "source": [
    "import joblib\n",
    "import numpy as np\n",
    "from synctwin import io_utils"
   ]
  },
  {
   "cell_type": "markdown",
   "metadata": {},
   "source": [
    "Constants used for generation"
   ]
  },
  {
   "cell_type": "code",
   "execution_count": 42,
   "metadata": {},
   "outputs": [],
   "source": [
    "sim_id = '0.25_200'\n",
    "seed = 509\n",
    "model_id = \"\""
   ]
  },
  {
   "cell_type": "markdown",
   "metadata": {},
   "source": [
    "Load generated dataset"
   ]
  },
  {
   "cell_type": "code",
   "execution_count": 43,
   "metadata": {},
   "outputs": [
    {
     "name": "stdout",
     "output_type": "stream",
     "text": [
      "loading data\n"
     ]
    }
   ],
   "source": [
    "base_path_data = \"data/pkpd/{}-seed-\".format(sim_id) + str(seed)\n",
    "data_path = base_path_data + \"/{}-{}.{}\"\n",
    "\n",
    "# loading config and data\n",
    "print(\"loading data\")\n",
    "n_units, n_treated, n_units_total, step, train_step, control_sample, noise, n_basis, n_cluster = io_utils.load_config(\n",
    "    data_path, \"train\"\n",
    ")\n",
    "(\n",
    "    x_full,\n",
    "    t_full,\n",
    "    mask_full,\n",
    "    batch_ind_full,\n",
    "    y_full,\n",
    "    y_control,\n",
    "    y_mask_full,\n",
    "    m,\n",
    "    sd,\n",
    "    treatment_effect,\n",
    ") = io_utils.load_tensor(data_path, \"train\")\n",
    "(\n",
    "    x_full_val,\n",
    "    t_full_val,\n",
    "    mask_full_val,\n",
    "    batch_ind_full_val,\n",
    "    y_full_val,\n",
    "    y_control_val,\n",
    "    y_mask_full_val,\n",
    "    _,\n",
    "    _,\n",
    "    _,\n",
    ") = io_utils.load_tensor(data_path, \"val\")"
   ]
  },
  {
   "cell_type": "code",
   "execution_count": 44,
   "metadata": {},
   "outputs": [],
   "source": [
    "x = np.concatenate((x_full.cpu().numpy(), x_full_val.cpu().numpy()), axis=1)\n",
    "t = np.concatenate((t_full.cpu().numpy(), t_full_val.cpu().numpy()), axis=1)\n",
    "mask = np.concatenate((mask_full.cpu().numpy(), mask_full_val.cpu().numpy()), axis=1)\n",
    "y = np.concatenate((y_full.cpu().numpy(), y_full_val.cpu().numpy()), axis=1)"
   ]
  },
  {
   "cell_type": "code",
   "execution_count": 45,
   "metadata": {},
   "outputs": [
    {
     "data": {
      "text/plain": [
       "tensor(True, device='cuda:0')"
      ]
     },
     "execution_count": 45,
     "metadata": {},
     "output_type": "execute_result"
    }
   ],
   "source": [
    "(y_full[:, :10] == y_control[:, :10]).all()  # check which ones are the control"
   ]
  },
  {
   "cell_type": "markdown",
   "metadata": {},
   "source": [
    "Map to the convention used in our experiments"
   ]
  },
  {
   "cell_type": "code",
   "execution_count": 46,
   "metadata": {},
   "outputs": [],
   "source": [
    "M = 5\n",
    "H = 5\n",
    "R = 5 \n",
    "D = 3 \n",
    "K = 1 \n",
    "C = 3\n",
    "X = x.transpose((1, 0, 2))\n",
    "N = x.shape[0]\n",
    "rand_index = np.random.permutation(N)\n",
    "X = X[rand_index]\n",
    "M_ = mask.transpose((1, 0, 2))[rand_index]\n",
    "Y_pre = y.transpose((1, 0, 2))[rand_index]\n",
    "Y_post = y.transpose((1, 0, 2))[rand_index]\n",
    "A = np.concatenate((np.zeros((200, 1)), np.ones((200, 1)), np.zeros((200, 1)), np.ones((200, 1))), axis=0)[rand_index]\n",
    "T = t.transpose((1, 0, 2))[rand_index]"
   ]
  },
  {
   "cell_type": "code",
   "execution_count": 47,
   "metadata": {},
   "outputs": [],
   "source": [
    "N_train = round(N * 0.8)\n",
    "N_test = round(N * 0.2)\n",
    "X_train, X_test = X[:N_train], X[N_train:]\n",
    "M_train, M_test = M_[:N_train], M_[N_train:]\n",
    "Y_pre_train, Y_pre_test = Y_pre[:N_train], Y_pre[N_train:]\n",
    "Y_post_train, Y_post_test = Y_post[:N_train], Y_post[N_train:]\n",
    "A_train, A_test = A[:N_train], A[N_train:]\n",
    "T_train, T_test = T[:N_train], T[N_train:]"
   ]
  },
  {
   "cell_type": "code",
   "execution_count": 48,
   "metadata": {},
   "outputs": [
    {
     "data": {
      "text/plain": [
       "['data/pkpd/test_data_0.25_200.joblib']"
      ]
     },
     "execution_count": 48,
     "metadata": {},
     "output_type": "execute_result"
    }
   ],
   "source": [
    "joblib.dump((N_train, M, H, R, D, K, C, X_train, M_train, Y_pre_train, Y_post_train, A_train, T_train), f'data/pkpd/data_{sim_id}.joblib')\n",
    "joblib.dump((N_test, M, H, R, D, K, C, X_test, M_test, Y_pre_test, Y_post_test, A_test, T_test), f'data/pkpd/test_data_{sim_id}.joblib')"
   ]
  }
 ],
 "metadata": {
  "interpreter": {
   "hash": "852d66bd2a456ad8c66b277a4fc8ac1a7bcd6ab870e3be824a8a6385faf13d3b"
  },
  "kernelspec": {
   "display_name": "Python 3.9.9 64-bit ('.venv.mclatte': venv)",
   "language": "python",
   "name": "python3"
  },
  "language_info": {
   "codemirror_mode": {
    "name": "ipython",
    "version": 3
   },
   "file_extension": ".py",
   "mimetype": "text/x-python",
   "name": "python",
   "nbconvert_exporter": "python",
   "pygments_lexer": "ipython3",
   "version": "3.9.9"
  },
  "orig_nbformat": 4
 },
 "nbformat": 4,
 "nbformat_minor": 2
}
