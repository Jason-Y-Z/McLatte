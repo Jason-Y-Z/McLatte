{
 "cells": [
  {
   "cell_type": "code",
   "execution_count": null,
   "metadata": {},
   "outputs": [],
   "source": [
    "import datetime\n",
    "import joblib\n",
    "import numpy as np\n",
    "import os\n",
    "import pandas as pd\n",
    "import plotly.graph_objects as go\n",
    "import random\n",
    "import torch\n",
    "import wandb\n",
    "from mclatte.model import (\n",
    "    train_mclatte, \n",
    "    train_semi_skimmed_mclatte, \n",
    "    train_skimmed_mclatte, \n",
    "    McLatte,\n",
    "    SemiSkimmedMcLatte,\n",
    "    SkimmedMcLatte,\n",
    ")\n",
    "from mclatte.simulation_data import generate_simulation_data, TreatmentRepr\n",
    "from rnn.model import (\n",
    "    train_baseline_rnn,\n",
    "    BaselineRnn,\n",
    ")\n",
    "from scipy.stats import mode, ttest_ind\n",
    "from synctwin.model import (\n",
    "    train_synctwin,\n",
    "    SyncTwinPl,\n",
    ")"
   ]
  },
  {
   "cell_type": "code",
   "execution_count": null,
   "metadata": {},
   "outputs": [],
   "source": [
    "random.seed(509)\n",
    "np.random.seed(509)\n",
    "torch.manual_seed(509)"
   ]
  },
  {
   "cell_type": "markdown",
   "metadata": {},
   "source": [
    "## Data Preparation"
   ]
  },
  {
   "cell_type": "code",
   "execution_count": null,
   "metadata": {},
   "outputs": [],
   "source": [
    "N_SUBJECTS = 70\n",
    "M = 606\n",
    "H = 10\n",
    "R = 2"
   ]
  },
  {
   "cell_type": "markdown",
   "metadata": {},
   "source": [
    "### Data Codes"
   ]
  },
  {
   "cell_type": "code",
   "execution_count": null,
   "metadata": {},
   "outputs": [],
   "source": [
    "DATA_CODES = {\n",
    "    33: 'reg_insulin',          # treatment\n",
    "    34: 'nph_insulin',          # treatment\n",
    "    35: 'ult_insulin',          # treatment\n",
    "    48: 'unspecified_bg',       # outcome\n",
    "    57: 'unspecified_bg',       # outcome\n",
    "    58: 'pre_breakfast_bg',     # outcome\n",
    "    59: 'post_breakfast_bg',    # outcome\n",
    "    60: 'pre_lunch_bg',         # outcome\n",
    "    61: 'post_lunch_bg',        # outcome\n",
    "    62: 'pre_supper_bg',        # outcome\n",
    "    63: 'post_supper_bg',       # outcome\n",
    "    64: 'pre_snack_bg',         # outcome\n",
    "    65: 'hypo_symptoms',        # covariate\n",
    "    66: 'typical_meal',         # covariate\n",
    "    67: 'more_meal',            # covariate\n",
    "    68: 'less_meal',            # covariate\n",
    "    69: 'typical_exercise',     # covariate\n",
    "    70: 'more_exercise',        # covariate\n",
    "    71: 'less_exercise',        # covariate\n",
    "    72: 'unspecified_event',    # covariate\n",
    "}\n",
    "TREATMENT_COLS = ['reg_insulin', 'nph_insulin', 'ult_insulin']\n",
    "OUTCOME_COLS = ['unspecified_bg', 'pre_breakfast_bg', 'post_breakfast_bg', 'pre_lunch_bg', 'post_lunch_bg', 'pre_supper_bg', 'post_supper_bg', 'pre_snack_bg']"
   ]
  },
  {
   "cell_type": "markdown",
   "metadata": {},
   "source": [
    "### Load Data"
   ]
  },
  {
   "cell_type": "code",
   "execution_count": null,
   "metadata": {},
   "outputs": [],
   "source": [
    "def float_or_na(v):\n",
    "    try:\n",
    "        return float(v)\n",
    "    except Exception as e:\n",
    "        if v == '0Hi':\n",
    "            return 1\n",
    "        if v == '0Lo':\n",
    "            return -1\n",
    "        print(e)\n",
    "        return np.nan"
   ]
  },
  {
   "cell_type": "code",
   "execution_count": null,
   "metadata": {},
   "outputs": [],
   "source": [
    "def combine(values):\n",
    "    valid_values = values[pd.notna(values)]\n",
    "    if valid_values.shape[0] == 0:\n",
    "        return np.nan\n",
    "    return mode(valid_values)[0][0]"
   ]
  },
  {
   "cell_type": "code",
   "execution_count": null,
   "metadata": {},
   "outputs": [],
   "source": [
    "def try_to_date(v):\n",
    "    try:\n",
    "        return datetime.datetime.strptime(v, '%m-%d-%Y')\n",
    "    except Exception as e:\n",
    "        print(f'{e}: {v}')\n",
    "    try:\n",
    "        v = v[:4] + '0' + v[5:]  # handle date mis-input (e.g. 6-31)\n",
    "        return datetime.datetime.strptime(v, '%m-%d-%Y')\n",
    "    except Exception as e:\n",
    "        print(f'{e}: {v}')\n",
    "        return np.nan"
   ]
  },
  {
   "cell_type": "code",
   "execution_count": null,
   "metadata": {},
   "outputs": [],
   "source": [
    "def try_to_time(v):\n",
    "    try:\n",
    "        return datetime.datetime.strptime(v, '%H:%M').time()\n",
    "    except Exception as e:\n",
    "        print(f'{e}: {v}')\n",
    "        return np.nan"
   ]
  },
  {
   "cell_type": "code",
   "execution_count": null,
   "metadata": {},
   "outputs": [],
   "source": [
    "def try_to_combine(date, time):\n",
    "    try:\n",
    "        return datetime.datetime.combine(date, time)\n",
    "    except Exception as e:\n",
    "        print(f'{e}: {date} {time}')\n",
    "    if isinstance(date, datetime.datetime):\n",
    "        return date\n",
    "    return np.nan"
   ]
  },
  {
   "cell_type": "code",
   "execution_count": null,
   "metadata": {},
   "outputs": [],
   "source": [
    "def load_subject_i(subject_idx):\n",
    "    raw_df = pd.read_csv(os.path.join(os.getcwd(), f'data/diabetes/data-{subject_idx:02d}'), sep='\\t', names=['date', 'time', 'code', 'value'])\n",
    "    raw_df['date'] = raw_df['date'].apply(try_to_date)\n",
    "    raw_df['time'] = raw_df['time'].apply(try_to_time)\n",
    "    raw_df['datetime'] = raw_df.apply(lambda row: try_to_combine(row['date'], row['time']), axis=1)\n",
    "    raw_df.drop(columns=['date', 'time'], inplace=True)\n",
    "    raw_df.sort_values(by=['datetime'], inplace=True)\n",
    "    \n",
    "    all_datetimes = raw_df.datetime.values\n",
    "    converted_df = pd.DataFrame(index=range(len(set(all_datetimes))), columns=list(DATA_CODES.values()))\n",
    "\n",
    "    begin_idx = 0\n",
    "    converted_idx = 0\n",
    "    while begin_idx < raw_df.shape[0]:\n",
    "        while begin_idx < raw_df.shape[0] and np.isnan(all_datetimes[begin_idx]):\n",
    "            begin_idx += 1\n",
    "        \n",
    "        end_idx = begin_idx\n",
    "        while end_idx < raw_df.shape[0] and all_datetimes[end_idx] == all_datetimes[begin_idx]:\n",
    "            if raw_df.iloc[end_idx]['code'] in DATA_CODES:\n",
    "                col_name = DATA_CODES[raw_df.iloc[end_idx]['code']]\n",
    "                converted_df.iloc[converted_idx][col_name] = float_or_na(raw_df.iloc[end_idx]['value'])\n",
    "            end_idx += 1\n",
    "        begin_idx = end_idx\n",
    "        converted_idx += 1\n",
    "\n",
    "    outcomes = converted_df.apply(lambda row: combine(row[OUTCOME_COLS]), axis=1)\n",
    "    treatment = converted_df[TREATMENT_COLS].apply(lambda col: combine(col), axis=0)\n",
    "    converted_df.drop(columns=OUTCOME_COLS + TREATMENT_COLS, inplace=True)\n",
    "\n",
    "    mask_df = ~converted_df.isna()\n",
    "    converted_df[pd.isna(converted_df)] = 0\n",
    "    treatment[pd.isna(treatment)] = 0\n",
    "    return (\n",
    "        converted_df.to_numpy(), \n",
    "        mask_df.to_numpy(), \n",
    "        outcomes[pd.notna(outcomes)].to_numpy(), \n",
    "        treatment.to_numpy(),\n",
    "    )"
   ]
  },
  {
   "cell_type": "code",
   "execution_count": null,
   "metadata": {},
   "outputs": [],
   "source": [
    "def load_data():\n",
    "    X = []\n",
    "    M_ = []\n",
    "    Y_pre = []\n",
    "    Y_post = []\n",
    "    A = []\n",
    "\n",
    "    for subject_idx in range(1, N_SUBJECTS + 1):\n",
    "        X_i, M_i, Y_i, A_i = load_subject_i(subject_idx)\n",
    "        X.append(np.concatenate((np.zeros((M * R - X_i.shape[0], X_i.shape[1])), X_i)))\n",
    "        M_.append(np.concatenate((np.zeros((M * R - M_i.shape[0], M_i.shape[1])), M_i)))\n",
    "        Y_pre.append(np.concatenate((np.zeros(H + M - Y_i.shape[0]), Y_i[:-H])))\n",
    "        Y_post.append(Y_i[-H:])\n",
    "        A.append(A_i)\n",
    "\n",
    "    X = np.stack(X)\n",
    "    M_ = np.stack(M_)\n",
    "    Y_pre = np.array(Y_pre)\n",
    "    Y_post = np.array(Y_post)\n",
    "    A = np.array(A)\n",
    "    T = np.transpose(np.tile(np.arange(-M * R, 0), (N_SUBJECTS, X.shape[2], 1)), (0, 2, 1))\n",
    "    return X, M_, Y_pre, Y_post, A, T"
   ]
  },
  {
   "cell_type": "code",
   "execution_count": null,
   "metadata": {},
   "outputs": [],
   "source": [
    "X, M_, Y_pre, Y_post, A, T = load_data()"
   ]
  },
  {
   "cell_type": "code",
   "execution_count": null,
   "metadata": {},
   "outputs": [],
   "source": [
    "X, M_, Y_pre, Y_post, A, T = joblib.load(os.path.join(os.getcwd(), 'data/diabetes/processed.joblib'))\n",
    "D = X.shape[2]\n",
    "K = A.shape[1]\n",
    "C = 4"
   ]
  },
  {
   "cell_type": "code",
   "execution_count": null,
   "metadata": {},
   "outputs": [],
   "source": [
    "joblib.dump((N_SUBJECTS, M, H, R, D, K, C, X, M_, Y_pre, Y_post, A, T), os.path.join(os.getcwd(), 'data/diabetes/hp_search.joblib'))"
   ]
  },
  {
   "cell_type": "markdown",
   "metadata": {},
   "source": [
    "### Data Generation"
   ]
  },
  {
   "cell_type": "code",
   "execution_count": null,
   "metadata": {},
   "outputs": [],
   "source": [
    "def generate_data():\n",
    "    N_train = round(N_SUBJECTS * 0.8)\n",
    "    N_test = round(N_SUBJECTS * 0.2)\n",
    "    X, M_, Y_pre, Y_post, A, T = joblib.load(os.path.join(os.getcwd(), 'data/diabetes/processed.joblib'))\n",
    "    X_train, X_test = X[:N_train], X[N_train:]\n",
    "    M_train, M_test = M_[:N_train], M_[N_train:]\n",
    "    Y_pre_train, Y_pre_test = Y_pre[:N_train], Y_pre[N_train:]\n",
    "    Y_post_train, Y_post_test = Y_post[:N_train], Y_post[N_train:]\n",
    "    A_train, A_test = A[:N_train], A[N_train:]\n",
    "    T_train, T_test = T[:N_train], T[N_train:]\n",
    "    all_data = (\n",
    "        N_SUBJECTS, N_train, N_test, \n",
    "        X_train, X_test, \n",
    "        M_train, M_test, \n",
    "        Y_pre_train, Y_pre_test, \n",
    "        Y_post_train, Y_post_test, \n",
    "        A_train, A_test, \n",
    "        T_train, T_test\n",
    "    )\n",
    "    return all_data"
   ]
  },
  {
   "cell_type": "markdown",
   "metadata": {},
   "source": [
    "## Modelling"
   ]
  },
  {
   "cell_type": "code",
   "execution_count": null,
   "metadata": {},
   "outputs": [],
   "source": [
    "wandb.init(project='mclatte-test', entity='jasonyz')"
   ]
  },
  {
   "cell_type": "code",
   "execution_count": null,
   "metadata": {},
   "outputs": [],
   "source": [
    "def na_catcher(func):\n",
    "    def wrapper_na_catcher(*args, **kwargs):\n",
    "        try:\n",
    "            return func(*args, **kwargs)\n",
    "        except Exception as e:\n",
    "            print(e)\n",
    "            return np.nan\n",
    "    return wrapper_na_catcher"
   ]
  },
  {
   "cell_type": "markdown",
   "metadata": {},
   "source": [
    "### McLatte"
   ]
  },
  {
   "cell_type": "code",
   "execution_count": null,
   "metadata": {},
   "outputs": [],
   "source": [
    "def infer_mcespresso(trained_mcespresso, X_test, A_test, T_test, M_test):\n",
    "    trained_mcespresso.eval()\n",
    "    return trained_mcespresso(\n",
    "        torch.from_numpy(X_test).float(),\n",
    "        torch.from_numpy(A_test).float(),\n",
    "        torch.from_numpy(T_test).float(),\n",
    "        torch.from_numpy(M_test).float(),\n",
    "    )"
   ]
  },
  {
   "cell_type": "markdown",
   "metadata": {},
   "source": [
    "#### Vanilla"
   ]
  },
  {
   "cell_type": "code",
   "execution_count": null,
   "metadata": {},
   "outputs": [],
   "source": [
    "# print(pd.read_csv(os.path.join(os.getcwd(), 'results_pkpd/mclatte_hp_pkpd.csv')).sort_values(by='valid_loss').iloc[0])\n",
    "mclatte_config = {\n",
    "    'encoder_class': 'lstm',\n",
    "    'decoder_class': 'lstm',\n",
    "    'hidden_dim': 64,\n",
    "    'batch_size': 64,\n",
    "    'epochs': 100,\n",
    "    'lr': 0.001944,\n",
    "    'gamma': 0.957115,\n",
    "    'lambda_r': 0.311437,\n",
    "    'lambda_d': 0.118073,\n",
    "    'lambda_p': 0.49999,\n",
    "}"
   ]
  },
  {
   "cell_type": "code",
   "execution_count": null,
   "metadata": {},
   "outputs": [],
   "source": [
    "def test_mclatte(\n",
    "    X_train, \n",
    "    X_test, \n",
    "    M_train, \n",
    "    M_test, \n",
    "    Y_pre_train, \n",
    "    Y_post_train, \n",
    "    Y_post_test, \n",
    "    A_train, \n",
    "    A_test, \n",
    "    T_train, \n",
    "    T_test,\n",
    "    run_idx=0,\n",
    "):\n",
    "    trained_mclatte = train_mclatte(\n",
    "        mclatte_config,\n",
    "        X_train,\n",
    "        M_train,\n",
    "        Y_pre_train,\n",
    "        Y_post_train,\n",
    "        A_train, \n",
    "        T_train,\n",
    "        R,\n",
    "        M,\n",
    "        H,\n",
    "        input_dim=D, \n",
    "        treatment_dim=K, \n",
    "        test_run=run_idx,\n",
    "    )\n",
    "    _, _, y_tilde = infer_mcespresso(\n",
    "        trained_mclatte, X_test, A_test, T_test, M_test\n",
    "    )\n",
    "    \n",
    "    return torch.nn.functional.l1_loss(\n",
    "        y_tilde, \n",
    "        torch.from_numpy(Y_post_test).float()\n",
    "    ).item()"
   ]
  },
  {
   "cell_type": "markdown",
   "metadata": {},
   "source": [
    "#### Semi-Skimmed"
   ]
  },
  {
   "cell_type": "code",
   "execution_count": null,
   "metadata": {},
   "outputs": [],
   "source": [
    "# print(pd.read_csv(os.path.join(os.getcwd(), 'results_pkpd/semi_skimmed_mclatte_hp_pkpd.csv')).sort_values(by='valid_loss').iloc[0])\n",
    "semi_skimmed_mclatte_config = {\n",
    "    'encoder_class': 'lstm',\n",
    "    'decoder_class': 'lstm',\n",
    "    'hidden_dim': 64,\n",
    "    'batch_size': 64,\n",
    "    'epochs': 100,\n",
    "    'lr': 0.001944,\n",
    "    'gamma': 0.957115,\n",
    "    'lambda_r': 0.311437,\n",
    "    'lambda_d': 0.118073,\n",
    "    'lambda_p': 0.49999,\n",
    "}"
   ]
  },
  {
   "cell_type": "code",
   "execution_count": null,
   "metadata": {},
   "outputs": [],
   "source": [
    "def test_semi_skimmed_mclatte(\n",
    "    X_train, \n",
    "    X_test, \n",
    "    M_train, \n",
    "    M_test, \n",
    "    Y_pre_train, \n",
    "    Y_post_train, \n",
    "    Y_post_test, \n",
    "    A_train, \n",
    "    A_test, \n",
    "    T_train, \n",
    "    T_test,\n",
    "    run_idx=0,\n",
    "):\n",
    "    trained_semi_skimmed_mclatte = train_semi_skimmed_mclatte(\n",
    "        semi_skimmed_mclatte_config,\n",
    "        X_train,\n",
    "        M_train,\n",
    "        Y_pre_train,\n",
    "        Y_post_train,\n",
    "        A_train, \n",
    "        T_train,\n",
    "        R,\n",
    "        M,\n",
    "        H,\n",
    "        input_dim=D, \n",
    "        treatment_dim=K, \n",
    "        test_run=run_idx,\n",
    "    )\n",
    "    _, _, y_tilde = infer_mcespresso(\n",
    "        trained_semi_skimmed_mclatte, X_test, A_test, T_test, M_test\n",
    "    )\n",
    "    \n",
    "    return torch.nn.functional.l1_loss(\n",
    "        y_tilde, \n",
    "        torch.from_numpy(Y_post_test).float()\n",
    "    ).item()"
   ]
  },
  {
   "cell_type": "markdown",
   "metadata": {},
   "source": [
    "#### Skimmed"
   ]
  },
  {
   "cell_type": "code",
   "execution_count": null,
   "metadata": {},
   "outputs": [],
   "source": [
    "# print(pd.read_csv(os.path.join(os.getcwd(), 'results_pkpd/skimmed_mclatte_hp_pkpd.csv')).sort_values(by='valid_loss').iloc[0])\n",
    "skimmed_mclatte_config = {\n",
    "    'encoder_class': 'lstm',\n",
    "    'decoder_class': 'lstm',\n",
    "    'hidden_dim': 64,\n",
    "    'batch_size': 64,\n",
    "    'epochs': 100,\n",
    "    'lr': 0.021114,\n",
    "    'gamma': 0.980614,\n",
    "    'lambda_r': 0.093878,\n",
    "    'lambda_p': 0.485204,\n",
    "}"
   ]
  },
  {
   "cell_type": "code",
   "execution_count": null,
   "metadata": {},
   "outputs": [],
   "source": [
    "def test_skimmed_mclatte(\n",
    "    X_train, \n",
    "    X_test, \n",
    "    M_train, \n",
    "    M_test, \n",
    "    Y_pre_train, \n",
    "    Y_post_train, \n",
    "    Y_post_test, \n",
    "    A_train, \n",
    "    A_test, \n",
    "    T_train, \n",
    "    T_test,\n",
    "    run_idx=0,\n",
    "):\n",
    "    trained_skimmed_mclatte = train_skimmed_mclatte(\n",
    "        skimmed_mclatte_config,\n",
    "        X_train,\n",
    "        M_train,\n",
    "        Y_pre_train,\n",
    "        Y_post_train,\n",
    "        A_train, \n",
    "        T_train,\n",
    "        R,\n",
    "        M,\n",
    "        H,\n",
    "        input_dim=D, \n",
    "        treatment_dim=K, \n",
    "        test_run=run_idx,\n",
    "    )\n",
    "    _, y_tilde = infer_mcespresso(\n",
    "        trained_skimmed_mclatte, X_test, A_test, T_test, M_test\n",
    "    )\n",
    "    \n",
    "    return torch.nn.functional.l1_loss(\n",
    "        y_tilde, \n",
    "        torch.from_numpy(Y_post_test).float()\n",
    "    ).item()"
   ]
  },
  {
   "cell_type": "markdown",
   "metadata": {},
   "source": [
    "### Baseline RNN"
   ]
  },
  {
   "cell_type": "code",
   "execution_count": null,
   "metadata": {},
   "outputs": [],
   "source": [
    "# print(pd.read_csv(os.path.join(os.getcwd(), 'results/baseline_rnn_hp_pkpd.csv')).sort_values(by='valid_loss').iloc[0])\n",
    "rnn_config = {\n",
    "    'rnn_class': 'gru',\n",
    "    'hidden_dim': 64,\n",
    "    'seq_len': 2,\n",
    "    'batch_size': 64,\n",
    "    'epochs': 100,\n",
    "    'lr': 0.025182,\n",
    "    'gamma': 0.543008,\n",
    "}"
   ]
  },
  {
   "cell_type": "code",
   "execution_count": null,
   "metadata": {},
   "outputs": [],
   "source": [
    "def rnn_predict(trained_rnn, Y_pre, Y_post, return_Y_pred=False):\n",
    "    \"\"\"\n",
    "    Make predictions using results from previous time steps.\n",
    "    \"\"\"\n",
    "    Y = Y_pre\n",
    "    losses = 0.0\n",
    "    Y_pred = []\n",
    "    for i in range(Y_post.shape[1]):\n",
    "        Y_tilde = trained_rnn(\n",
    "            torch.from_numpy(Y).float().unsqueeze(2)\n",
    "        ).squeeze()\n",
    "\n",
    "        Y = np.concatenate((\n",
    "            Y[:, 1:], \n",
    "            Y_tilde.cpu().detach().numpy()[:, [-1]]\n",
    "        ), axis=1)\n",
    "        \n",
    "        losses += torch.nn.functional.l1_loss(\n",
    "            Y_tilde[:, -1], \n",
    "            torch.from_numpy(Y_post).float()[:, i]\n",
    "        ).item()\n",
    "        Y_pred.append(Y_tilde[:, -1])\n",
    "    if return_Y_pred:\n",
    "        return torch.stack(Y_pred, 1)\n",
    "    return losses / Y_post.shape[1]"
   ]
  },
  {
   "cell_type": "code",
   "execution_count": null,
   "metadata": {},
   "outputs": [],
   "source": [
    "def infer_rnn(trained_rnn, Y_pre_test, Y_post_test, return_Y_pred=False):\n",
    "    trained_rnn.eval()\n",
    "    return rnn_predict(trained_rnn, Y_pre_test, Y_post_test, return_Y_pred)"
   ]
  },
  {
   "cell_type": "code",
   "execution_count": null,
   "metadata": {},
   "outputs": [],
   "source": [
    "def test_rnn(\n",
    "    Y_pre_train, \n",
    "    Y_pre_test, \n",
    "    Y_post_train, \n",
    "    Y_post_test, \n",
    "    run_idx=0,\n",
    "):\n",
    "    trained_rnn = train_baseline_rnn(\n",
    "        rnn_config,\n",
    "        Y=np.concatenate((Y_pre_train, Y_post_train), axis=1),\n",
    "        input_dim=1, \n",
    "        test_run=run_idx,\n",
    "    )\n",
    "\n",
    "    trained_rnn.eval()\n",
    "    return rnn_predict(trained_rnn, Y_pre_test, Y_post_test)"
   ]
  },
  {
   "cell_type": "markdown",
   "metadata": {},
   "source": [
    "### SyncTwin"
   ]
  },
  {
   "cell_type": "code",
   "execution_count": null,
   "metadata": {},
   "outputs": [],
   "source": [
    "# print(pd.read_csv(os.path.join(os.getcwd(), 'results/synctwin_hp_pkpd.csv')).sort_values(by='valid_loss').iloc[0])\n",
    "synctwin_config = {\n",
    "    'hidden_dim': 128,\n",
    "    'reg_B': 0.778155,\n",
    "    'lam_express': 0.658256,\n",
    "    'lam_recon': 0.086627,\n",
    "    'lam_prognostic': 0.631468,\n",
    "    'tau': 0.911613,\n",
    "    'batch_size': 32,\n",
    "    'epochs': 100,\n",
    "    'lr': 0.003222,\n",
    "    'gamma': 0.572529,\n",
    "}"
   ]
  },
  {
   "cell_type": "code",
   "execution_count": null,
   "metadata": {},
   "outputs": [],
   "source": [
    "def infer_synctwin(trained_synctwin, N_test, Y_post_test):\n",
    "    trained_synctwin.eval()\n",
    "    return trained_synctwin._sync_twin.get_prognostics(\n",
    "        torch.arange(0, N_test).cpu(),  \n",
    "        torch.from_numpy(Y_post_test).float().cpu()\n",
    "    )"
   ]
  },
  {
   "cell_type": "code",
   "execution_count": null,
   "metadata": {},
   "outputs": [],
   "source": [
    "def test_synctwin(\n",
    "    N_train, \n",
    "    N_test, \n",
    "    X_train, \n",
    "    X_test, \n",
    "    M_train, \n",
    "    M_test, \n",
    "    Y_post_train, \n",
    "    Y_post_test, \n",
    "    A_train, \n",
    "    A_test, \n",
    "    T_train, \n",
    "    T_test,\n",
    "    run_idx=0,\n",
    "):\n",
    "    Y_mask_train = np.all(A_train == 0, axis=1)\n",
    "    Y_mask_test = np.all(A_test == 0, axis=1)\n",
    "    Y_control_train = Y_post_train[Y_mask_train]\n",
    "\n",
    "    trained_synctwin = train_synctwin(\n",
    "        synctwin_config,\n",
    "        X=X_train,\n",
    "        M_=M_train,\n",
    "        T=T_train,\n",
    "        Y_batch=Y_post_train,\n",
    "        Y_control=Y_control_train,\n",
    "        Y_mask=Y_mask_train, \n",
    "        N=N_train,\n",
    "        D=D,\n",
    "        n_treated=N_train - Y_control_train.shape[0],\n",
    "        pre_trt_x_len=R * M,\n",
    "        test_run=run_idx,\n",
    "    )\n",
    "\n",
    "    trained_synctwin.eval()\n",
    "    _, l1_loss = trained_synctwin(\n",
    "        torch.from_numpy(X_test).float(),\n",
    "        torch.from_numpy(T_test).float(),\n",
    "        torch.from_numpy(M_test).float(),\n",
    "        torch.arange(0, N_test),\n",
    "        torch.from_numpy(Y_post_test).float(),\n",
    "        torch.from_numpy(Y_mask_test).float(),\n",
    "    )\n",
    "    return l1_loss.item()"
   ]
  },
  {
   "cell_type": "markdown",
   "metadata": {},
   "source": [
    "## Test Models"
   ]
  },
  {
   "cell_type": "code",
   "execution_count": null,
   "metadata": {},
   "outputs": [],
   "source": [
    "N_TEST = 5"
   ]
  },
  {
   "cell_type": "code",
   "execution_count": null,
   "metadata": {},
   "outputs": [],
   "source": [
    "def run_tests():\n",
    "    mclatte_losses = []\n",
    "    semi_skimmed_mclatte_losses = []\n",
    "    skimmed_mclatte_losses = []\n",
    "    rnn_losses = []\n",
    "    synctwin_losses = []\n",
    "    for i in range(1, N_TEST + 1):\n",
    "        (\n",
    "            _, \n",
    "            N_train, \n",
    "            N_test, \n",
    "            X_train, \n",
    "            X_test, \n",
    "            M_train, \n",
    "            M_test, \n",
    "            Y_pre_train, \n",
    "            Y_pre_test, \n",
    "            Y_post_train, \n",
    "            Y_post_test, \n",
    "            A_train, \n",
    "            A_test, \n",
    "            T_train, \n",
    "            T_test,\n",
    "        ) = generate_data()\n",
    "\n",
    "        mclatte_losses.append(test_mclatte(\n",
    "            X_train, \n",
    "            X_test, \n",
    "            M_train, \n",
    "            M_test, \n",
    "            Y_pre_train, \n",
    "            Y_post_train, \n",
    "            Y_post_test, \n",
    "            A_train, \n",
    "            A_test, \n",
    "            T_train, \n",
    "            T_test,\n",
    "            run_idx=i,\n",
    "        ))\n",
    "        semi_skimmed_mclatte_losses.append(test_semi_skimmed_mclatte(\n",
    "            X_train, \n",
    "            X_test, \n",
    "            M_train, \n",
    "            M_test, \n",
    "            Y_pre_train, \n",
    "            Y_post_train, \n",
    "            Y_post_test, \n",
    "            A_train, \n",
    "            A_test, \n",
    "            T_train, \n",
    "            T_test,\n",
    "            run_idx=i,\n",
    "        ))\n",
    "        skimmed_mclatte_losses.append(test_skimmed_mclatte(\n",
    "            X_train, \n",
    "            X_test, \n",
    "            M_train, \n",
    "            M_test, \n",
    "            Y_pre_train, \n",
    "            Y_post_train, \n",
    "            Y_post_test, \n",
    "            A_train, \n",
    "            A_test, \n",
    "            T_train, \n",
    "            T_test,\n",
    "            run_idx=i,\n",
    "        ))\n",
    "\n",
    "        rnn_losses.append(test_rnn(\n",
    "            Y_pre_train, \n",
    "            Y_pre_test, \n",
    "            Y_post_train, \n",
    "            Y_post_test, \n",
    "            run_idx=i,\n",
    "        ))\n",
    "\n",
    "        synctwin_losses.append(test_synctwin(\n",
    "            N_train, \n",
    "            N_test, \n",
    "            X_train, \n",
    "            X_test, \n",
    "            M_train, \n",
    "            M_test, \n",
    "            Y_post_train, \n",
    "            Y_post_test, \n",
    "            A_train, \n",
    "            A_test, \n",
    "            T_train, \n",
    "            T_test,\n",
    "            run_idx=i,\n",
    "        ))\n",
    "        joblib.dump((\n",
    "            mclatte_losses, \n",
    "            semi_skimmed_mclatte_losses, \n",
    "            skimmed_mclatte_losses, \n",
    "            rnn_losses,\n",
    "            synctwin_losses,\n",
    "        ), f'results/test/diabetes.joblib')"
   ]
  },
  {
   "cell_type": "markdown",
   "metadata": {},
   "source": [
    "#### Check finished runs results"
   ]
  },
  {
   "cell_type": "code",
   "execution_count": null,
   "metadata": {},
   "outputs": [],
   "source": [
    "def print_losses():\n",
    "    (\n",
    "        config, \n",
    "        mclatte_losses, \n",
    "        semi_skimmed_mclatte_losses, \n",
    "        skimmed_mclatte_losses, \n",
    "        rnn_losses,\n",
    "        synctwin_losses,\n",
    "    ) = joblib.load(f'results_diabetes/maes/diabetes.joblib')\n",
    "    for losses in mclatte_losses, synctwin_losses, rnn_losses:\n",
    "        print(f'{np.mean(losses):.3f} ({np.std(losses):.3f})')"
   ]
  },
  {
   "cell_type": "markdown",
   "metadata": {},
   "source": [
    "### Statistical Testing"
   ]
  },
  {
   "cell_type": "code",
   "execution_count": null,
   "metadata": {},
   "outputs": [],
   "source": [
    "LOSS_NAMES = ['McLatte', 'Semi-Skimmed McLatte', 'Skimmed McLatte', 'RNN', 'SyncTwin']"
   ]
  },
  {
   "cell_type": "code",
   "execution_count": null,
   "metadata": {},
   "outputs": [],
   "source": [
    "def test_losses(losses):\n",
    "    t_test_results = pd.DataFrame(columns=LOSS_NAMES, index=LOSS_NAMES)\n",
    "\n",
    "    for i in range(len(LOSS_NAMES)):\n",
    "        for j in range(len(LOSS_NAMES)):\n",
    "            t = ttest_ind(losses[i], losses[j], alternative='less')\n",
    "            t_test_results[LOSS_NAMES[i]][LOSS_NAMES[j]] = t.pvalue\n",
    "    return t_test_results"
   ]
  },
  {
   "cell_type": "code",
   "execution_count": null,
   "metadata": {},
   "outputs": [],
   "source": [
    "losses = joblib.load(f'results_diabetes/maes/diabetes.joblib')\n",
    "test_losses(losses)"
   ]
  },
  {
   "cell_type": "markdown",
   "metadata": {},
   "source": [
    "### Plot with trained models"
   ]
  },
  {
   "cell_type": "code",
   "execution_count": null,
   "metadata": {},
   "outputs": [],
   "source": [
    "PLOT_NAME = {\n",
    "    'skimmed_mclatte': 'S',\n",
    "    'semi_skimmed_mclatte': 'SS',\n",
    "    'mclatte': 'V',\n",
    "    'rnn': 'RNN',\n",
    "    'synctwin': 'SyncTwin',\n",
    "}"
   ]
  },
  {
   "cell_type": "code",
   "execution_count": null,
   "metadata": {},
   "outputs": [],
   "source": [
    "def line_model_pred(fig, model, name, infer_model, plot_sub_id, post_t, y_pre_plot, file_suffix, *infer_args):\n",
    "    trained_model = model.load_from_checkpoint(os.path.join(os.getcwd(), f'results_idt/trained_models/{name}.ckpt'))\n",
    "    y_tilde = infer_model(trained_model, *infer_args)\n",
    "    y_pred_plot = [y_pre_plot[-1]] + list(y_tilde.detach().numpy()[plot_sub_id])\n",
    "    line_pred_model = go.Scatter(x=post_t, y=y_pred_plot, name=f'{PLOT_NAME[name]}{file_suffix}', line={'dash': 'dash'})\n",
    "    fig.add_trace(line_pred_model)"
   ]
  },
  {
   "cell_type": "code",
   "execution_count": null,
   "metadata": {},
   "outputs": [],
   "source": [
    "def plot_subject(fig, plot_sub_id, N_test, X_test, M_test, post_t, y_pre_plot, A_test, T_test, file_suffix=''):\n",
    "    line_model_pred(fig, SkimmedMcLatte, 'skimmed_mclatte', lambda *args: infer_mcespresso(*args)[1], \n",
    "                    plot_sub_id, post_t, y_pre_plot, file_suffix, X_test, A_test, T_test, M_test)\n",
    "    line_model_pred(fig, SemiSkimmedMcLatte, 'semi_skimmed_mclatte', lambda *args: infer_mcespresso(*args)[2], \n",
    "                    plot_sub_id, post_t, y_pre_plot, file_suffix, X_test, A_test, T_test, M_test)\n",
    "    line_model_pred(fig, McLatte, 'mclatte', lambda *args: infer_mcespresso(*args)[2], \n",
    "                    plot_sub_id, post_t, y_pre_plot, file_suffix, X_test, A_test, T_test, M_test)\n",
    "    # line_model_pred(fig, BaselineRnn, 'rnn', lambda *args: infer_rnn(*args, return_Y_pred=True), \n",
    "    #                 plot_sub_id, post_t, y_pre_plot, file_suffix, Y_pre_test, Y_post_test)\n",
    "    # line_model_pred(fig, SyncTwinPl, 'synctwin', lambda *args: infer_synctwin(*args), \n",
    "    #                 plot_sub_id, post_t, y_pre_plot, file_suffix, N_test, Y_post_test)\n",
    "    "
   ]
  },
  {
   "cell_type": "code",
   "execution_count": null,
   "metadata": {},
   "outputs": [],
   "source": [
    "def plot_config_results(file_suffix=''):\n",
    "    (\n",
    "        _, _, N_test, \n",
    "        _, X_test, \n",
    "        _, M_test, \n",
    "        _, Y_pre_test, \n",
    "        _, Y_post_test, \n",
    "        _, A_test, \n",
    "        _, T_test,\n",
    "    ) = generate_data()\n",
    "\n",
    "    for plot_sub_id in range(N_test):\n",
    "        y_pre_plot = Y_pre_test[plot_sub_id]\n",
    "        pre_t = list(np.arange(y_pre_plot.shape[0]) - y_pre_plot.shape[0])\n",
    "\n",
    "        y_post_plot = [y_pre_plot[-1]] + list(Y_post_test[plot_sub_id])\n",
    "        post_t = np.arange(len(y_post_plot))\n",
    "        \n",
    "        trt_str = ', '.join(map(\n",
    "            lambda x: str(round(x, 2)) if abs(x - round(x)) > 5e-2 else str(int(x)), \n",
    "            A_test[plot_sub_id]\n",
    "        ))\n",
    "\n",
    "        fig = go.Figure()\n",
    "        line_pre_trt = go.Scatter(x=pre_t + list(post_t), y=list(y_pre_plot) + y_post_plot, name='ground truth')\n",
    "        fig.add_trace(line_pre_trt)\n",
    "\n",
    "        plot_subject(fig, plot_sub_id, N_test, X_test, M_test, post_t, y_pre_plot, A_test, T_test)\n",
    "        A_test[plot_sub_id] = np.ones_like(A_test[plot_sub_id]) if not (A_test[plot_sub_id] == 0).all() else np.zeros_like(A_test[plot_sub_id])\n",
    "        plot_subject(fig, plot_sub_id, N_test, X_test, M_test, post_t, y_pre_plot, A_test, T_test, file_suffix=' 01')\n",
    "        \n",
    "        fig.update_layout(\n",
    "            title=f'Outcome for Treatment Vector ({trt_str})', \n",
    "            yaxis_title='Outcome', \n",
    "            xaxis_title='Time',\n",
    "            legend=dict(\n",
    "                orientation=\"h\",\n",
    "                yanchor=\"bottom\",\n",
    "                y=1.02,\n",
    "                xanchor=\"right\",\n",
    "                x=1\n",
    "            ),\n",
    "        )\n",
    "        fig.write_image(f'plots/diabetes/outcome_pred_{plot_sub_id}{file_suffix}.png')"
   ]
  },
  {
   "cell_type": "code",
   "execution_count": null,
   "metadata": {},
   "outputs": [],
   "source": [
    "plot_config_results()"
   ]
  }
 ],
 "metadata": {
  "interpreter": {
   "hash": "852d66bd2a456ad8c66b277a4fc8ac1a7bcd6ab870e3be824a8a6385faf13d3b"
  },
  "kernelspec": {
   "display_name": "Python 3.9.9 64-bit ('.venv.mclatte': venv)",
   "language": "python",
   "name": "python3"
  },
  "language_info": {
   "codemirror_mode": {
    "name": "ipython",
    "version": 3
   },
   "file_extension": ".py",
   "mimetype": "text/x-python",
   "name": "python",
   "nbconvert_exporter": "python",
   "pygments_lexer": "ipython3",
   "version": "3.9.9"
  },
  "orig_nbformat": 4
 },
 "nbformat": 4,
 "nbformat_minor": 2
}
