{
 "cells": [
  {
   "cell_type": "markdown",
   "metadata": {},
   "source": [
    "## Exploratory Data Analysis"
   ]
  },
  {
   "cell_type": "code",
   "execution_count": 1,
   "metadata": {},
   "outputs": [],
   "source": [
    "import joblib\n",
    "import numpy as np\n",
    "import os\n",
    "import pandas as pd\n",
    "import plotly.graph_objects as go\n",
    "import ray\n",
    "import torch\n",
    "import wandb\n",
    "from mclatte.model import train_mclatte\n",
    "from mclatte.simulation_data import generate_simulation_data, TreatmentRepr\n",
    "from ray import tune\n",
    "from rnn.model import train_baseline_rnn\n",
    "from synctwin.model import train_synctwin"
   ]
  },
  {
   "cell_type": "code",
   "execution_count": 2,
   "metadata": {},
   "outputs": [],
   "source": [
    "np.random.seed(509)"
   ]
  },
  {
   "cell_type": "code",
   "execution_count": 2,
   "metadata": {},
   "outputs": [
    {
     "name": "stderr",
     "output_type": "stream",
     "text": [
      "Failed to detect the name of this notebook, you can set it manually with the WANDB_NOTEBOOK_NAME environment variable to enable code saving.\n",
      "\u001b[34m\u001b[1mwandb\u001b[0m: Currently logged in as: \u001b[33mjasonyz\u001b[0m (use `wandb login --relogin` to force relogin)\n",
      "c:\\Users\\Jason\\Projects\\McLatte\\.venv.mclatte\\lib\\site-packages\\IPython\\html.py:12: ShimWarning: The `IPython.html` package has been deprecated since IPython 4.0. You should import from `notebook` instead. `IPython.html.widgets` has moved to `ipywidgets`.\n",
      "  warn(\"The `IPython.html` package has been deprecated since IPython 4.0. \"\n"
     ]
    },
    {
     "data": {
      "text/html": [
       "\n",
       "                    Syncing run <strong><a href=\"https://wandb.ai/jasonyz/mclatte-test/runs/sklzool0\" target=\"_blank\">dry-haze-125</a></strong> to <a href=\"https://wandb.ai/jasonyz/mclatte-test\" target=\"_blank\">Weights & Biases</a> (<a href=\"https://docs.wandb.com/integrations/jupyter.html\" target=\"_blank\">docs</a>).<br/>\n",
       "\n",
       "                "
      ],
      "text/plain": [
       "<IPython.core.display.HTML object>"
      ]
     },
     "metadata": {},
     "output_type": "display_data"
    }
   ],
   "source": [
    "wandb.init(project='mclatte-test', entity='jasonyz')"
   ]
  },
  {
   "cell_type": "code",
   "execution_count": 3,
   "metadata": {},
   "outputs": [
    {
     "data": {
      "text/plain": [
       "{'node_ip_address': '127.0.0.1',\n",
       " 'raylet_ip_address': '127.0.0.1',\n",
       " 'redis_address': '127.0.0.1:6379',\n",
       " 'object_store_address': 'tcp://127.0.0.1:64028',\n",
       " 'raylet_socket_name': 'tcp://127.0.0.1:59951',\n",
       " 'webui_url': None,\n",
       " 'session_dir': 'C:\\\\Users\\\\Jason\\\\AppData\\\\Local\\\\Temp\\\\ray\\\\session_2021-12-10_14-32-27_890431_9528',\n",
       " 'metrics_export_port': 61737,\n",
       " 'node_id': 'ab1cee49e6887541ad2776ecd8517aeda619e137bfa0a8cc81b61a59'}"
      ]
     },
     "execution_count": 3,
     "metadata": {},
     "output_type": "execute_result"
    }
   ],
   "source": [
    "ray.init(address=None)"
   ]
  },
  {
   "cell_type": "markdown",
   "metadata": {},
   "source": [
    "Experiment Constants"
   ]
  },
  {
   "cell_type": "code",
   "execution_count": 4,
   "metadata": {},
   "outputs": [],
   "source": [
    "N_train, M, H, R, D, K, C, X_train, M_train, Y_pre_train, Y_post_train, A_train, T_train = joblib.load(\n",
    "    os.path.join(os.getcwd(), f'data/simulation/data.joblib')\n",
    ")"
   ]
  },
  {
   "cell_type": "code",
   "execution_count": 5,
   "metadata": {},
   "outputs": [],
   "source": [
    "N_test, M, H, R, D, K, C, X_test, M_test, Y_pre_test, Y_post_test, A_test, T_test = joblib.load(\n",
    "    os.path.join(os.getcwd(), 'data/simulation/test_data.joblib')\n",
    ")"
   ]
  },
  {
   "cell_type": "code",
   "execution_count": 10,
   "metadata": {},
   "outputs": [],
   "source": [
    "N = 250\n",
    "N_train = 200\n",
    "N_test = 50\n",
    "M = 5\n",
    "H = 5\n",
    "R = 5\n",
    "D = 10\n",
    "K = 3\n",
    "C = 4"
   ]
  },
  {
   "cell_type": "code",
   "execution_count": 14,
   "metadata": {},
   "outputs": [],
   "source": [
    "X, M_, Y_pre, Y_post, A, T = generate_simulation_data(N, M, H, R, D, K, C, TreatmentRepr.BOUNDED)"
   ]
  },
  {
   "cell_type": "code",
   "execution_count": 15,
   "metadata": {},
   "outputs": [],
   "source": [
    "X_train, X_test = X[:N_train], X[N_train:]\n",
    "M_train, M_test = M_[:N_train], M_[N_train:]\n",
    "Y_pre_train, Y_pre_test = Y_pre[:N_train], Y_pre[N_train:]\n",
    "Y_post_train, Y_post_test = Y_post[:N_train], Y_post[N_train:]\n",
    "A_train, A_test = A[:N_train], A[N_train:]\n",
    "T_train, T_test = T[:N_train], T[N_train:]"
   ]
  },
  {
   "cell_type": "code",
   "execution_count": 16,
   "metadata": {},
   "outputs": [
    {
     "data": {
      "text/plain": [
       "['data/simulation/test_data_uniform_200.joblib']"
      ]
     },
     "execution_count": 16,
     "metadata": {},
     "output_type": "execute_result"
    }
   ],
   "source": [
    "joblib.dump((N_train, M, H, R, D, K, C, X_train, M_train, Y_pre_train, Y_post_train, A_train, T_train), 'data/simulation/data_uniform_200.joblib')\n",
    "joblib.dump((N_test, M, H, R, D, K, C, X_test, M_test, Y_pre_test, Y_post_test, A_test, T_test), 'data/simulation/test_data_uniform_200.joblib')"
   ]
  },
  {
   "cell_type": "markdown",
   "metadata": {},
   "source": [
    "### Visualizations"
   ]
  },
  {
   "cell_type": "code",
   "execution_count": null,
   "metadata": {},
   "outputs": [],
   "source": [
    "sample_ids = np.random.randint(N, size=10)"
   ]
  },
  {
   "cell_type": "markdown",
   "metadata": {},
   "source": [
    "Covariates"
   ]
  },
  {
   "cell_type": "code",
   "execution_count": null,
   "metadata": {},
   "outputs": [],
   "source": [
    "fig = go.Figure()\n",
    "for feature_idx in range(D):\n",
    "    values = np.mean(X[sample_ids, :, feature_idx], axis=0)\n",
    "    fig.add_trace(go.Scatter(x=list(range(R * M)), y=values, name=f'feature {feature_idx}'))\n",
    "fig.update_layout(\n",
    "    title='Average Covariate Values',\n",
    "    xaxis_title='t',\n",
    "    yaxis_title='Feature Value'\n",
    ")\n",
    "fig.show()"
   ]
  },
  {
   "cell_type": "markdown",
   "metadata": {},
   "source": [
    "Treatment Causes"
   ]
  },
  {
   "cell_type": "code",
   "execution_count": null,
   "metadata": {},
   "outputs": [],
   "source": [
    "fig = go.Figure(data=go.Heatmap(z=A[sample_ids].T))\n",
    "fig.update_layout(\n",
    "    title='Treatment Causes',\n",
    "    xaxis_title='Sample ID',\n",
    "    yaxis_title='Cause'\n",
    ")\n",
    "fig.show()"
   ]
  },
  {
   "cell_type": "markdown",
   "metadata": {},
   "source": [
    "Treatment Outcomes"
   ]
  },
  {
   "cell_type": "code",
   "execution_count": null,
   "metadata": {},
   "outputs": [],
   "source": [
    "Y_sampled = np.concatenate((Y_pre, Y_post), axis=1)[sample_ids, :]"
   ]
  },
  {
   "cell_type": "code",
   "execution_count": null,
   "metadata": {},
   "outputs": [],
   "source": [
    "fig = go.Figure()\n",
    "for sample_idx in range(len(sample_ids)):\n",
    "    values = Y_sampled[sample_idx, :]\n",
    "    fig.add_trace(go.Scatter(x=list(range(M + H)), y=values, name=f'Sample {sample_idx}'))\n",
    "fig.update_layout(\n",
    "    title='Sampled Treatment Outcomes',\n",
    "    xaxis_title='t',\n",
    "    yaxis_title='Outcome Value'\n",
    ")\n",
    "fig.show()"
   ]
  },
  {
   "cell_type": "markdown",
   "metadata": {},
   "source": [
    "## Modelling"
   ]
  },
  {
   "cell_type": "markdown",
   "metadata": {},
   "source": [
    "Train McLatte and benchmark models to test their performance"
   ]
  },
  {
   "cell_type": "markdown",
   "metadata": {},
   "source": [
    "### McLatte"
   ]
  },
  {
   "cell_type": "code",
   "execution_count": 6,
   "metadata": {},
   "outputs": [
    {
     "data": {
      "text/plain": [
       "trial_id                                                          2897e_00014\n",
       "loss                                                               119.389359\n",
       "valid_loss                                                           1.869723\n",
       "time_this_iter_s                                                    84.108797\n",
       "done                                                                     True\n",
       "timesteps_total                                                           NaN\n",
       "episodes_total                                                            NaN\n",
       "training_iteration                                                         13\n",
       "experiment_id                                a84191b222894e398ba479af36b8b602\n",
       "date                                                      2021-12-10_09-12-45\n",
       "timestamp                                                          1639127565\n",
       "time_total_s                                                       1118.42367\n",
       "pid                                                                      2464\n",
       "hostname                                                      DESKTOP-F823HCV\n",
       "node_ip                                                             127.0.0.1\n",
       "time_since_restore                                                 1118.42367\n",
       "timesteps_since_restore                                                     0\n",
       "iterations_since_restore                                                   13\n",
       "experiment_tag              14_batch_size=64,decoder_class=lstm,encoder_cl...\n",
       "config.encoder_class                                                     lstm\n",
       "config.decoder_class                                                     lstm\n",
       "config.hidden_dim                                                          64\n",
       "config.batch_size                                                          64\n",
       "config.epochs                                                             100\n",
       "config.lr                                                              0.0151\n",
       "config.gamma                                                         0.986855\n",
       "config.lambda_r                                                      1.928836\n",
       "config.lambda_s                                                      0.042385\n",
       "Name: 0, dtype: object"
      ]
     },
     "execution_count": 6,
     "metadata": {},
     "output_type": "execute_result"
    }
   ],
   "source": [
    "pd.read_csv(os.path.join(os.getcwd(), 'results/mclatte_hp.csv')).sort_values(by='valid_loss').iloc[0]"
   ]
  },
  {
   "cell_type": "code",
   "execution_count": 7,
   "metadata": {},
   "outputs": [],
   "source": [
    "mclatte_config = {\n",
    "    'encoder_class': 'lstm',\n",
    "    'decoder_class': 'lstm',\n",
    "    'hidden_dim': 64,\n",
    "    'batch_size': 64,\n",
    "    'epochs': 100,\n",
    "    'lr': 0.0151,\n",
    "    'gamma': 0.986855,\n",
    "    'lambda_r': 1.928836,\n",
    "    'lambda_s': 0.042385,\n",
    "}"
   ]
  },
  {
   "cell_type": "code",
   "execution_count": 8,
   "metadata": {},
   "outputs": [
    {
     "name": "stderr",
     "output_type": "stream",
     "text": [
      "GPU available: True, used: True\n",
      "TPU available: False, using: 0 TPU cores\n",
      "IPU available: False, using: 0 IPUs\n",
      "LOCAL_RANK: 0 - CUDA_VISIBLE_DEVICES: [0]\n",
      "\n",
      "  | Name     | Type        | Params\n",
      "-----------------------------------------\n",
      "0 | _encoder | LstmEncoder | 23.9 K\n",
      "1 | _decoder | LstmDecoder | 33.9 K\n",
      "-----------------------------------------\n",
      "58.1 K    Trainable params\n",
      "0         Non-trainable params\n",
      "58.1 K    Total params\n",
      "0.232     Total estimated model params size (MB)\n",
      "c:\\Users\\Jason\\Projects\\McLatte\\.venv.mclatte\\lib\\site-packages\\pytorch_lightning\\trainer\\deprecated_api.py:25: LightningDeprecationWarning: `Trainer.running_sanity_check` has been renamed to `Trainer.sanity_checking` and will be removed in v1.5.\n",
      "  rank_zero_deprecation(\n",
      "c:\\Users\\Jason\\Projects\\McLatte\\.venv.mclatte\\lib\\site-packages\\pytorch_lightning\\trainer\\data_loading.py:326: UserWarning: The number of training samples (2) is smaller than the logging interval Trainer(log_every_n_steps=50). Set a lower value for log_every_n_steps if you want to see logs for the training epoch.\n",
      "  rank_zero_warn(\n",
      "2021-12-10 14:33:36,251\tWARNING session.py:32 -- Session not detected. You should not be calling `report` outside `tune.run` or while using the class API. \n",
      "2021-12-10 14:33:36,251\tWARNING session.py:36 --   File \"c:\\Users\\Jason\\.vscode\\extensions\\ms-toolsai.jupyter-2021.11.1001550889\\pythonFiles\\vscode_datascience_helpers\\kernel_prewarm_starter.py\", line 31, in <module>\n",
      "    runpy.run_module(module, run_name=\"__main__\", alter_sys=False)\n",
      "  File \"C:\\Program Files\\WindowsApps\\PythonSoftwareFoundation.Python.3.9_3.9.2544.0_x64__qbz5n2kfra8p0\\lib\\runpy.py\", line 213, in run_module\n",
      "    return _run_code(code, {}, init_globals, run_name, mod_spec)\n",
      "  File \"C:\\Program Files\\WindowsApps\\PythonSoftwareFoundation.Python.3.9_3.9.2544.0_x64__qbz5n2kfra8p0\\lib\\runpy.py\", line 87, in _run_code\n",
      "    exec(code, run_globals)\n",
      "  File \"c:\\Users\\Jason\\Projects\\McLatte\\.venv.mclatte\\lib\\site-packages\\ipykernel_launcher.py\", line 16, in <module>\n",
      "    app.launch_new_instance()\n",
      "  File \"c:\\Users\\Jason\\Projects\\McLatte\\.venv.mclatte\\lib\\site-packages\\traitlets\\config\\application.py\", line 846, in launch_instance\n",
      "    app.start()\n",
      "  File \"c:\\Users\\Jason\\Projects\\McLatte\\.venv.mclatte\\lib\\site-packages\\ipykernel\\kernelapp.py\", line 677, in start\n",
      "    self.io_loop.start()\n",
      "  File \"c:\\Users\\Jason\\Projects\\McLatte\\.venv.mclatte\\lib\\site-packages\\tornado\\platform\\asyncio.py\", line 199, in start\n",
      "    self.asyncio_loop.run_forever()\n",
      "  File \"C:\\Program Files\\WindowsApps\\PythonSoftwareFoundation.Python.3.9_3.9.2544.0_x64__qbz5n2kfra8p0\\lib\\asyncio\\base_events.py\", line 596, in run_forever\n",
      "    self._run_once()\n",
      "  File \"C:\\Program Files\\WindowsApps\\PythonSoftwareFoundation.Python.3.9_3.9.2544.0_x64__qbz5n2kfra8p0\\lib\\asyncio\\base_events.py\", line 1890, in _run_once\n",
      "    handle._run()\n",
      "  File \"C:\\Program Files\\WindowsApps\\PythonSoftwareFoundation.Python.3.9_3.9.2544.0_x64__qbz5n2kfra8p0\\lib\\asyncio\\events.py\", line 80, in _run\n",
      "    self._context.run(self._callback, *self._args)\n",
      "  File \"c:\\Users\\Jason\\Projects\\McLatte\\.venv.mclatte\\lib\\site-packages\\ipykernel\\kernelbase.py\", line 457, in dispatch_queue\n",
      "    await self.process_one()\n",
      "  File \"c:\\Users\\Jason\\Projects\\McLatte\\.venv.mclatte\\lib\\site-packages\\ipykernel\\kernelbase.py\", line 446, in process_one\n",
      "    await dispatch(*args)\n",
      "  File \"c:\\Users\\Jason\\Projects\\McLatte\\.venv.mclatte\\lib\\site-packages\\ipykernel\\kernelbase.py\", line 353, in dispatch_shell\n",
      "    await result\n",
      "  File \"c:\\Users\\Jason\\Projects\\McLatte\\.venv.mclatte\\lib\\site-packages\\ipykernel\\kernelbase.py\", line 648, in execute_request\n",
      "    reply_content = await reply_content\n",
      "  File \"c:\\Users\\Jason\\Projects\\McLatte\\.venv.mclatte\\lib\\site-packages\\ipykernel\\ipkernel.py\", line 353, in do_execute\n",
      "    res = shell.run_cell(code, store_history=store_history, silent=silent)\n",
      "  File \"c:\\Users\\Jason\\Projects\\McLatte\\.venv.mclatte\\lib\\site-packages\\ipykernel\\zmqshell.py\", line 533, in run_cell\n",
      "    return super(ZMQInteractiveShell, self).run_cell(*args, **kwargs)\n",
      "  File \"c:\\Users\\Jason\\Projects\\McLatte\\.venv.mclatte\\lib\\site-packages\\IPython\\core\\interactiveshell.py\", line 2914, in run_cell\n",
      "    result = self._run_cell(\n",
      "  File \"c:\\Users\\Jason\\Projects\\McLatte\\.venv.mclatte\\lib\\site-packages\\IPython\\core\\interactiveshell.py\", line 2960, in _run_cell\n",
      "    return runner(coro)\n",
      "  File \"c:\\Users\\Jason\\Projects\\McLatte\\.venv.mclatte\\lib\\site-packages\\IPython\\core\\async_helpers.py\", line 78, in _pseudo_sync_runner\n",
      "    coro.send(None)\n",
      "  File \"c:\\Users\\Jason\\Projects\\McLatte\\.venv.mclatte\\lib\\site-packages\\IPython\\core\\interactiveshell.py\", line 3185, in run_cell_async\n",
      "    has_raised = await self.run_ast_nodes(code_ast.body, cell_name,\n",
      "  File \"c:\\Users\\Jason\\Projects\\McLatte\\.venv.mclatte\\lib\\site-packages\\IPython\\core\\interactiveshell.py\", line 3377, in run_ast_nodes\n",
      "    if (await self.run_code(code, result,  async_=asy)):\n",
      "  File \"c:\\Users\\Jason\\Projects\\McLatte\\.venv.mclatte\\lib\\site-packages\\IPython\\core\\interactiveshell.py\", line 3457, in run_code\n",
      "    exec(code_obj, self.user_global_ns, self.user_ns)\n",
      "  File \"C:\\Users\\Jason\\AppData\\Local\\Temp/ipykernel_9528/1892252697.py\", line 3, in <module>\n",
      "    trained_mclatte = train_mclatte(\n",
      "  File \"c:\\Users\\Jason\\Projects\\McLatte\\mclatte\\model.py\", line 170, in train_mclatte\n",
      "    trainer.fit(pl_model, data_module)\n",
      "  File \"c:\\Users\\Jason\\Projects\\McLatte\\.venv.mclatte\\lib\\site-packages\\pytorch_lightning\\trainer\\trainer.py\", line 552, in fit\n",
      "    self._run(model)\n",
      "  File \"c:\\Users\\Jason\\Projects\\McLatte\\.venv.mclatte\\lib\\site-packages\\pytorch_lightning\\trainer\\trainer.py\", line 922, in _run\n",
      "    self._dispatch()\n",
      "  File \"c:\\Users\\Jason\\Projects\\McLatte\\.venv.mclatte\\lib\\site-packages\\pytorch_lightning\\trainer\\trainer.py\", line 990, in _dispatch\n",
      "    self.accelerator.start_training(self)\n",
      "  File \"c:\\Users\\Jason\\Projects\\McLatte\\.venv.mclatte\\lib\\site-packages\\pytorch_lightning\\accelerators\\accelerator.py\", line 92, in start_training\n",
      "    self.training_type_plugin.start_training(trainer)\n",
      "  File \"c:\\Users\\Jason\\Projects\\McLatte\\.venv.mclatte\\lib\\site-packages\\pytorch_lightning\\plugins\\training_type\\training_type_plugin.py\", line 161, in start_training\n",
      "    self._results = trainer.run_stage()\n",
      "  File \"c:\\Users\\Jason\\Projects\\McLatte\\.venv.mclatte\\lib\\site-packages\\pytorch_lightning\\trainer\\trainer.py\", line 1000, in run_stage\n",
      "    return self._run_train()\n",
      "  File \"c:\\Users\\Jason\\Projects\\McLatte\\.venv.mclatte\\lib\\site-packages\\pytorch_lightning\\trainer\\trainer.py\", line 1049, in _run_train\n",
      "    self.fit_loop.run()\n",
      "  File \"c:\\Users\\Jason\\Projects\\McLatte\\.venv.mclatte\\lib\\site-packages\\pytorch_lightning\\loops\\base.py\", line 111, in run\n",
      "    self.advance(*args, **kwargs)\n",
      "  File \"c:\\Users\\Jason\\Projects\\McLatte\\.venv.mclatte\\lib\\site-packages\\pytorch_lightning\\loops\\fit_loop.py\", line 200, in advance\n",
      "    epoch_output = self.epoch_loop.run(train_dataloader)\n",
      "  File \"c:\\Users\\Jason\\Projects\\McLatte\\.venv.mclatte\\lib\\site-packages\\pytorch_lightning\\loops\\base.py\", line 112, in run\n",
      "    self.on_advance_end()\n",
      "  File \"c:\\Users\\Jason\\Projects\\McLatte\\.venv.mclatte\\lib\\site-packages\\pytorch_lightning\\loops\\epoch\\training_epoch_loop.py\", line 177, in on_advance_end\n",
      "    self._run_validation()\n",
      "  File \"c:\\Users\\Jason\\Projects\\McLatte\\.venv.mclatte\\lib\\site-packages\\pytorch_lightning\\loops\\epoch\\training_epoch_loop.py\", line 257, in _run_validation\n",
      "    self.val_loop.run()\n",
      "  File \"c:\\Users\\Jason\\Projects\\McLatte\\.venv.mclatte\\lib\\site-packages\\pytorch_lightning\\loops\\base.py\", line 118, in run\n",
      "    output = self.on_run_end()\n",
      "  File \"c:\\Users\\Jason\\Projects\\McLatte\\.venv.mclatte\\lib\\site-packages\\pytorch_lightning\\loops\\dataloader\\evaluation_loop.py\", line 142, in on_run_end\n",
      "    self.on_evaluation_end()\n",
      "  File \"c:\\Users\\Jason\\Projects\\McLatte\\.venv.mclatte\\lib\\site-packages\\pytorch_lightning\\loops\\dataloader\\evaluation_loop.py\", line 205, in on_evaluation_end\n",
      "    self.trainer.call_hook(\"on_validation_end\", *args, **kwargs)\n",
      "  File \"c:\\Users\\Jason\\Projects\\McLatte\\.venv.mclatte\\lib\\site-packages\\pytorch_lightning\\trainer\\trainer.py\", line 1228, in call_hook\n",
      "    trainer_hook(*args, **kwargs)\n",
      "  File \"c:\\Users\\Jason\\Projects\\McLatte\\.venv.mclatte\\lib\\site-packages\\pytorch_lightning\\trainer\\callback_hook.py\", line 229, in on_validation_end\n",
      "    callback.on_validation_end(self, self.lightning_module)\n",
      "  File \"c:\\Users\\Jason\\Projects\\McLatte\\.venv.mclatte\\lib\\site-packages\\ray\\tune\\integration\\pytorch_lightning.py\", line 118, in on_validation_end\n",
      "    self._handle(trainer, pl_module)\n",
      "  File \"c:\\Users\\Jason\\Projects\\McLatte\\.venv.mclatte\\lib\\site-packages\\ray\\tune\\integration\\pytorch_lightning.py\", line 202, in _handle\n",
      "    tune.report(**report_dict)\n",
      "\n",
      "GPU available: True, used: True\n",
      "TPU available: False, using: 0 TPU cores\n",
      "IPU available: False, using: 0 IPUs\n",
      "LOCAL_RANK: 0 - CUDA_VISIBLE_DEVICES: [0]\n",
      "\n",
      "  | Name     | Type        | Params\n",
      "-----------------------------------------\n",
      "0 | _encoder | LstmEncoder | 23.9 K\n",
      "1 | _decoder | LstmDecoder | 33.9 K\n",
      "-----------------------------------------\n",
      "58.1 K    Trainable params\n",
      "0         Non-trainable params\n",
      "58.1 K    Total params\n",
      "0.232     Total estimated model params size (MB)\n",
      "GPU available: True, used: True\n",
      "TPU available: False, using: 0 TPU cores\n",
      "IPU available: False, using: 0 IPUs\n",
      "LOCAL_RANK: 0 - CUDA_VISIBLE_DEVICES: [0]\n",
      "\n",
      "  | Name     | Type        | Params\n",
      "-----------------------------------------\n",
      "0 | _encoder | LstmEncoder | 23.9 K\n",
      "1 | _decoder | LstmDecoder | 33.9 K\n",
      "-----------------------------------------\n",
      "58.1 K    Trainable params\n",
      "0         Non-trainable params\n",
      "58.1 K    Total params\n",
      "0.232     Total estimated model params size (MB)\n",
      "GPU available: True, used: True\n",
      "TPU available: False, using: 0 TPU cores\n",
      "IPU available: False, using: 0 IPUs\n",
      "LOCAL_RANK: 0 - CUDA_VISIBLE_DEVICES: [0]\n",
      "\n",
      "  | Name     | Type        | Params\n",
      "-----------------------------------------\n",
      "0 | _encoder | LstmEncoder | 23.9 K\n",
      "1 | _decoder | LstmDecoder | 33.9 K\n",
      "-----------------------------------------\n",
      "58.1 K    Trainable params\n",
      "0         Non-trainable params\n",
      "58.1 K    Total params\n",
      "0.232     Total estimated model params size (MB)\n",
      "GPU available: True, used: True\n",
      "TPU available: False, using: 0 TPU cores\n",
      "IPU available: False, using: 0 IPUs\n",
      "LOCAL_RANK: 0 - CUDA_VISIBLE_DEVICES: [0]\n",
      "\n",
      "  | Name     | Type        | Params\n",
      "-----------------------------------------\n",
      "0 | _encoder | LstmEncoder | 23.9 K\n",
      "1 | _decoder | LstmDecoder | 33.9 K\n",
      "-----------------------------------------\n",
      "58.1 K    Trainable params\n",
      "0         Non-trainable params\n",
      "58.1 K    Total params\n",
      "0.232     Total estimated model params size (MB)\n"
     ]
    }
   ],
   "source": [
    "mclatte_losses = []\n",
    "for i in range(5):\n",
    "    trained_mclatte = train_mclatte(\n",
    "        mclatte_config,\n",
    "        X_train,\n",
    "        M_train,\n",
    "        Y_pre_train,\n",
    "        Y_post_train,\n",
    "        A_train, \n",
    "        T_train,\n",
    "        R,\n",
    "        M,\n",
    "        H,\n",
    "        input_dim=D, \n",
    "        treatment_dim=K, \n",
    "        test_run=i,\n",
    "    )\n",
    "    x_tilde, y_tilde = trained_mclatte(\n",
    "        torch.from_numpy(X_test).float(),\n",
    "        torch.from_numpy(A_test).float(),\n",
    "        torch.from_numpy(T_test).float(),\n",
    "        torch.from_numpy(M_test).float(),\n",
    "    )\n",
    "    mclatte_losses.append(\n",
    "        torch.nn.functional.l1_loss(\n",
    "            y_tilde, \n",
    "            torch.from_numpy(Y_post_test).float()\n",
    "        ).item()\n",
    "    )"
   ]
  },
  {
   "cell_type": "code",
   "execution_count": 9,
   "metadata": {},
   "outputs": [
    {
     "data": {
      "text/plain": [
       "(1.4011790037155152, 0.06934993200345907)"
      ]
     },
     "execution_count": 9,
     "metadata": {},
     "output_type": "execute_result"
    },
    {
     "name": "stderr",
     "output_type": "stream",
     "text": [
      "\u001b[2m\u001b[36m(pid=None)\u001b[0m [2021-12-10 15:03:04,059 C 9900 36424] redis_client.cc:87:  Check failed: under_retry_limit Expected 1 Redis shard addresses, found 8104303535147543913\n",
      "\u001b[2m\u001b[36m(pid=None)\u001b[0m *** StackTrace Information ***\n",
      "\u001b[2m\u001b[36m(pid=None)\u001b[0m     configthreadlocale\n",
      "\u001b[2m\u001b[36m(pid=None)\u001b[0m     BaseThreadInitThunk\n",
      "\u001b[2m\u001b[36m(pid=None)\u001b[0m     RtlUserThreadStart\n",
      "\u001b[2m\u001b[36m(pid=None)\u001b[0m \n",
      "\u001b[2m\u001b[36m(pid=None)\u001b[0m [2021-12-10 15:03:07,879 E 34864 5284] local_object_manager.cc:32: Plasma object ffffffffffffffffffffffffffffffffffffffff0100000001000000 was evicted before the raylet could pin it.\n",
      "\u001b[2m\u001b[36m(pid=None)\u001b[0m [2021-12-10 15:03:07,880 E 34864 5284] local_object_manager.cc:32: Plasma object ffffffffffffffffffffffffffffffffffffffff0100000002000000 was evicted before the raylet could pin it.\n",
      " pid=15252)\u001b[0m GPU available: True, used: True\n",
      " pid=15252)\u001b[0m TPU available: False, using: 0 TPU cores\n",
      " pid=15252)\u001b[0m IPU available: False, using: 0 IPUs\n",
      " pid=15252)\u001b[0m 2021-12-10 15:03:10,352\tERROR function_runner.py:268 -- Runner Thread raised error.\n",
      " pid=15252)\u001b[0m Traceback (most recent call last):\n",
      " pid=15252)\u001b[0m   File \"c:\\Users\\Jason\\Projects\\McLatte\\.venv.mclatte\\lib\\site-packages\\ray\\tune\\function_runner.py\", line 262, in run\n",
      " pid=15252)\u001b[0m     self._entrypoint()\n",
      " pid=15252)\u001b[0m   File \"c:\\Users\\Jason\\Projects\\McLatte\\.venv.mclatte\\lib\\site-packages\\ray\\tune\\function_runner.py\", line 330, in entrypoint\n",
      " pid=15252)\u001b[0m     return self._trainable_func(self.config, self._status_reporter,\n",
      " pid=15252)\u001b[0m   File \"C:\\Users\\Jason\\Projects\\McLatte\\.venv.mclatte\\lib\\site-packages\\ray\\util\\tracing\\tracing_helper.py\", line 451, in _resume_span\n",
      " pid=15252)\u001b[0m     return method(self, *_args, **_kwargs)\n",
      " pid=15252)\u001b[0m   File \"C:\\Users\\Jason\\Projects\\McLatte\\.venv.mclatte\\lib\\site-packages\\ray\\tune\\function_runner.py\", line 597, in _trainable_func\n",
      " pid=15252)\u001b[0m     output = fn()\n",
      " pid=15252)\u001b[0m   File \"C:\\Users\\Jason\\Projects\\McLatte\\.venv.mclatte\\lib\\site-packages\\ray\\tune\\utils\\trainable.py\", line 344, in inner\n",
      " pid=15252)\u001b[0m     trainable(config, **fn_kwargs)\n",
      " pid=15252)\u001b[0m   File \"C:\\Users\\Jason\\Projects\\McLatte\\rnn\\model.py\", line 139, in train_baseline_rnn\n",
      " pid=15252)\u001b[0m     trainer.fit(pl_model, data_module)\n",
      " pid=15252)\u001b[0m   File \"c:\\Users\\Jason\\Projects\\McLatte\\.venv.mclatte\\lib\\site-packages\\pytorch_lightning\\trainer\\trainer.py\", line 552, in fit\n",
      " pid=15252)\u001b[0m     self._run(model)\n",
      " pid=15252)\u001b[0m   File \"c:\\Users\\Jason\\Projects\\McLatte\\.venv.mclatte\\lib\\site-packages\\pytorch_lightning\\trainer\\trainer.py\", line 864, in _run\n",
      " pid=15252)\u001b[0m     self._call_setup_hook(model)  # allow user to setup lightning_module in accelerator environment\n",
      " pid=15252)\u001b[0m   File \"c:\\Users\\Jason\\Projects\\McLatte\\.venv.mclatte\\lib\\site-packages\\pytorch_lightning\\trainer\\trainer.py\", line 1177, in _call_setup_hook\n",
      " pid=15252)\u001b[0m     self.datamodule.setup(stage=fn)\n",
      " pid=15252)\u001b[0m   File \"c:\\Users\\Jason\\Projects\\McLatte\\.venv.mclatte\\lib\\site-packages\\pytorch_lightning\\core\\datamodule.py\", line 428, in wrapped_fn\n",
      " pid=15252)\u001b[0m     fn(*args, **kwargs)\n",
      " pid=15252)\u001b[0m   File \"C:\\Users\\Jason\\Projects\\McLatte\\rnn\\dataset.py\", line 62, in setup\n",
      " pid=15252)\u001b[0m     seq_length = len(full_dataset)\n",
      " pid=15252)\u001b[0m ValueError: __len__() should return >= 0\n",
      " pid=15252)\u001b[0m Exception in thread Thread-6:\n",
      " pid=15252)\u001b[0m Traceback (most recent call last):\n",
      " pid=15252)\u001b[0m   File \"C:\\Program Files\\WindowsApps\\PythonSoftwareFoundation.Python.3.9_3.9.2544.0_x64__qbz5n2kfra8p0\\lib\\threading.py\", line 973, in _bootstrap_inner\n",
      " pid=15252)\u001b[0m     self.run()\n",
      " pid=15252)\u001b[0m   File \"c:\\Users\\Jason\\Projects\\McLatte\\.venv.mclatte\\lib\\site-packages\\ray\\tune\\function_runner.py\", line 281, in run\n",
      " pid=15252)\u001b[0m     raise e\n",
      " pid=15252)\u001b[0m   File \"c:\\Users\\Jason\\Projects\\McLatte\\.venv.mclatte\\lib\\site-packages\\ray\\tune\\function_runner.py\", line 262, in run\n",
      " pid=15252)\u001b[0m     self._entrypoint()\n",
      " pid=15252)\u001b[0m   File \"c:\\Users\\Jason\\Projects\\McLatte\\.venv.mclatte\\lib\\site-packages\\ray\\tune\\function_runner.py\", line 330, in entrypoint\n",
      " pid=15252)\u001b[0m     return self._trainable_func(self.config, self._status_reporter,\n",
      " pid=15252)\u001b[0m   File \"C:\\Users\\Jason\\Projects\\McLatte\\.venv.mclatte\\lib\\site-packages\\ray\\util\\tracing\\tracing_helper.py\", line 451, in _resume_span\n",
      " pid=15252)\u001b[0m     return method(self, *_args, **_kwargs)\n",
      " pid=15252)\u001b[0m   File \"C:\\Users\\Jason\\Projects\\McLatte\\.venv.mclatte\\lib\\site-packages\\ray\\tune\\function_runner.py\", line 597, in _trainable_func\n",
      " pid=15252)\u001b[0m     output = fn()\n",
      " pid=15252)\u001b[0m   File \"C:\\Users\\Jason\\Projects\\McLatte\\.venv.mclatte\\lib\\site-packages\\ray\\tune\\utils\\trainable.py\", line 344, in inner\n",
      " pid=15252)\u001b[0m     trainable(config, **fn_kwargs)\n",
      " pid=15252)\u001b[0m   File \"C:\\Users\\Jason\\Projects\\McLatte\\rnn\\model.py\", line 139, in train_baseline_rnn\n",
      " pid=15252)\u001b[0m     trainer.fit(pl_model, data_module)\n",
      " pid=15252)\u001b[0m   File \"c:\\Users\\Jason\\Projects\\McLatte\\.venv.mclatte\\lib\\site-packages\\pytorch_lightning\\trainer\\trainer.py\", line 552, in fit\n",
      " pid=15252)\u001b[0m     self._run(model)\n",
      " pid=15252)\u001b[0m   File \"c:\\Users\\Jason\\Projects\\McLatte\\.venv.mclatte\\lib\\site-packages\\pytorch_lightning\\trainer\\trainer.py\", line 864, in _run\n",
      " pid=15252)\u001b[0m     self._call_setup_hook(model)  # allow user to setup lightning_module in accelerator environment\n",
      " pid=15252)\u001b[0m   File \"c:\\Users\\Jason\\Projects\\McLatte\\.venv.mclatte\\lib\\site-packages\\pytorch_lightning\\trainer\\trainer.py\", line 1177, in _call_setup_hook\n",
      " pid=15252)\u001b[0m     self.datamodule.setup(stage=fn)\n",
      " pid=15252)\u001b[0m   File \"c:\\Users\\Jason\\Projects\\McLatte\\.venv.mclatte\\lib\\site-packages\\pytorch_lightning\\core\\datamodule.py\", line 428, in wrapped_fn\n",
      " pid=15252)\u001b[0m     fn(*args, **kwargs)\n",
      " pid=15252)\u001b[0m   File \"C:\\Users\\Jason\\Projects\\McLatte\\rnn\\dataset.py\", line 62, in setup\n",
      " pid=15252)\u001b[0m     seq_length = len(full_dataset)\n",
      " pid=15252)\u001b[0m ValueError: __len__() should return >= 0\n",
      " pid=17176)\u001b[0m GPU available: True, used: True\n",
      " pid=17176)\u001b[0m TPU available: False, using: 0 TPU cores\n",
      " pid=17176)\u001b[0m IPU available: False, using: 0 IPUs\n",
      " pid=17176)\u001b[0m 2021-12-10 15:03:12,826\tERROR function_runner.py:268 -- Runner Thread raised error.\n",
      " pid=17176)\u001b[0m Traceback (most recent call last):\n",
      " pid=17176)\u001b[0m   File \"c:\\Users\\Jason\\Projects\\McLatte\\.venv.mclatte\\lib\\site-packages\\ray\\tune\\function_runner.py\", line 262, in run\n",
      " pid=17176)\u001b[0m     self._entrypoint()\n",
      " pid=17176)\u001b[0m   File \"c:\\Users\\Jason\\Projects\\McLatte\\.venv.mclatte\\lib\\site-packages\\ray\\tune\\function_runner.py\", line 330, in entrypoint\n",
      " pid=17176)\u001b[0m     return self._trainable_func(self.config, self._status_reporter,\n",
      " pid=17176)\u001b[0m   File \"C:\\Users\\Jason\\Projects\\McLatte\\.venv.mclatte\\lib\\site-packages\\ray\\util\\tracing\\tracing_helper.py\", line 451, in _resume_span\n",
      " pid=17176)\u001b[0m     return method(self, *_args, **_kwargs)\n",
      " pid=17176)\u001b[0m   File \"C:\\Users\\Jason\\Projects\\McLatte\\.venv.mclatte\\lib\\site-packages\\ray\\tune\\function_runner.py\", line 597, in _trainable_func\n",
      " pid=17176)\u001b[0m     output = fn()\n",
      " pid=17176)\u001b[0m   File \"C:\\Users\\Jason\\Projects\\McLatte\\.venv.mclatte\\lib\\site-packages\\ray\\tune\\utils\\trainable.py\", line 344, in inner\n",
      " pid=17176)\u001b[0m     trainable(config, **fn_kwargs)\n",
      " pid=17176)\u001b[0m   File \"C:\\Users\\Jason\\Projects\\McLatte\\rnn\\model.py\", line 139, in train_baseline_rnn\n",
      " pid=17176)\u001b[0m     trainer.fit(pl_model, data_module)\n",
      " pid=17176)\u001b[0m   File \"c:\\Users\\Jason\\Projects\\McLatte\\.venv.mclatte\\lib\\site-packages\\pytorch_lightning\\trainer\\trainer.py\", line 552, in fit\n",
      " pid=17176)\u001b[0m     self._run(model)\n",
      " pid=17176)\u001b[0m   File \"c:\\Users\\Jason\\Projects\\McLatte\\.venv.mclatte\\lib\\site-packages\\pytorch_lightning\\trainer\\trainer.py\", line 864, in _run\n",
      " pid=17176)\u001b[0m     self._call_setup_hook(model)  # allow user to setup lightning_module in accelerator environment\n",
      " pid=17176)\u001b[0m   File \"c:\\Users\\Jason\\Projects\\McLatte\\.venv.mclatte\\lib\\site-packages\\pytorch_lightning\\trainer\\trainer.py\", line 1177, in _call_setup_hook\n",
      " pid=17176)\u001b[0m     self.datamodule.setup(stage=fn)\n",
      " pid=17176)\u001b[0m   File \"c:\\Users\\Jason\\Projects\\McLatte\\.venv.mclatte\\lib\\site-packages\\pytorch_lightning\\core\\datamodule.py\", line 428, in wrapped_fn\n",
      " pid=17176)\u001b[0m     fn(*args, **kwargs)\n",
      " pid=17176)\u001b[0m   File \"C:\\Users\\Jason\\Projects\\McLatte\\rnn\\dataset.py\", line 62, in setup\n",
      " pid=17176)\u001b[0m     seq_length = len(full_dataset)\n",
      " pid=17176)\u001b[0m ValueError: __len__() should return >= 0\n",
      " pid=17176)\u001b[0m Exception in thread Thread-6:\n",
      " pid=17176)\u001b[0m Traceback (most recent call last):\n",
      " pid=17176)\u001b[0m   File \"C:\\Program Files\\WindowsApps\\PythonSoftwareFoundation.Python.3.9_3.9.2544.0_x64__qbz5n2kfra8p0\\lib\\threading.py\", line 973, in _bootstrap_inner\n",
      " pid=17176)\u001b[0m     self.run()\n",
      " pid=17176)\u001b[0m   File \"c:\\Users\\Jason\\Projects\\McLatte\\.venv.mclatte\\lib\\site-packages\\ray\\tune\\function_runner.py\", line 281, in run\n",
      " pid=17176)\u001b[0m     raise e\n",
      " pid=17176)\u001b[0m   File \"c:\\Users\\Jason\\Projects\\McLatte\\.venv.mclatte\\lib\\site-packages\\ray\\tune\\function_runner.py\", line 262, in run\n",
      " pid=17176)\u001b[0m     self._entrypoint()\n",
      " pid=17176)\u001b[0m   File \"c:\\Users\\Jason\\Projects\\McLatte\\.venv.mclatte\\lib\\site-packages\\ray\\tune\\function_runner.py\", line 330, in entrypoint\n",
      " pid=17176)\u001b[0m     return self._trainable_func(self.config, self._status_reporter,\n",
      " pid=17176)\u001b[0m   File \"C:\\Users\\Jason\\Projects\\McLatte\\.venv.mclatte\\lib\\site-packages\\ray\\util\\tracing\\tracing_helper.py\", line 451, in _resume_span\n",
      " pid=17176)\u001b[0m     return method(self, *_args, **_kwargs)\n",
      " pid=17176)\u001b[0m   File \"C:\\Users\\Jason\\Projects\\McLatte\\.venv.mclatte\\lib\\site-packages\\ray\\tune\\function_runner.py\", line 597, in _trainable_func\n",
      " pid=17176)\u001b[0m     output = fn()\n",
      " pid=17176)\u001b[0m   File \"C:\\Users\\Jason\\Projects\\McLatte\\.venv.mclatte\\lib\\site-packages\\ray\\tune\\utils\\trainable.py\", line 344, in inner\n",
      " pid=17176)\u001b[0m     trainable(config, **fn_kwargs)\n",
      " pid=17176)\u001b[0m   File \"C:\\Users\\Jason\\Projects\\McLatte\\rnn\\model.py\", line 139, in train_baseline_rnn\n",
      " pid=17176)\u001b[0m     trainer.fit(pl_model, data_module)\n",
      " pid=17176)\u001b[0m   File \"c:\\Users\\Jason\\Projects\\McLatte\\.venv.mclatte\\lib\\site-packages\\pytorch_lightning\\trainer\\trainer.py\", line 552, in fit\n",
      " pid=17176)\u001b[0m     self._run(model)\n",
      " pid=17176)\u001b[0m   File \"c:\\Users\\Jason\\Projects\\McLatte\\.venv.mclatte\\lib\\site-packages\\pytorch_lightning\\trainer\\trainer.py\", line 864, in _run\n",
      " pid=17176)\u001b[0m     self._call_setup_hook(model)  # allow user to setup lightning_module in accelerator environment\n",
      " pid=17176)\u001b[0m   File \"c:\\Users\\Jason\\Projects\\McLatte\\.venv.mclatte\\lib\\site-packages\\pytorch_lightning\\trainer\\trainer.py\", line 1177, in _call_setup_hook\n",
      " pid=17176)\u001b[0m     self.datamodule.setup(stage=fn)\n",
      " pid=17176)\u001b[0m   File \"c:\\Users\\Jason\\Projects\\McLatte\\.venv.mclatte\\lib\\site-packages\\pytorch_lightning\\core\\datamodule.py\", line 428, in wrapped_fn\n",
      " pid=17176)\u001b[0m     fn(*args, **kwargs)\n",
      " pid=17176)\u001b[0m   File \"C:\\Users\\Jason\\Projects\\McLatte\\rnn\\dataset.py\", line 62, in setup\n",
      " pid=17176)\u001b[0m     seq_length = len(full_dataset)\n",
      " pid=17176)\u001b[0m ValueError: __len__() should return >= 0\n",
      " pid=31312)\u001b[0m GPU available: True, used: True\n",
      " pid=31312)\u001b[0m TPU available: False, using: 0 TPU cores\n",
      " pid=31312)\u001b[0m IPU available: False, using: 0 IPUs\n",
      " pid=31312)\u001b[0m 2021-12-10 15:03:15,296\tERROR function_runner.py:268 -- Runner Thread raised error.\n",
      " pid=31312)\u001b[0m Traceback (most recent call last):\n",
      " pid=31312)\u001b[0m   File \"c:\\Users\\Jason\\Projects\\McLatte\\.venv.mclatte\\lib\\site-packages\\ray\\tune\\function_runner.py\", line 262, in run\n",
      " pid=31312)\u001b[0m     self._entrypoint()\n",
      " pid=31312)\u001b[0m   File \"c:\\Users\\Jason\\Projects\\McLatte\\.venv.mclatte\\lib\\site-packages\\ray\\tune\\function_runner.py\", line 330, in entrypoint\n",
      " pid=31312)\u001b[0m     return self._trainable_func(self.config, self._status_reporter,\n",
      " pid=31312)\u001b[0m   File \"C:\\Users\\Jason\\Projects\\McLatte\\.venv.mclatte\\lib\\site-packages\\ray\\util\\tracing\\tracing_helper.py\", line 451, in _resume_span\n",
      " pid=31312)\u001b[0m     return method(self, *_args, **_kwargs)\n",
      " pid=31312)\u001b[0m   File \"C:\\Users\\Jason\\Projects\\McLatte\\.venv.mclatte\\lib\\site-packages\\ray\\tune\\function_runner.py\", line 597, in _trainable_func\n",
      " pid=31312)\u001b[0m     output = fn()\n",
      " pid=31312)\u001b[0m   File \"C:\\Users\\Jason\\Projects\\McLatte\\.venv.mclatte\\lib\\site-packages\\ray\\tune\\utils\\trainable.py\", line 344, in inner\n",
      " pid=31312)\u001b[0m     trainable(config, **fn_kwargs)\n",
      " pid=31312)\u001b[0m   File \"C:\\Users\\Jason\\Projects\\McLatte\\rnn\\model.py\", line 139, in train_baseline_rnn\n",
      " pid=31312)\u001b[0m     trainer.fit(pl_model, data_module)\n",
      " pid=31312)\u001b[0m   File \"c:\\Users\\Jason\\Projects\\McLatte\\.venv.mclatte\\lib\\site-packages\\pytorch_lightning\\trainer\\trainer.py\", line 552, in fit\n",
      " pid=31312)\u001b[0m     self._run(model)\n",
      " pid=31312)\u001b[0m   File \"c:\\Users\\Jason\\Projects\\McLatte\\.venv.mclatte\\lib\\site-packages\\pytorch_lightning\\trainer\\trainer.py\", line 864, in _run\n",
      " pid=31312)\u001b[0m     self._call_setup_hook(model)  # allow user to setup lightning_module in accelerator environment\n",
      " pid=31312)\u001b[0m   File \"c:\\Users\\Jason\\Projects\\McLatte\\.venv.mclatte\\lib\\site-packages\\pytorch_lightning\\trainer\\trainer.py\", line 1177, in _call_setup_hook\n",
      " pid=31312)\u001b[0m     self.datamodule.setup(stage=fn)\n",
      " pid=31312)\u001b[0m   File \"c:\\Users\\Jason\\Projects\\McLatte\\.venv.mclatte\\lib\\site-packages\\pytorch_lightning\\core\\datamodule.py\", line 428, in wrapped_fn\n",
      " pid=31312)\u001b[0m     fn(*args, **kwargs)\n",
      " pid=31312)\u001b[0m   File \"C:\\Users\\Jason\\Projects\\McLatte\\rnn\\dataset.py\", line 62, in setup\n",
      " pid=31312)\u001b[0m     seq_length = len(full_dataset)\n",
      " pid=31312)\u001b[0m ValueError: __len__() should return >= 0\n",
      " pid=31312)\u001b[0m Exception in thread Thread-6:\n",
      " pid=31312)\u001b[0m Traceback (most recent call last):\n",
      " pid=31312)\u001b[0m   File \"C:\\Program Files\\WindowsApps\\PythonSoftwareFoundation.Python.3.9_3.9.2544.0_x64__qbz5n2kfra8p0\\lib\\threading.py\", line 973, in _bootstrap_inner\n",
      " pid=31312)\u001b[0m     self.run()\n",
      " pid=31312)\u001b[0m   File \"c:\\Users\\Jason\\Projects\\McLatte\\.venv.mclatte\\lib\\site-packages\\ray\\tune\\function_runner.py\", line 281, in run\n",
      " pid=31312)\u001b[0m     raise e\n",
      " pid=31312)\u001b[0m   File \"c:\\Users\\Jason\\Projects\\McLatte\\.venv.mclatte\\lib\\site-packages\\ray\\tune\\function_runner.py\", line 262, in run\n",
      " pid=31312)\u001b[0m     self._entrypoint()\n",
      " pid=31312)\u001b[0m   File \"c:\\Users\\Jason\\Projects\\McLatte\\.venv.mclatte\\lib\\site-packages\\ray\\tune\\function_runner.py\", line 330, in entrypoint\n",
      " pid=31312)\u001b[0m     return self._trainable_func(self.config, self._status_reporter,\n",
      " pid=31312)\u001b[0m   File \"C:\\Users\\Jason\\Projects\\McLatte\\.venv.mclatte\\lib\\site-packages\\ray\\util\\tracing\\tracing_helper.py\", line 451, in _resume_span\n",
      " pid=31312)\u001b[0m     return method(self, *_args, **_kwargs)\n",
      " pid=31312)\u001b[0m   File \"C:\\Users\\Jason\\Projects\\McLatte\\.venv.mclatte\\lib\\site-packages\\ray\\tune\\function_runner.py\", line 597, in _trainable_func\n",
      " pid=31312)\u001b[0m     output = fn()\n",
      " pid=31312)\u001b[0m   File \"C:\\Users\\Jason\\Projects\\McLatte\\.venv.mclatte\\lib\\site-packages\\ray\\tune\\utils\\trainable.py\", line 344, in inner\n",
      " pid=31312)\u001b[0m     trainable(config, **fn_kwargs)\n",
      " pid=31312)\u001b[0m   File \"C:\\Users\\Jason\\Projects\\McLatte\\rnn\\model.py\", line 139, in train_baseline_rnn\n",
      " pid=31312)\u001b[0m     trainer.fit(pl_model, data_module)\n",
      " pid=31312)\u001b[0m   File \"c:\\Users\\Jason\\Projects\\McLatte\\.venv.mclatte\\lib\\site-packages\\pytorch_lightning\\trainer\\trainer.py\", line 552, in fit\n",
      " pid=31312)\u001b[0m     self._run(model)\n",
      " pid=31312)\u001b[0m   File \"c:\\Users\\Jason\\Projects\\McLatte\\.venv.mclatte\\lib\\site-packages\\pytorch_lightning\\trainer\\trainer.py\", line 864, in _run\n",
      " pid=31312)\u001b[0m     self._call_setup_hook(model)  # allow user to setup lightning_module in accelerator environment\n",
      " pid=31312)\u001b[0m   File \"c:\\Users\\Jason\\Projects\\McLatte\\.venv.mclatte\\lib\\site-packages\\pytorch_lightning\\trainer\\trainer.py\", line 1177, in _call_setup_hook\n",
      " pid=31312)\u001b[0m     self.datamodule.setup(stage=fn)\n",
      " pid=31312)\u001b[0m   File \"c:\\Users\\Jason\\Projects\\McLatte\\.venv.mclatte\\lib\\site-packages\\pytorch_lightning\\core\\datamodule.py\", line 428, in wrapped_fn\n",
      " pid=31312)\u001b[0m     fn(*args, **kwargs)\n",
      " pid=31312)\u001b[0m   File \"C:\\Users\\Jason\\Projects\\McLatte\\rnn\\dataset.py\", line 62, in setup\n",
      " pid=31312)\u001b[0m     seq_length = len(full_dataset)\n",
      " pid=31312)\u001b[0m ValueError: __len__() should return >= 0\n",
      " pid=25124)\u001b[0m GPU available: True, used: True\n",
      " pid=25124)\u001b[0m TPU available: False, using: 0 TPU cores\n",
      " pid=25124)\u001b[0m IPU available: False, using: 0 IPUs\n",
      " pid=25124)\u001b[0m 2021-12-10 15:03:17,804\tERROR function_runner.py:268 -- Runner Thread raised error.\n",
      " pid=25124)\u001b[0m Traceback (most recent call last):\n",
      " pid=25124)\u001b[0m   File \"c:\\Users\\Jason\\Projects\\McLatte\\.venv.mclatte\\lib\\site-packages\\ray\\tune\\function_runner.py\", line 262, in run\n",
      " pid=25124)\u001b[0m     self._entrypoint()\n",
      " pid=25124)\u001b[0m   File \"c:\\Users\\Jason\\Projects\\McLatte\\.venv.mclatte\\lib\\site-packages\\ray\\tune\\function_runner.py\", line 330, in entrypoint\n",
      " pid=25124)\u001b[0m     return self._trainable_func(self.config, self._status_reporter,\n",
      " pid=25124)\u001b[0m   File \"C:\\Users\\Jason\\Projects\\McLatte\\.venv.mclatte\\lib\\site-packages\\ray\\util\\tracing\\tracing_helper.py\", line 451, in _resume_span\n",
      " pid=25124)\u001b[0m     return method(self, *_args, **_kwargs)\n",
      " pid=25124)\u001b[0m   File \"C:\\Users\\Jason\\Projects\\McLatte\\.venv.mclatte\\lib\\site-packages\\ray\\tune\\function_runner.py\", line 597, in _trainable_func\n",
      " pid=25124)\u001b[0m     output = fn()\n",
      " pid=25124)\u001b[0m   File \"C:\\Users\\Jason\\Projects\\McLatte\\.venv.mclatte\\lib\\site-packages\\ray\\tune\\utils\\trainable.py\", line 344, in inner\n",
      " pid=25124)\u001b[0m     trainable(config, **fn_kwargs)\n",
      " pid=25124)\u001b[0m   File \"C:\\Users\\Jason\\Projects\\McLatte\\rnn\\model.py\", line 139, in train_baseline_rnn\n",
      " pid=25124)\u001b[0m     trainer.fit(pl_model, data_module)\n",
      " pid=25124)\u001b[0m   File \"c:\\Users\\Jason\\Projects\\McLatte\\.venv.mclatte\\lib\\site-packages\\pytorch_lightning\\trainer\\trainer.py\", line 552, in fit\n",
      " pid=25124)\u001b[0m     self._run(model)\n",
      " pid=25124)\u001b[0m   File \"c:\\Users\\Jason\\Projects\\McLatte\\.venv.mclatte\\lib\\site-packages\\pytorch_lightning\\trainer\\trainer.py\", line 864, in _run\n",
      " pid=25124)\u001b[0m     self._call_setup_hook(model)  # allow user to setup lightning_module in accelerator environment\n",
      " pid=25124)\u001b[0m   File \"c:\\Users\\Jason\\Projects\\McLatte\\.venv.mclatte\\lib\\site-packages\\pytorch_lightning\\trainer\\trainer.py\", line 1177, in _call_setup_hook\n",
      " pid=25124)\u001b[0m     self.datamodule.setup(stage=fn)\n",
      " pid=25124)\u001b[0m   File \"c:\\Users\\Jason\\Projects\\McLatte\\.venv.mclatte\\lib\\site-packages\\pytorch_lightning\\core\\datamodule.py\", line 428, in wrapped_fn\n",
      " pid=25124)\u001b[0m     fn(*args, **kwargs)\n",
      " pid=25124)\u001b[0m   File \"C:\\Users\\Jason\\Projects\\McLatte\\rnn\\dataset.py\", line 62, in setup\n",
      " pid=25124)\u001b[0m     seq_length = len(full_dataset)\n",
      " pid=25124)\u001b[0m ValueError: __len__() should return >= 0\n",
      " pid=25124)\u001b[0m Exception in thread Thread-6:\n",
      " pid=25124)\u001b[0m Traceback (most recent call last):\n",
      " pid=25124)\u001b[0m   File \"C:\\Program Files\\WindowsApps\\PythonSoftwareFoundation.Python.3.9_3.9.2544.0_x64__qbz5n2kfra8p0\\lib\\threading.py\", line 973, in _bootstrap_inner\n",
      " pid=25124)\u001b[0m     self.run()\n",
      " pid=25124)\u001b[0m   File \"c:\\Users\\Jason\\Projects\\McLatte\\.venv.mclatte\\lib\\site-packages\\ray\\tune\\function_runner.py\", line 281, in run\n",
      " pid=25124)\u001b[0m     raise e\n",
      " pid=25124)\u001b[0m   File \"c:\\Users\\Jason\\Projects\\McLatte\\.venv.mclatte\\lib\\site-packages\\ray\\tune\\function_runner.py\", line 262, in run\n",
      " pid=25124)\u001b[0m     self._entrypoint()\n",
      " pid=25124)\u001b[0m   File \"c:\\Users\\Jason\\Projects\\McLatte\\.venv.mclatte\\lib\\site-packages\\ray\\tune\\function_runner.py\", line 330, in entrypoint\n",
      " pid=25124)\u001b[0m     return self._trainable_func(self.config, self._status_reporter,\n",
      " pid=25124)\u001b[0m   File \"C:\\Users\\Jason\\Projects\\McLatte\\.venv.mclatte\\lib\\site-packages\\ray\\util\\tracing\\tracing_helper.py\", line 451, in _resume_span\n",
      " pid=25124)\u001b[0m     return method(self, *_args, **_kwargs)\n",
      " pid=25124)\u001b[0m   File \"C:\\Users\\Jason\\Projects\\McLatte\\.venv.mclatte\\lib\\site-packages\\ray\\tune\\function_runner.py\", line 597, in _trainable_func\n",
      " pid=25124)\u001b[0m     output = fn()\n",
      " pid=25124)\u001b[0m   File \"C:\\Users\\Jason\\Projects\\McLatte\\.venv.mclatte\\lib\\site-packages\\ray\\tune\\utils\\trainable.py\", line 344, in inner\n",
      " pid=25124)\u001b[0m     trainable(config, **fn_kwargs)\n",
      " pid=25124)\u001b[0m   File \"C:\\Users\\Jason\\Projects\\McLatte\\rnn\\model.py\", line 139, in train_baseline_rnn\n",
      " pid=25124)\u001b[0m     trainer.fit(pl_model, data_module)\n",
      " pid=25124)\u001b[0m   File \"c:\\Users\\Jason\\Projects\\McLatte\\.venv.mclatte\\lib\\site-packages\\pytorch_lightning\\trainer\\trainer.py\", line 552, in fit\n",
      " pid=25124)\u001b[0m     self._run(model)\n",
      " pid=25124)\u001b[0m   File \"c:\\Users\\Jason\\Projects\\McLatte\\.venv.mclatte\\lib\\site-packages\\pytorch_lightning\\trainer\\trainer.py\", line 864, in _run\n",
      " pid=25124)\u001b[0m     self._call_setup_hook(model)  # allow user to setup lightning_module in accelerator environment\n",
      " pid=25124)\u001b[0m   File \"c:\\Users\\Jason\\Projects\\McLatte\\.venv.mclatte\\lib\\site-packages\\pytorch_lightning\\trainer\\trainer.py\", line 1177, in _call_setup_hook\n",
      " pid=25124)\u001b[0m     self.datamodule.setup(stage=fn)\n",
      " pid=25124)\u001b[0m   File \"c:\\Users\\Jason\\Projects\\McLatte\\.venv.mclatte\\lib\\site-packages\\pytorch_lightning\\core\\datamodule.py\", line 428, in wrapped_fn\n",
      " pid=25124)\u001b[0m     fn(*args, **kwargs)\n",
      " pid=25124)\u001b[0m   File \"C:\\Users\\Jason\\Projects\\McLatte\\rnn\\dataset.py\", line 62, in setup\n",
      " pid=25124)\u001b[0m     seq_length = len(full_dataset)\n",
      " pid=25124)\u001b[0m ValueError: __len__() should return >= 0\n",
      " pid=35384)\u001b[0m GPU available: True, used: True\n",
      " pid=35384)\u001b[0m TPU available: False, using: 0 TPU cores\n",
      " pid=35384)\u001b[0m IPU available: False, using: 0 IPUs\n",
      " pid=35384)\u001b[0m 2021-12-10 15:03:20,282\tERROR function_runner.py:268 -- Runner Thread raised error.\n",
      " pid=35384)\u001b[0m Traceback (most recent call last):\n",
      " pid=35384)\u001b[0m   File \"c:\\Users\\Jason\\Projects\\McLatte\\.venv.mclatte\\lib\\site-packages\\ray\\tune\\function_runner.py\", line 262, in run\n",
      " pid=35384)\u001b[0m     self._entrypoint()\n",
      " pid=35384)\u001b[0m   File \"c:\\Users\\Jason\\Projects\\McLatte\\.venv.mclatte\\lib\\site-packages\\ray\\tune\\function_runner.py\", line 330, in entrypoint\n",
      " pid=35384)\u001b[0m     return self._trainable_func(self.config, self._status_reporter,\n",
      " pid=35384)\u001b[0m   File \"C:\\Users\\Jason\\Projects\\McLatte\\.venv.mclatte\\lib\\site-packages\\ray\\util\\tracing\\tracing_helper.py\", line 451, in _resume_span\n",
      " pid=35384)\u001b[0m     return method(self, *_args, **_kwargs)\n",
      " pid=35384)\u001b[0m   File \"C:\\Users\\Jason\\Projects\\McLatte\\.venv.mclatte\\lib\\site-packages\\ray\\tune\\function_runner.py\", line 597, in _trainable_func\n",
      " pid=35384)\u001b[0m     output = fn()\n",
      " pid=35384)\u001b[0m   File \"C:\\Users\\Jason\\Projects\\McLatte\\.venv.mclatte\\lib\\site-packages\\ray\\tune\\utils\\trainable.py\", line 344, in inner\n",
      " pid=35384)\u001b[0m     trainable(config, **fn_kwargs)\n",
      " pid=35384)\u001b[0m   File \"C:\\Users\\Jason\\Projects\\McLatte\\rnn\\model.py\", line 139, in train_baseline_rnn\n",
      " pid=35384)\u001b[0m     trainer.fit(pl_model, data_module)\n",
      " pid=35384)\u001b[0m   File \"c:\\Users\\Jason\\Projects\\McLatte\\.venv.mclatte\\lib\\site-packages\\pytorch_lightning\\trainer\\trainer.py\", line 552, in fit\n",
      " pid=35384)\u001b[0m     self._run(model)\n",
      " pid=35384)\u001b[0m   File \"c:\\Users\\Jason\\Projects\\McLatte\\.venv.mclatte\\lib\\site-packages\\pytorch_lightning\\trainer\\trainer.py\", line 864, in _run\n",
      " pid=35384)\u001b[0m     self._call_setup_hook(model)  # allow user to setup lightning_module in accelerator environment\n",
      " pid=35384)\u001b[0m   File \"c:\\Users\\Jason\\Projects\\McLatte\\.venv.mclatte\\lib\\site-packages\\pytorch_lightning\\trainer\\trainer.py\", line 1177, in _call_setup_hook\n",
      " pid=35384)\u001b[0m     self.datamodule.setup(stage=fn)\n",
      " pid=35384)\u001b[0m   File \"c:\\Users\\Jason\\Projects\\McLatte\\.venv.mclatte\\lib\\site-packages\\pytorch_lightning\\core\\datamodule.py\", line 428, in wrapped_fn\n",
      " pid=35384)\u001b[0m     fn(*args, **kwargs)\n",
      " pid=35384)\u001b[0m   File \"C:\\Users\\Jason\\Projects\\McLatte\\rnn\\dataset.py\", line 62, in setup\n",
      " pid=35384)\u001b[0m     seq_length = len(full_dataset)\n",
      " pid=35384)\u001b[0m ValueError: __len__() should return >= 0\n",
      " pid=35384)\u001b[0m Exception in thread Thread-6:\n",
      " pid=35384)\u001b[0m Traceback (most recent call last):\n",
      " pid=35384)\u001b[0m   File \"C:\\Program Files\\WindowsApps\\PythonSoftwareFoundation.Python.3.9_3.9.2544.0_x64__qbz5n2kfra8p0\\lib\\threading.py\", line 973, in _bootstrap_inner\n",
      " pid=35384)\u001b[0m     self.run()\n",
      " pid=35384)\u001b[0m   File \"c:\\Users\\Jason\\Projects\\McLatte\\.venv.mclatte\\lib\\site-packages\\ray\\tune\\function_runner.py\", line 281, in run\n",
      " pid=35384)\u001b[0m     raise e\n",
      " pid=35384)\u001b[0m   File \"c:\\Users\\Jason\\Projects\\McLatte\\.venv.mclatte\\lib\\site-packages\\ray\\tune\\function_runner.py\", line 262, in run\n",
      " pid=35384)\u001b[0m     self._entrypoint()\n",
      " pid=35384)\u001b[0m   File \"c:\\Users\\Jason\\Projects\\McLatte\\.venv.mclatte\\lib\\site-packages\\ray\\tune\\function_runner.py\", line 330, in entrypoint\n",
      " pid=35384)\u001b[0m     return self._trainable_func(self.config, self._status_reporter,\n",
      " pid=35384)\u001b[0m   File \"C:\\Users\\Jason\\Projects\\McLatte\\.venv.mclatte\\lib\\site-packages\\ray\\util\\tracing\\tracing_helper.py\", line 451, in _resume_span\n",
      " pid=35384)\u001b[0m     return method(self, *_args, **_kwargs)\n",
      " pid=35384)\u001b[0m   File \"C:\\Users\\Jason\\Projects\\McLatte\\.venv.mclatte\\lib\\site-packages\\ray\\tune\\function_runner.py\", line 597, in _trainable_func\n",
      " pid=35384)\u001b[0m     output = fn()\n",
      " pid=35384)\u001b[0m   File \"C:\\Users\\Jason\\Projects\\McLatte\\.venv.mclatte\\lib\\site-packages\\ray\\tune\\utils\\trainable.py\", line 344, in inner\n",
      " pid=35384)\u001b[0m     trainable(config, **fn_kwargs)\n",
      " pid=35384)\u001b[0m   File \"C:\\Users\\Jason\\Projects\\McLatte\\rnn\\model.py\", line 139, in train_baseline_rnn\n",
      " pid=35384)\u001b[0m     trainer.fit(pl_model, data_module)\n",
      " pid=35384)\u001b[0m   File \"c:\\Users\\Jason\\Projects\\McLatte\\.venv.mclatte\\lib\\site-packages\\pytorch_lightning\\trainer\\trainer.py\", line 552, in fit\n",
      " pid=35384)\u001b[0m     self._run(model)\n",
      " pid=35384)\u001b[0m   File \"c:\\Users\\Jason\\Projects\\McLatte\\.venv.mclatte\\lib\\site-packages\\pytorch_lightning\\trainer\\trainer.py\", line 864, in _run\n",
      " pid=35384)\u001b[0m     self._call_setup_hook(model)  # allow user to setup lightning_module in accelerator environment\n",
      " pid=35384)\u001b[0m   File \"c:\\Users\\Jason\\Projects\\McLatte\\.venv.mclatte\\lib\\site-packages\\pytorch_lightning\\trainer\\trainer.py\", line 1177, in _call_setup_hook\n",
      " pid=35384)\u001b[0m     self.datamodule.setup(stage=fn)\n",
      " pid=35384)\u001b[0m   File \"c:\\Users\\Jason\\Projects\\McLatte\\.venv.mclatte\\lib\\site-packages\\pytorch_lightning\\core\\datamodule.py\", line 428, in wrapped_fn\n",
      " pid=35384)\u001b[0m     fn(*args, **kwargs)\n",
      " pid=35384)\u001b[0m   File \"C:\\Users\\Jason\\Projects\\McLatte\\rnn\\dataset.py\", line 62, in setup\n",
      " pid=35384)\u001b[0m     seq_length = len(full_dataset)\n",
      " pid=35384)\u001b[0m ValueError: __len__() should return >= 0\n",
      " pid=24724)\u001b[0m GPU available: True, used: True\n",
      " pid=24724)\u001b[0m TPU available: False, using: 0 TPU cores\n",
      " pid=24724)\u001b[0m IPU available: False, using: 0 IPUs\n",
      " pid=24724)\u001b[0m 2021-12-10 15:03:22,657\tERROR function_runner.py:268 -- Runner Thread raised error.\n",
      " pid=24724)\u001b[0m Traceback (most recent call last):\n",
      " pid=24724)\u001b[0m   File \"c:\\Users\\Jason\\Projects\\McLatte\\.venv.mclatte\\lib\\site-packages\\ray\\tune\\function_runner.py\", line 262, in run\n",
      " pid=24724)\u001b[0m     self._entrypoint()\n",
      " pid=24724)\u001b[0m   File \"c:\\Users\\Jason\\Projects\\McLatte\\.venv.mclatte\\lib\\site-packages\\ray\\tune\\function_runner.py\", line 330, in entrypoint\n",
      " pid=24724)\u001b[0m     return self._trainable_func(self.config, self._status_reporter,\n",
      " pid=24724)\u001b[0m   File \"C:\\Users\\Jason\\Projects\\McLatte\\.venv.mclatte\\lib\\site-packages\\ray\\util\\tracing\\tracing_helper.py\", line 451, in _resume_span\n",
      " pid=24724)\u001b[0m     return method(self, *_args, **_kwargs)\n",
      " pid=24724)\u001b[0m   File \"C:\\Users\\Jason\\Projects\\McLatte\\.venv.mclatte\\lib\\site-packages\\ray\\tune\\function_runner.py\", line 597, in _trainable_func\n",
      " pid=24724)\u001b[0m     output = fn()\n",
      " pid=24724)\u001b[0m   File \"C:\\Users\\Jason\\Projects\\McLatte\\.venv.mclatte\\lib\\site-packages\\ray\\tune\\utils\\trainable.py\", line 344, in inner\n",
      " pid=24724)\u001b[0m     trainable(config, **fn_kwargs)\n",
      " pid=24724)\u001b[0m   File \"C:\\Users\\Jason\\Projects\\McLatte\\rnn\\model.py\", line 139, in train_baseline_rnn\n",
      " pid=24724)\u001b[0m     trainer.fit(pl_model, data_module)\n",
      " pid=24724)\u001b[0m   File \"c:\\Users\\Jason\\Projects\\McLatte\\.venv.mclatte\\lib\\site-packages\\pytorch_lightning\\trainer\\trainer.py\", line 552, in fit\n",
      " pid=24724)\u001b[0m     self._run(model)\n",
      " pid=24724)\u001b[0m   File \"c:\\Users\\Jason\\Projects\\McLatte\\.venv.mclatte\\lib\\site-packages\\pytorch_lightning\\trainer\\trainer.py\", line 864, in _run\n",
      " pid=24724)\u001b[0m     self._call_setup_hook(model)  # allow user to setup lightning_module in accelerator environment\n",
      " pid=24724)\u001b[0m   File \"c:\\Users\\Jason\\Projects\\McLatte\\.venv.mclatte\\lib\\site-packages\\pytorch_lightning\\trainer\\trainer.py\", line 1177, in _call_setup_hook\n",
      " pid=24724)\u001b[0m     self.datamodule.setup(stage=fn)\n",
      " pid=24724)\u001b[0m   File \"c:\\Users\\Jason\\Projects\\McLatte\\.venv.mclatte\\lib\\site-packages\\pytorch_lightning\\core\\datamodule.py\", line 428, in wrapped_fn\n",
      " pid=24724)\u001b[0m     fn(*args, **kwargs)\n",
      " pid=24724)\u001b[0m   File \"C:\\Users\\Jason\\Projects\\McLatte\\rnn\\dataset.py\", line 62, in setup\n",
      " pid=24724)\u001b[0m     seq_length = len(full_dataset)\n",
      " pid=24724)\u001b[0m ValueError: __len__() should return >= 0\n",
      " pid=24724)\u001b[0m Exception in thread Thread-6:\n",
      " pid=24724)\u001b[0m Traceback (most recent call last):\n",
      " pid=24724)\u001b[0m   File \"C:\\Program Files\\WindowsApps\\PythonSoftwareFoundation.Python.3.9_3.9.2544.0_x64__qbz5n2kfra8p0\\lib\\threading.py\", line 973, in _bootstrap_inner\n",
      " pid=24724)\u001b[0m     self.run()\n",
      " pid=24724)\u001b[0m   File \"c:\\Users\\Jason\\Projects\\McLatte\\.venv.mclatte\\lib\\site-packages\\ray\\tune\\function_runner.py\", line 281, in run\n",
      " pid=24724)\u001b[0m     raise e\n",
      " pid=24724)\u001b[0m   File \"c:\\Users\\Jason\\Projects\\McLatte\\.venv.mclatte\\lib\\site-packages\\ray\\tune\\function_runner.py\", line 262, in run\n",
      " pid=24724)\u001b[0m     self._entrypoint()\n",
      " pid=24724)\u001b[0m   File \"c:\\Users\\Jason\\Projects\\McLatte\\.venv.mclatte\\lib\\site-packages\\ray\\tune\\function_runner.py\", line 330, in entrypoint\n",
      " pid=24724)\u001b[0m     return self._trainable_func(self.config, self._status_reporter,\n",
      " pid=24724)\u001b[0m   File \"C:\\Users\\Jason\\Projects\\McLatte\\.venv.mclatte\\lib\\site-packages\\ray\\util\\tracing\\tracing_helper.py\", line 451, in _resume_span\n",
      " pid=24724)\u001b[0m     return method(self, *_args, **_kwargs)\n",
      " pid=24724)\u001b[0m   File \"C:\\Users\\Jason\\Projects\\McLatte\\.venv.mclatte\\lib\\site-packages\\ray\\tune\\function_runner.py\", line 597, in _trainable_func\n",
      " pid=24724)\u001b[0m     output = fn()\n",
      " pid=24724)\u001b[0m   File \"C:\\Users\\Jason\\Projects\\McLatte\\.venv.mclatte\\lib\\site-packages\\ray\\tune\\utils\\trainable.py\", line 344, in inner\n",
      " pid=24724)\u001b[0m     trainable(config, **fn_kwargs)\n",
      " pid=24724)\u001b[0m   File \"C:\\Users\\Jason\\Projects\\McLatte\\rnn\\model.py\", line 139, in train_baseline_rnn\n",
      " pid=24724)\u001b[0m     trainer.fit(pl_model, data_module)\n",
      " pid=24724)\u001b[0m   File \"c:\\Users\\Jason\\Projects\\McLatte\\.venv.mclatte\\lib\\site-packages\\pytorch_lightning\\trainer\\trainer.py\", line 552, in fit\n",
      " pid=24724)\u001b[0m     self._run(model)\n",
      " pid=24724)\u001b[0m   File \"c:\\Users\\Jason\\Projects\\McLatte\\.venv.mclatte\\lib\\site-packages\\pytorch_lightning\\trainer\\trainer.py\", line 864, in _run\n",
      " pid=24724)\u001b[0m     self._call_setup_hook(model)  # allow user to setup lightning_module in accelerator environment\n",
      " pid=24724)\u001b[0m   File \"c:\\Users\\Jason\\Projects\\McLatte\\.venv.mclatte\\lib\\site-packages\\pytorch_lightning\\trainer\\trainer.py\", line 1177, in _call_setup_hook\n",
      " pid=24724)\u001b[0m     self.datamodule.setup(stage=fn)\n",
      " pid=24724)\u001b[0m   File \"c:\\Users\\Jason\\Projects\\McLatte\\.venv.mclatte\\lib\\site-packages\\pytorch_lightning\\core\\datamodule.py\", line 428, in wrapped_fn\n",
      " pid=24724)\u001b[0m     fn(*args, **kwargs)\n",
      " pid=24724)\u001b[0m   File \"C:\\Users\\Jason\\Projects\\McLatte\\rnn\\dataset.py\", line 62, in setup\n",
      " pid=24724)\u001b[0m     seq_length = len(full_dataset)\n",
      " pid=24724)\u001b[0m ValueError: __len__() should return >= 0\n",
      "\u001b[2m\u001b[36m(pid=None)\u001b[0m [2021-12-10 15:03:28,138 C 34864 5284] local_object_manager.cc:88:  Check failed: (pinned_objects_.count(object_id) > 0) || (spilled_objects_url_.count(object_id) > 0) || (objects_pending_spill_.count(object_id) > 0) \n",
      "\u001b[2m\u001b[36m(pid=None)\u001b[0m *** StackTrace Information ***\n",
      "\u001b[2m\u001b[36m(pid=None)\u001b[0m     BaseThreadInitThunk\n",
      "\u001b[2m\u001b[36m(pid=None)\u001b[0m     RtlUserThreadStart\n",
      "\u001b[2m\u001b[36m(pid=None)\u001b[0m \n",
      "2021-12-10 15:03:57,596\tWARNING worker.py:1245 -- The node with node id: ab1cee49e6887541ad2776ecd8517aeda619e137bfa0a8cc81b61a59 and ip: 127.0.0.1 has been marked dead because the detector has missed too many heartbeats from it. This can happen when a raylet crashes unexpectedly or has lagging heartbeats.\n",
      "\u001b[2m\u001b[36m(pid=None)\u001b[0m [2021-12-10 15:07:44,528 C 37896 38808] redis_client.cc:87:  Check failed: under_retry_limit Expected 1 Redis shard addresses, found 8104303535147543913\n",
      "\u001b[2m\u001b[36m(pid=None)\u001b[0m *** StackTrace Information ***\n",
      "\u001b[2m\u001b[36m(pid=None)\u001b[0m     configthreadlocale\n",
      "\u001b[2m\u001b[36m(pid=None)\u001b[0m     BaseThreadInitThunk\n",
      "\u001b[2m\u001b[36m(pid=None)\u001b[0m     RtlUserThreadStart\n",
      "\u001b[2m\u001b[36m(pid=None)\u001b[0m \n"
     ]
    }
   ],
   "source": [
    "np.mean(mclatte_losses), np.std(mclatte_losses)"
   ]
  },
  {
   "cell_type": "markdown",
   "metadata": {},
   "source": [
    "### Baseline RNN"
   ]
  },
  {
   "cell_type": "code",
   "execution_count": null,
   "metadata": {},
   "outputs": [],
   "source": [
    "hp_config = {\n",
    "    'rnn_class': tune.choice(['rnn']),\n",
    "    'hidden_dim': tune.choice([C]),\n",
    "    'seq_len': tune.choice([32]),\n",
    "    'batch_size': tune.choice([32]),\n",
    "    'epochs': tune.choice([100]),\n",
    "    'lr': tune.loguniform(1e-4, 1e-1),\n",
    "    'gamma': tune.uniform(0.5, 0.99),\n",
    "}\n",
    "sync_config = tune.SyncConfig()"
   ]
  },
  {
   "cell_type": "code",
   "execution_count": null,
   "metadata": {},
   "outputs": [],
   "source": [
    "rnn_trainable = tune.with_parameters(\n",
    "    train_baseline_rnn,\n",
    "    Y=np.concatenate((Y_pre, Y_post), axis=1),\n",
    "    input_dim=1, \n",
    ")"
   ]
  },
  {
   "cell_type": "code",
   "execution_count": null,
   "metadata": {},
   "outputs": [],
   "source": [
    "analysis = tune.run(\n",
    "    rnn_trainable,\n",
    "    name='tune_pl_baseline_rnn',\n",
    "    local_dir=os.path.join(os.getcwd(), 'data'),\n",
    "    sync_config=sync_config,\n",
    "    resources_per_trial={\n",
    "        \"cpu\": 8,\n",
    "        \"gpu\": 1,\n",
    "    },\n",
    "    metric='valid_loss',\n",
    "    mode='min',\n",
    "    checkpoint_score_attr='valid_loss',\n",
    "    keep_checkpoints_num=5,\n",
    "    config=hp_config,\n",
    "    num_samples=10,\n",
    "    verbose=1,\n",
    "    resume='AUTO',\n",
    ")"
   ]
  },
  {
   "cell_type": "markdown",
   "metadata": {},
   "source": [
    "### SyncTwin"
   ]
  },
  {
   "cell_type": "code",
   "execution_count": 15,
   "metadata": {},
   "outputs": [],
   "source": [
    "hp_config = {\n",
    "    'hidden_dim': tune.choice([C]),\n",
    "    'reg_B': tune.choice([1]),\n",
    "    'lam_express': tune.choice([1]),\n",
    "    'lam_recon': tune.choice([1]),\n",
    "    'lam_prognostic': tune.choice([1]),\n",
    "    'tau': tune.choice([1]),\n",
    "    'batch_size': tune.choice([32]),\n",
    "    'epochs': tune.choice([100]),\n",
    "    'lr': tune.loguniform(1e-4, 1e-1),\n",
    "    'gamma': tune.uniform(0.5, 0.99),\n",
    "}\n",
    "sync_config = tune.SyncConfig()"
   ]
  },
  {
   "cell_type": "code",
   "execution_count": 16,
   "metadata": {},
   "outputs": [],
   "source": [
    "Y_mask = np.all(A == 0, axis=1)\n",
    "Y_control = Y_post[Y_mask]"
   ]
  },
  {
   "cell_type": "code",
   "execution_count": 17,
   "metadata": {},
   "outputs": [
    {
     "data": {
      "text/plain": [
       "(28, 5)"
      ]
     },
     "execution_count": 17,
     "metadata": {},
     "output_type": "execute_result"
    }
   ],
   "source": [
    "Y_control.shape"
   ]
  },
  {
   "cell_type": "code",
   "execution_count": 18,
   "metadata": {},
   "outputs": [],
   "source": [
    "st_trainable = tune.with_parameters(\n",
    "    train_synctwin,\n",
    "    X=X,\n",
    "    M_=M_,\n",
    "    T=T,\n",
    "    Y_batch=Y_post,\n",
    "    Y_control=Y_control,\n",
    "    Y_mask=Y_mask, \n",
    "    N=N,\n",
    "    D=D,\n",
    "    n_treated=N - Y_control.shape[0],\n",
    "    pre_trt_x_len=R * M,\n",
    ")"
   ]
  },
  {
   "cell_type": "code",
   "execution_count": 19,
   "metadata": {},
   "outputs": [
    {
     "data": {
      "text/html": [
       "== Status ==<br>Current time: 2021-12-10 01:13:29 (running for 00:05:50.23)<br>Memory usage on this node: 19.8/63.8 GiB<br>Using FIFO scheduling algorithm.<br>Resources requested: 8.0/16 CPUs, 1.0/1 GPUs, 0.0/30.13 GiB heap, 0.0/15.07 GiB objects<br>Current best trial: 917c5_00000 with valid_loss=2.7069103717803955 and parameters={'hidden_dim': 4, 'reg_B': 1, 'lam_express': 1, 'lam_recon': 1, 'lam_prognostic': 1, 'tau': 1, 'batch_size': 32, 'epochs': 100, 'lr': 0.002361676187510888, 'gamma': 0.836599767906163}<br>Result logdir: c:\\Users\\Jason\\Projects\\McLatte\\data\\tune_pl_sync_twin<br>Number of trials: 10/10 (9 PENDING, 1 RUNNING)<br><br>"
      ],
      "text/plain": [
       "<IPython.core.display.HTML object>"
      ]
     },
     "metadata": {},
     "output_type": "display_data"
    },
    {
     "name": "stderr",
     "output_type": "stream",
     "text": [
      "2021-12-10 01:13:29,446\tERROR tune.py:622 -- Trials did not complete: [train_synctwin_917c5_00000, train_synctwin_917c5_00001, train_synctwin_917c5_00002, train_synctwin_917c5_00003, train_synctwin_917c5_00004, train_synctwin_917c5_00005, train_synctwin_917c5_00006, train_synctwin_917c5_00007, train_synctwin_917c5_00008, train_synctwin_917c5_00009]\n",
      "2021-12-10 01:13:29,447\tINFO tune.py:626 -- Total run time: 350.50 seconds (350.22 seconds for the tuning loop).\n",
      "2021-12-10 01:13:29,447\tWARNING tune.py:630 -- Experiment has been interrupted, but the most recent state was saved. You can continue running this experiment by passing `resume=True` to `tune.run()`\n",
      " pid=33736)\u001b[0m Traceback (most recent call last):\n",
      " pid=33736)\u001b[0m   File \"<string>\", line 1, in <module>\n",
      " pid=33736)\u001b[0m   File \"C:\\Program Files\\WindowsApps\\PythonSoftwareFoundation.Python.3.9_3.9.2544.0_x64__qbz5n2kfra8p0\\lib\\multiprocessing\\spawn.py\", line 116, in spawn_main\n",
      " pid=33736)\u001b[0m     exitcode = _main(fd, parent_sentinel)\n",
      " pid=33736)\u001b[0m   File \"C:\\Program Files\\WindowsApps\\PythonSoftwareFoundation.Python.3.9_3.9.2544.0_x64__qbz5n2kfra8p0\\lib\\multiprocessing\\spawn.py\", line 126, in _main\n",
      " pid=33736)\u001b[0m     self = reduction.pickle.load(from_parent)\n",
      " pid=33736)\u001b[0m _pickle.UnpicklingError: pickle data was truncated\n",
      "\u001b[2m\u001b[36m(pid=None)\u001b[0m [2021-12-10 01:14:02,326 C 7580 26588] redis_client.cc:87:  Check failed: under_retry_limit Expected 1 Redis shard addresses, found 8247328359524230500\n",
      "\u001b[2m\u001b[36m(pid=None)\u001b[0m *** StackTrace Information ***\n",
      "\u001b[2m\u001b[36m(pid=None)\u001b[0m     configthreadlocale\n",
      "\u001b[2m\u001b[36m(pid=None)\u001b[0m     BaseThreadInitThunk\n",
      "\u001b[2m\u001b[36m(pid=None)\u001b[0m     RtlUserThreadStart\n",
      "\u001b[2m\u001b[36m(pid=None)\u001b[0m \n",
      "\u001b[2m\u001b[36m(pid=None)\u001b[0m [2021-12-10 01:14:06,135 C 23864 25356] local_object_manager.cc:79:  Check failed: core_worker_subscriber_->Subscribe( std::move(sub_message), rpc::ChannelType::WORKER_OBJECT_EVICTION, owner_address, object_id.Binary(), nullptr, subscription_callback, owner_dead_callback) \n",
      "\u001b[2m\u001b[36m(pid=None)\u001b[0m *** StackTrace Information ***\n",
      "\u001b[2m\u001b[36m(pid=None)\u001b[0m     BaseThreadInitThunk\n",
      "\u001b[2m\u001b[36m(pid=None)\u001b[0m     RtlUserThreadStart\n",
      "\u001b[2m\u001b[36m(pid=None)\u001b[0m \n"
     ]
    }
   ],
   "source": [
    "analysis = tune.run(\n",
    "    st_trainable,\n",
    "    name='tune_pl_sync_twin',\n",
    "    local_dir=os.path.join(os.getcwd(), 'data'),\n",
    "    sync_config=sync_config,\n",
    "    resources_per_trial={\n",
    "        \"cpu\": 8,\n",
    "        \"gpu\": 1,\n",
    "    },\n",
    "    metric='valid_loss',\n",
    "    mode='min',\n",
    "    checkpoint_score_attr='valid_loss',\n",
    "    keep_checkpoints_num=5,\n",
    "    config=hp_config,\n",
    "    num_samples=10,\n",
    "    verbose=1,\n",
    "    resume='AUTO',\n",
    ")"
   ]
  },
  {
   "cell_type": "code",
   "execution_count": null,
   "metadata": {},
   "outputs": [],
   "source": []
  }
 ],
 "metadata": {
  "interpreter": {
   "hash": "852d66bd2a456ad8c66b277a4fc8ac1a7bcd6ab870e3be824a8a6385faf13d3b"
  },
  "kernelspec": {
   "display_name": "Python 3.9.9 64-bit ('.venv.mclatte': venv)",
   "language": "python",
   "name": "python3"
  },
  "language_info": {
   "codemirror_mode": {
    "name": "ipython",
    "version": 3
   },
   "file_extension": ".py",
   "mimetype": "text/x-python",
   "name": "python",
   "nbconvert_exporter": "python",
   "pygments_lexer": "ipython3",
   "version": "3.9.9"
  },
  "orig_nbformat": 4
 },
 "nbformat": 4,
 "nbformat_minor": 2
}
