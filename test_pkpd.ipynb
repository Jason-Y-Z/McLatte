{
 "cells": [
  {
   "cell_type": "code",
   "execution_count": 1,
   "metadata": {},
   "outputs": [],
   "source": [
    "import joblib\n",
    "import numpy as np\n",
    "import os\n",
    "import pandas as pd\n",
    "import plotly.graph_objects as go\n",
    "import torch\n",
    "from mclatte.model import (\n",
    "    train_mclatte, \n",
    "    train_semi_skimmed_mclatte, \n",
    "    train_skimmed_mclatte, \n",
    "    McLatte,\n",
    "    SemiSkimmedMcLatte,\n",
    "    SkimmedMcLatte,\n",
    ")\n",
    "from rnn.model import (\n",
    "    train_baseline_rnn,\n",
    "    BaselineRnn,\n",
    ")\n",
    "from scipy.stats import ttest_ind\n",
    "from synctwin import io_utils\n",
    "from synctwin.model import (\n",
    "    train_synctwin,\n",
    "    SyncTwinPl,\n",
    ")"
   ]
  },
  {
   "cell_type": "markdown",
   "metadata": {},
   "source": [
    "## Data Generation"
   ]
  },
  {
   "cell_type": "markdown",
   "metadata": {},
   "source": [
    "Constants used for generation"
   ]
  },
  {
   "cell_type": "code",
   "execution_count": null,
   "metadata": {},
   "outputs": [],
   "source": [
    "sim_id = '0.25_200'\n",
    "seed = 509\n",
    "model_id = \"\"\n",
    "M = 5\n",
    "H = 5\n",
    "R = 5 \n",
    "D = 3 \n",
    "K = 1 \n",
    "C = 3"
   ]
  },
  {
   "cell_type": "code",
   "execution_count": null,
   "metadata": {},
   "outputs": [],
   "source": [
    "def generate_data(p_0, N):\n",
    "    base_path_data = f\"data/pkpd/{p_0}_{N}-seed-{seed}\"\n",
    "    data_path = base_path_data + \"/{}-{}.{}\"\n",
    "\n",
    "    # loading config and data\n",
    "    io_utils.load_config(\n",
    "        data_path, \"train\"\n",
    "    )\n",
    "    x_full, t_full, mask_full, _, y_full, _, _, _, _, _ = io_utils.load_tensor(data_path, \"train\", device='cpu')\n",
    "    x_full_val, t_full_val, mask_full_val, _, y_full_val, _, _, _, _, _ = io_utils.load_tensor(data_path, \"val\", device='cpu')\n",
    "\n",
    "    x = np.concatenate((x_full.cpu().numpy(), x_full_val.cpu().numpy()), axis=1)\n",
    "    t = np.concatenate((t_full.cpu().numpy(), t_full_val.cpu().numpy()), axis=1)\n",
    "    mask = np.concatenate((mask_full.cpu().numpy(), mask_full_val.cpu().numpy()), axis=1)\n",
    "    y = np.concatenate((y_full.cpu().numpy(), y_full_val.cpu().numpy()), axis=1).squeeze()\n",
    "\n",
    "    X = x.transpose((1, 0, 2))\n",
    "    N = X.shape[0]\n",
    "    rand_index = np.random.permutation(N)\n",
    "    X = X[rand_index]\n",
    "    M_ = mask.transpose((1, 0, 2))[rand_index]\n",
    "    Y_pre = y.T[rand_index]\n",
    "    Y_post = y.T[rand_index]\n",
    "    A = np.concatenate((np.zeros((N // 4, 1)), np.ones((N // 4, 1)), np.zeros((N // 4, 1)), np.ones((N // 4, 1))), axis=0)[rand_index]\n",
    "    T = t.transpose((1, 0, 2))[rand_index]\n",
    "\n",
    "    N_train = round(N * 0.8)\n",
    "    N_test = round(N * 0.2)\n",
    "    X_train, X_test = X[:N_train], X[N_train:]\n",
    "    M_train, M_test = M_[:N_train], M_[N_train:]\n",
    "    Y_pre_train, Y_pre_test = Y_pre[:N_train], Y_pre[N_train:]\n",
    "    Y_post_train, Y_post_test = Y_post[:N_train], Y_post[N_train:]\n",
    "    A_train, A_test = A[:N_train], A[N_train:]\n",
    "    T_train, T_test = T[:N_train], T[N_train:]\n",
    "\n",
    "    return (\n",
    "        (N_train, M, H, R, D, K, C, X_train, M_train, Y_pre_train, Y_post_train, A_train, T_train),\n",
    "        (N_test, M, H, R, D, K, C, X_test, M_test, Y_pre_test, Y_post_test, A_test, T_test),\n",
    "    )"
   ]
  },
  {
   "cell_type": "code",
   "execution_count": null,
   "metadata": {},
   "outputs": [],
   "source": [
    "# joblib.dump((N_train, M, H, R, D, K, C, X_train, M_train, Y_pre_train, Y_post_train, A_train, T_train), f'data/pkpd/data_{sim_id}.joblib')\n",
    "# joblib.dump((N_test, M, H, R, D, K, C, X_test, M_test, Y_pre_test, Y_post_test, A_test, T_test), f'data/pkpd/test_data_{sim_id}.joblib')"
   ]
  },
  {
   "cell_type": "code",
   "execution_count": null,
   "metadata": {},
   "outputs": [],
   "source": [
    "def na_catcher(func):\n",
    "    def wrapper_na_catcher(*args, **kwargs):\n",
    "        try:\n",
    "            return func(*args, **kwargs)\n",
    "        except Exception as e:\n",
    "            print(e)\n",
    "            return np.nan\n",
    "    return wrapper_na_catcher"
   ]
  },
  {
   "cell_type": "markdown",
   "metadata": {},
   "source": [
    "## Modelling"
   ]
  },
  {
   "cell_type": "markdown",
   "metadata": {},
   "source": [
    "### McLatte"
   ]
  },
  {
   "cell_type": "code",
   "execution_count": null,
   "metadata": {},
   "outputs": [],
   "source": [
    "def infer_mcespresso(trained_mcespresso, X_test, A_test, T_test, M_test):\n",
    "    trained_mcespresso.eval()\n",
    "    return trained_mcespresso(\n",
    "        torch.from_numpy(X_test).float(),\n",
    "        torch.from_numpy(A_test).float(),\n",
    "        torch.from_numpy(T_test).float(),\n",
    "        torch.from_numpy(M_test).float(),\n",
    "    )"
   ]
  },
  {
   "cell_type": "markdown",
   "metadata": {},
   "source": [
    "#### Vanilla"
   ]
  },
  {
   "cell_type": "code",
   "execution_count": null,
   "metadata": {},
   "outputs": [],
   "source": [
    "# print(pd.read_csv(os.path.join(os.getcwd(), 'results_pkpd/mclatte_hp_pkpd.csv')).sort_values(by='valid_loss').iloc[0])\n",
    "mclatte_config = {\n",
    "    'encoder_class': 'lstm',\n",
    "    'decoder_class': 'lstm',\n",
    "    'hidden_dim': 64,\n",
    "    'batch_size': 64,\n",
    "    'epochs': 100,\n",
    "    'lr': 0.001944,\n",
    "    'gamma': 0.957115,\n",
    "    'lambda_r': 0.311437,\n",
    "    'lambda_d': 0.118073,\n",
    "    'lambda_p': 0.49999,\n",
    "}"
   ]
  },
  {
   "cell_type": "code",
   "execution_count": null,
   "metadata": {},
   "outputs": [],
   "source": [
    "def test_mclatte(\n",
    "    X_train, \n",
    "    X_test, \n",
    "    M_train, \n",
    "    M_test, \n",
    "    Y_pre_train, \n",
    "    Y_post_train, \n",
    "    Y_post_test, \n",
    "    A_train, \n",
    "    A_test, \n",
    "    T_train, \n",
    "    T_test,\n",
    "    run_idx=0,\n",
    "):\n",
    "    trained_mclatte = train_mclatte(\n",
    "        mclatte_config,\n",
    "        X_train,\n",
    "        M_train,\n",
    "        Y_pre_train,\n",
    "        Y_post_train,\n",
    "        A_train, \n",
    "        T_train,\n",
    "        R,\n",
    "        M,\n",
    "        H,\n",
    "        input_dim=D, \n",
    "        treatment_dim=K, \n",
    "        test_run=run_idx,\n",
    "    )\n",
    "    _, _, y_tilde = infer_mcespresso(\n",
    "        trained_mclatte, X_test, A_test, T_test, M_test\n",
    "    )\n",
    "    \n",
    "    return torch.nn.functional.l1_loss(\n",
    "        y_tilde, \n",
    "        torch.from_numpy(Y_post_test).float()\n",
    "    ).item()"
   ]
  },
  {
   "cell_type": "markdown",
   "metadata": {},
   "source": [
    "#### Semi-Skimmed"
   ]
  },
  {
   "cell_type": "code",
   "execution_count": null,
   "metadata": {},
   "outputs": [],
   "source": [
    "# print(pd.read_csv(os.path.join(os.getcwd(), 'results_pkpd/semi_skimmed_mclatte_hp_pkpd.csv')).sort_values(by='valid_loss').iloc[0])\n",
    "semi_skimmed_mclatte_config = {\n",
    "    'encoder_class': 'lstm',\n",
    "    'decoder_class': 'lstm',\n",
    "    'hidden_dim': 64,\n",
    "    'batch_size': 64,\n",
    "    'epochs': 100,\n",
    "    'lr': 0.001944,\n",
    "    'gamma': 0.957115,\n",
    "    'lambda_r': 0.311437,\n",
    "    'lambda_d': 0.118073,\n",
    "    'lambda_p': 0.49999,\n",
    "}"
   ]
  },
  {
   "cell_type": "code",
   "execution_count": null,
   "metadata": {},
   "outputs": [],
   "source": [
    "def test_semi_skimmed_mclatte(\n",
    "    X_train, \n",
    "    X_test, \n",
    "    M_train, \n",
    "    M_test, \n",
    "    Y_pre_train, \n",
    "    Y_post_train, \n",
    "    Y_post_test, \n",
    "    A_train, \n",
    "    A_test, \n",
    "    T_train, \n",
    "    T_test,\n",
    "    run_idx=0,\n",
    "):\n",
    "    trained_semi_skimmed_mclatte = train_semi_skimmed_mclatte(\n",
    "        semi_skimmed_mclatte_config,\n",
    "        X_train,\n",
    "        M_train,\n",
    "        Y_pre_train,\n",
    "        Y_post_train,\n",
    "        A_train, \n",
    "        T_train,\n",
    "        R,\n",
    "        M,\n",
    "        H,\n",
    "        input_dim=D, \n",
    "        treatment_dim=K, \n",
    "        test_run=run_idx,\n",
    "    )\n",
    "    _, _, y_tilde = infer_mcespresso(\n",
    "        trained_semi_skimmed_mclatte, X_test, A_test, T_test, M_test\n",
    "    )\n",
    "    \n",
    "    return torch.nn.functional.l1_loss(\n",
    "        y_tilde, \n",
    "        torch.from_numpy(Y_post_test).float()\n",
    "    ).item()"
   ]
  },
  {
   "cell_type": "markdown",
   "metadata": {},
   "source": [
    "#### Skimmed"
   ]
  },
  {
   "cell_type": "code",
   "execution_count": null,
   "metadata": {},
   "outputs": [],
   "source": [
    "# print(pd.read_csv(os.path.join(os.getcwd(), 'results_pkpd/skimmed_mclatte_hp_pkpd.csv')).sort_values(by='valid_loss').iloc[0])\n",
    "skimmed_mclatte_config = {\n",
    "    'encoder_class': 'lstm',\n",
    "    'decoder_class': 'lstm',\n",
    "    'hidden_dim': 64,\n",
    "    'batch_size': 64,\n",
    "    'epochs': 100,\n",
    "    'lr': 0.021114,\n",
    "    'gamma': 0.980614,\n",
    "    'lambda_r': 0.093878,\n",
    "    'lambda_p': 0.485204,\n",
    "}"
   ]
  },
  {
   "cell_type": "code",
   "execution_count": null,
   "metadata": {},
   "outputs": [],
   "source": [
    "def test_skimmed_mclatte(\n",
    "    X_train, \n",
    "    X_test, \n",
    "    M_train, \n",
    "    M_test, \n",
    "    Y_pre_train, \n",
    "    Y_post_train, \n",
    "    Y_post_test, \n",
    "    A_train, \n",
    "    A_test, \n",
    "    T_train, \n",
    "    T_test,\n",
    "    run_idx=0,\n",
    "):\n",
    "    trained_skimmed_mclatte = train_skimmed_mclatte(\n",
    "        skimmed_mclatte_config,\n",
    "        X_train,\n",
    "        M_train,\n",
    "        Y_pre_train,\n",
    "        Y_post_train,\n",
    "        A_train, \n",
    "        T_train,\n",
    "        R,\n",
    "        M,\n",
    "        H,\n",
    "        input_dim=D, \n",
    "        treatment_dim=K, \n",
    "        test_run=run_idx,\n",
    "    )\n",
    "    _, y_tilde = infer_mcespresso(\n",
    "        trained_skimmed_mclatte, X_test, A_test, T_test, M_test\n",
    "    )\n",
    "    \n",
    "    return torch.nn.functional.l1_loss(\n",
    "        y_tilde, \n",
    "        torch.from_numpy(Y_post_test).float()\n",
    "    ).item()"
   ]
  },
  {
   "cell_type": "markdown",
   "metadata": {},
   "source": [
    "### Baseline RNN"
   ]
  },
  {
   "cell_type": "code",
   "execution_count": null,
   "metadata": {},
   "outputs": [],
   "source": [
    "# print(pd.read_csv(os.path.join(os.getcwd(), 'results/baseline_rnn_hp_pkpd.csv')).sort_values(by='valid_loss').iloc[0])\n",
    "rnn_config = {\n",
    "    'rnn_class': 'gru',\n",
    "    'hidden_dim': 64,\n",
    "    'seq_len': 2,\n",
    "    'batch_size': 64,\n",
    "    'epochs': 100,\n",
    "    'lr': 0.025182,\n",
    "    'gamma': 0.543008,\n",
    "}"
   ]
  },
  {
   "cell_type": "code",
   "execution_count": null,
   "metadata": {},
   "outputs": [],
   "source": [
    "def rnn_predict(trained_rnn, Y_pre, Y_post, return_Y_pred=False):\n",
    "    \"\"\"\n",
    "    Make predictions using results from previous time steps.\n",
    "    \"\"\"\n",
    "    Y = Y_pre\n",
    "    losses = 0.0\n",
    "    Y_pred = []\n",
    "    for i in range(Y_post.shape[1]):\n",
    "        Y_tilde = trained_rnn(\n",
    "            torch.from_numpy(Y).float().unsqueeze(2)\n",
    "        ).squeeze()\n",
    "\n",
    "        Y = np.concatenate((\n",
    "            Y[:, 1:], \n",
    "            Y_tilde.cpu().detach().numpy()[:, [-1]]\n",
    "        ), axis=1)\n",
    "        \n",
    "        losses += torch.nn.functional.l1_loss(\n",
    "            Y_tilde[:, -1], \n",
    "            torch.from_numpy(Y_post).float()[:, i]\n",
    "        ).item()\n",
    "        Y_pred.append(Y_tilde[:, -1])\n",
    "    if return_Y_pred:\n",
    "        return torch.stack(Y_pred, 1)\n",
    "    return losses / Y_post.shape[1]"
   ]
  },
  {
   "cell_type": "code",
   "execution_count": null,
   "metadata": {},
   "outputs": [],
   "source": [
    "def infer_rnn(trained_rnn, Y_pre_test, Y_post_test, return_Y_pred=False):\n",
    "    trained_rnn.eval()\n",
    "    return rnn_predict(trained_rnn, Y_pre_test, Y_post_test, return_Y_pred)"
   ]
  },
  {
   "cell_type": "code",
   "execution_count": null,
   "metadata": {},
   "outputs": [],
   "source": [
    "def test_rnn(\n",
    "    Y_pre_train, \n",
    "    Y_pre_test, \n",
    "    Y_post_train, \n",
    "    Y_post_test, \n",
    "    run_idx=0,\n",
    "):\n",
    "    trained_rnn = train_baseline_rnn(\n",
    "        rnn_config,\n",
    "        Y=np.concatenate((Y_pre_train, Y_post_train), axis=1),\n",
    "        input_dim=1, \n",
    "        test_run=run_idx,\n",
    "    )\n",
    "\n",
    "    trained_rnn.eval()\n",
    "    return rnn_predict(trained_rnn, Y_pre_test, Y_post_test)"
   ]
  },
  {
   "cell_type": "markdown",
   "metadata": {},
   "source": [
    "### SyncTwin"
   ]
  },
  {
   "cell_type": "code",
   "execution_count": null,
   "metadata": {},
   "outputs": [],
   "source": [
    "# print(pd.read_csv(os.path.join(os.getcwd(), 'results/synctwin_hp_pkpd.csv')).sort_values(by='valid_loss').iloc[0])\n",
    "synctwin_config = {\n",
    "    'hidden_dim': 128,\n",
    "    'reg_B': 0.778155,\n",
    "    'lam_express': 0.658256,\n",
    "    'lam_recon': 0.086627,\n",
    "    'lam_prognostic': 0.631468,\n",
    "    'tau': 0.911613,\n",
    "    'batch_size': 32,\n",
    "    'epochs': 100,\n",
    "    'lr': 0.003222,\n",
    "    'gamma': 0.572529,\n",
    "}"
   ]
  },
  {
   "cell_type": "code",
   "execution_count": null,
   "metadata": {},
   "outputs": [],
   "source": [
    "def infer_synctwin(trained_synctwin, N_test, Y_post_test):\n",
    "    trained_synctwin.eval()\n",
    "    return trained_synctwin._sync_twin.get_prognostics(\n",
    "        torch.arange(0, N_test).cpu(),  \n",
    "        torch.from_numpy(Y_post_test).float().cpu()\n",
    "    )"
   ]
  },
  {
   "cell_type": "code",
   "execution_count": null,
   "metadata": {},
   "outputs": [],
   "source": [
    "def test_synctwin(\n",
    "    N_train, \n",
    "    N_test, \n",
    "    X_train, \n",
    "    X_test, \n",
    "    M_train, \n",
    "    M_test, \n",
    "    Y_post_train, \n",
    "    Y_post_test, \n",
    "    A_train, \n",
    "    A_test, \n",
    "    T_train, \n",
    "    T_test,\n",
    "    run_idx=0,\n",
    "):\n",
    "    Y_mask_train = np.all(A_train == 0, axis=1)\n",
    "    Y_mask_test = np.all(A_test == 0, axis=1)\n",
    "    Y_control_train = Y_post_train[Y_mask_train]\n",
    "\n",
    "    trained_synctwin = train_synctwin(\n",
    "        synctwin_config,\n",
    "        X=X_train,\n",
    "        M_=M_train,\n",
    "        T=T_train,\n",
    "        Y_batch=Y_post_train,\n",
    "        Y_control=Y_control_train,\n",
    "        Y_mask=Y_mask_train, \n",
    "        N=N_train,\n",
    "        D=D,\n",
    "        n_treated=N_train - Y_control_train.shape[0],\n",
    "        pre_trt_x_len=R * M,\n",
    "        test_run=run_idx,\n",
    "    )\n",
    "\n",
    "    trained_synctwin.eval()\n",
    "    _, l1_loss = trained_synctwin(\n",
    "        torch.from_numpy(X_test).float(),\n",
    "        torch.from_numpy(T_test).float(),\n",
    "        torch.from_numpy(M_test).float(),\n",
    "        torch.arange(0, N_test),\n",
    "        torch.from_numpy(Y_post_test).float(),\n",
    "        torch.from_numpy(Y_mask_test).float(),\n",
    "    )\n",
    "    return l1_loss.item()"
   ]
  },
  {
   "cell_type": "markdown",
   "metadata": {},
   "source": [
    "## Test Models"
   ]
  },
  {
   "cell_type": "code",
   "execution_count": null,
   "metadata": {},
   "outputs": [],
   "source": [
    "N_TEST = 5"
   ]
  },
  {
   "cell_type": "code",
   "execution_count": 5,
   "metadata": {},
   "outputs": [],
   "source": [
    "TEST_CONFIGS = [\n",
    "    [200, '0.1'],\n",
    "    [200, '0.25'],\n",
    "    [200, '0.5'],\n",
    "    [1000, '0.1'],\n",
    "    [1000, '0.25'],\n",
    "    [1000, '0.5'],\n",
    "]"
   ]
  },
  {
   "cell_type": "code",
   "execution_count": null,
   "metadata": {},
   "outputs": [],
   "source": [
    "for config_idx in range(0):\n",
    "    config = TEST_CONFIGS[config_idx]\n",
    "    mclatte_losses = []\n",
    "    semi_skimmed_mclatte_losses = []\n",
    "    skimmed_mclatte_losses = []\n",
    "    rnn_losses = []\n",
    "    synctwin_losses = []\n",
    "    for i in range(N_TEST * config_idx + 1, N_TEST * (1 + config_idx) + 1):\n",
    "        (\n",
    "            (N_train, M, H, R, D, K, C, X_train, M_train, Y_pre_train, Y_post_train, A_train, T_train),\n",
    "            (N_test, M, H, R, D, K, C, X_test, M_test, Y_pre_test, Y_post_test, A_test, T_test),\n",
    "        ) = generate_data(config[1], config[0])\n",
    "\n",
    "        mclatte_losses.append(test_mclatte(\n",
    "            X_train, \n",
    "            X_test, \n",
    "            M_train, \n",
    "            M_test, \n",
    "            Y_pre_train, \n",
    "            Y_post_train, \n",
    "            Y_post_test, \n",
    "            A_train, \n",
    "            A_test, \n",
    "            T_train, \n",
    "            T_test,\n",
    "            run_idx=i,\n",
    "        ))\n",
    "        semi_skimmed_mclatte_losses.append(test_semi_skimmed_mclatte(\n",
    "            X_train, \n",
    "            X_test, \n",
    "            M_train, \n",
    "            M_test, \n",
    "            Y_pre_train, \n",
    "            Y_post_train, \n",
    "            Y_post_test, \n",
    "            A_train, \n",
    "            A_test, \n",
    "            T_train, \n",
    "            T_test,\n",
    "            run_idx=i,\n",
    "        ))\n",
    "        skimmed_mclatte_losses.append(test_skimmed_mclatte(\n",
    "            X_train, \n",
    "            X_test, \n",
    "            M_train, \n",
    "            M_test, \n",
    "            Y_pre_train, \n",
    "            Y_post_train, \n",
    "            Y_post_test, \n",
    "            A_train, \n",
    "            A_test, \n",
    "            T_train, \n",
    "            T_test,\n",
    "            run_idx=i,\n",
    "        ))\n",
    "\n",
    "        rnn_losses.append(test_rnn(\n",
    "            Y_pre_train,\n",
    "            Y_pre_test,\n",
    "            Y_post_train,\n",
    "            Y_post_test,\n",
    "            run_idx=i,\n",
    "        ))\n",
    "\n",
    "        synctwin_losses.append(test_synctwin(\n",
    "            N_train, \n",
    "            N_test, \n",
    "            X_train, \n",
    "            X_test, \n",
    "            M_train, \n",
    "            M_test, \n",
    "            Y_post_train, \n",
    "            Y_post_test, \n",
    "            A_train, \n",
    "            A_test, \n",
    "            T_train, \n",
    "            T_test,\n",
    "            run_idx=i,\n",
    "        ))\n",
    "        joblib.dump((\n",
    "            config, \n",
    "            mclatte_losses, \n",
    "            semi_skimmed_mclatte_losses, \n",
    "            skimmed_mclatte_losses, \n",
    "            rnn_losses, \n",
    "            synctwin_losses\n",
    "        ), f'results/test/config_{config_idx}_pkpd.joblib')"
   ]
  },
  {
   "cell_type": "markdown",
   "metadata": {},
   "source": [
    "### Statistical Testing"
   ]
  },
  {
   "cell_type": "code",
   "execution_count": 2,
   "metadata": {},
   "outputs": [],
   "source": [
    "LOSS_NAMES = ['McLatte', 'Semi-Skimmed McLatte', 'Skimmed McLatte', 'RNN', 'SyncTwin']"
   ]
  },
  {
   "cell_type": "code",
   "execution_count": 9,
   "metadata": {},
   "outputs": [],
   "source": [
    "def test_losses(losses):\n",
    "    t_test_results = pd.DataFrame(columns=LOSS_NAMES, index=LOSS_NAMES)\n",
    "\n",
    "    for i in range(len(LOSS_NAMES)):\n",
    "        for j in range(len(LOSS_NAMES)):\n",
    "            t = ttest_ind(losses[i], losses[j], alternative='less')\n",
    "            t_test_results[LOSS_NAMES[i]][LOSS_NAMES[j]] = t.pvalue\n",
    "    return t_test_results"
   ]
  },
  {
   "cell_type": "code",
   "execution_count": 12,
   "metadata": {},
   "outputs": [
    {
     "name": "stdout",
     "output_type": "stream",
     "text": [
      "McLatte & .5000 & .3377 & .0003 & .0001 & .0000 \\\\\n",
      "Semi-Skimmed McLatte & .6623 & .5000 & .0003 & .0001 & .0000 \\\\\n",
      "Skimmed McLatte & .9997 & .9997 & .5000 & .0019 & .0000 \\\\\n",
      "RNN & .9999 & .9999 & .9981 & .5000 & .1806 \\\\\n",
      "SyncTwin & .0000 & .0000 & .0000 & .8194 & .5000 \\\\\n"
     ]
    }
   ],
   "source": [
    "all_losses = [[] for _ in range(len(LOSS_NAMES))]\n",
    "for config_id in range(len(TEST_CONFIGS)):\n",
    "    _, *losses = joblib.load(f'results_pkpd/maes/config_{config_id}_pkpd.joblib')\n",
    "    # print(test_losses(losses))\n",
    "    for i in range(len(LOSS_NAMES)):\n",
    "        all_losses[i] += losses[i]\n",
    "\n",
    "all_results = test_losses(all_losses)\n",
    "for col_i in LOSS_NAMES:\n",
    "    print(col_i, end=' ')\n",
    "    for col_j in LOSS_NAMES:\n",
    "        print(f'& ' + f'{all_results[col_i][col_j]:.4f}'[1:], end=' ')\n",
    "    print('\\\\\\\\')"
   ]
  },
  {
   "cell_type": "markdown",
   "metadata": {},
   "source": [
    "### Plot with trained models"
   ]
  },
  {
   "cell_type": "code",
   "execution_count": null,
   "metadata": {},
   "outputs": [],
   "source": [
    "PLOT_SUB_ID = 1"
   ]
  },
  {
   "cell_type": "code",
   "execution_count": null,
   "metadata": {},
   "outputs": [],
   "source": [
    "def line_model_pred(fig, model, name, infer_model, config_id, plot_sub_id, post_t, y_pre_plot, *infer_args):\n",
    "    trained_model = model.load_from_checkpoint(os.path.join(os.getcwd(), f'results_pkpd/trained_models/{name}_{config_id + 1}.ckpt'))\n",
    "    y_tilde = infer_model(trained_model, *infer_args)\n",
    "    y_pred_plot = [y_pre_plot[-1]] + list(y_tilde.detach().numpy()[plot_sub_id])\n",
    "    line_pred_model = go.Scatter(x=post_t, y=y_pred_plot, name=f'{name}', line={'dash': 'dash'})\n",
    "    fig.add_trace(line_pred_model)"
   ]
  },
  {
   "cell_type": "code",
   "execution_count": null,
   "metadata": {},
   "outputs": [],
   "source": [
    "def plot_config_results(config_id):\n",
    "    config = TEST_CONFIGS[config_id]\n",
    "    (\n",
    "        _, (N_test, _, _, _, _, _, _, X_test, M_test, Y_pre_test, Y_post_test, A_test, T_test),\n",
    "    ) = generate_data(config[1], config[0])\n",
    "\n",
    "    y_pre_plot = Y_pre_test[PLOT_SUB_ID]\n",
    "    pre_t = list(range(y_pre_plot.shape[0]))\n",
    "\n",
    "    y_post_plot = [y_pre_plot[-1]] + list(Y_post_test[PLOT_SUB_ID])\n",
    "    post_t = np.arange(len(y_post_plot)) + y_pre_plot.shape[0] - 1\n",
    "\n",
    "    fig = go.Figure()\n",
    "    line_pre_trt = go.Scatter(x=pre_t + list(post_t), y=list(y_pre_plot) + y_post_plot, name='ground truth')\n",
    "    fig.add_trace(line_pre_trt)\n",
    "\n",
    "    line_model_pred(fig, SkimmedMcLatte, 'skimmed_mclatte', lambda *args: infer_mcespresso(*args)[1], \n",
    "                    config_id, PLOT_SUB_ID, post_t, y_pre_plot, X_test, A_test, T_test, M_test)\n",
    "    line_model_pred(fig, SemiSkimmedMcLatte, 'semi_skimmed_mclatte', lambda *args: infer_mcespresso(*args)[2], \n",
    "                    config_id, PLOT_SUB_ID, post_t, y_pre_plot, X_test, A_test, T_test, M_test)\n",
    "    line_model_pred(fig, McLatte, 'mclatte', lambda *args: infer_mcespresso(*args)[2], \n",
    "                    config_id, PLOT_SUB_ID, post_t, y_pre_plot, X_test, A_test, T_test, M_test)\n",
    "    line_model_pred(fig, BaselineRnn, 'rnn', lambda *args: infer_rnn(*args, return_Y_pred=True), \n",
    "                    config_id, PLOT_SUB_ID, post_t, y_pre_plot, Y_pre_test, Y_post_test)\n",
    "\n",
    "    print(A_test[PLOT_SUB_ID])\n",
    "    \n",
    "    fig.update_layout(\n",
    "        title='Treatment Outcome', \n",
    "        yaxis_title='Outcome', \n",
    "        xaxis_title='Time',\n",
    "        legend=dict(\n",
    "            orientation=\"h\",\n",
    "            yanchor=\"bottom\",\n",
    "            y=1.02,\n",
    "            xanchor=\"right\",\n",
    "            x=1\n",
    "        )\n",
    "    )\n",
    "    fig.write_image(f'plots/pkpd/outcome_pred_{config_id}.png')"
   ]
  },
  {
   "cell_type": "code",
   "execution_count": null,
   "metadata": {},
   "outputs": [],
   "source": [
    "for config_id in range(len(TEST_CONFIGS)):\n",
    "    plot_config_results(config_id)"
   ]
  }
 ],
 "metadata": {
  "interpreter": {
   "hash": "852d66bd2a456ad8c66b277a4fc8ac1a7bcd6ab870e3be824a8a6385faf13d3b"
  },
  "kernelspec": {
   "display_name": "Python 3.9.9 64-bit ('.venv.mclatte': venv)",
   "language": "python",
   "name": "python3"
  },
  "language_info": {
   "codemirror_mode": {
    "name": "ipython",
    "version": 3
   },
   "file_extension": ".py",
   "mimetype": "text/x-python",
   "name": "python",
   "nbconvert_exporter": "python",
   "pygments_lexer": "ipython3",
   "version": "3.9.9"
  },
  "orig_nbformat": 4
 },
 "nbformat": 4,
 "nbformat_minor": 2
}
