{
 "cells": [
  {
   "cell_type": "markdown",
   "metadata": {},
   "source": [
    "## Idealised Hypothetical Disease Treatment"
   ]
  },
  {
   "cell_type": "code",
   "execution_count": null,
   "metadata": {},
   "outputs": [],
   "source": [
    "import joblib\n",
    "import numpy as np\n",
    "# import os\n",
    "import plotly.graph_objects as go\n",
    "import random\n",
    "import torch\n",
    "import wandb\n",
    "from mclatte.model import train_mclatte\n",
    "from mclatte.simulation_data import generate_simulation_data, TreatmentRepr\n",
    "from rnn.model import train_baseline_rnn\n",
    "from synctwin.model import train_synctwin"
   ]
  },
  {
   "cell_type": "code",
   "execution_count": null,
   "metadata": {},
   "outputs": [],
   "source": [
    "random.seed(509)\n",
    "np.random.seed(509)\n",
    "torch.manual_seed(509)"
   ]
  },
  {
   "cell_type": "markdown",
   "metadata": {},
   "source": [
    "Data Generation"
   ]
  },
  {
   "cell_type": "code",
   "execution_count": null,
   "metadata": {},
   "outputs": [],
   "source": [
    "M = 5\n",
    "H = 5\n",
    "R = 5\n",
    "D = 10\n",
    "K = 3\n",
    "C = 4"
   ]
  },
  {
   "cell_type": "code",
   "execution_count": null,
   "metadata": {},
   "outputs": [],
   "source": [
    "def generate_data(N, p_0, mode):\n",
    "    N_train = round(N * 0.8)\n",
    "    N_test = round(N * 0.2)\n",
    "    X, M_, Y_pre, Y_post, A, T = generate_simulation_data(N, M, H, R, D, K, C, mode, p_0)\n",
    "    X_train, X_test = X[:N_train], X[N_train:]\n",
    "    M_train, M_test = M_[:N_train], M_[N_train:]\n",
    "    Y_pre_train, Y_pre_test = Y_pre[:N_train], Y_pre[N_train:]\n",
    "    Y_post_train, Y_post_test = Y_post[:N_train], Y_post[N_train:]\n",
    "    A_train, A_test = A[:N_train], A[N_train:]\n",
    "    T_train, T_test = T[:N_train], T[N_train:]\n",
    "    return N, N_train, N_test, X_train, X_test, M_train, M_test, Y_pre_train, Y_pre_test, Y_post_train, Y_post_test, A_train, A_test, T_train, T_test"
   ]
  },
  {
   "cell_type": "code",
   "execution_count": null,
   "metadata": {},
   "outputs": [],
   "source": [
    "# joblib.dump((N_train, M, H, R, D, K, C, X_train, M_train, Y_pre_train, Y_post_train, A_train, T_train), 'data/simulation/data_uniform_200.joblib')\n",
    "# joblib.dump((N_test, M, H, R, D, K, C, X_test, M_test, Y_pre_test, Y_post_test, A_test, T_test), 'data/simulation/test_data_uniform_200.joblib')"
   ]
  },
  {
   "cell_type": "markdown",
   "metadata": {},
   "source": [
    "### Visualizations"
   ]
  },
  {
   "cell_type": "code",
   "execution_count": null,
   "metadata": {},
   "outputs": [],
   "source": [
    "(\n",
    "    N_visual, \n",
    "    N_train_visual, \n",
    "    N_test_visual, \n",
    "    X_train_visual, \n",
    "    X_test_visual, \n",
    "    M_train_visual, \n",
    "    M_test_visual, \n",
    "    Y_pre_train_visual, \n",
    "    Y_pre_test_visual, \n",
    "    Y_post_train_visual, \n",
    "    Y_post_test_visual, \n",
    "    A_train_visual, \n",
    "    A_test_visual, \n",
    "    T_train_visual, \n",
    "    T_test_visual,\n",
    ") = generate_data(250, 0, TreatmentRepr.BINARY)\n",
    "X_visual = np.concatenate((X_train_visual, X_test_visual), axis=0)\n",
    "A_visual = np.concatenate((A_train_visual, A_test_visual), axis=0)\n",
    "Y_pre_visual = np.concatenate((Y_pre_train_visual, Y_pre_test_visual), axis=0)\n",
    "Y_post_visual = np.concatenate((Y_post_train_visual, Y_post_test_visual), axis=0)\n",
    "sample_ids = np.random.randint(N_visual, size=10)"
   ]
  },
  {
   "cell_type": "markdown",
   "metadata": {},
   "source": [
    "Covariates"
   ]
  },
  {
   "cell_type": "code",
   "execution_count": null,
   "metadata": {},
   "outputs": [],
   "source": [
    "fig = go.Figure()\n",
    "for feature_idx in range(D):\n",
    "    values = np.mean(X_visual[sample_ids, :, feature_idx], axis=0)\n",
    "    fig.add_trace(go.Scatter(x=list(range(R * M)), y=values, name=f'feature {feature_idx}'))\n",
    "fig.update_layout(\n",
    "    title='Average Covariate Values',\n",
    "    xaxis_title='t',\n",
    "    yaxis_title='Feature Value'\n",
    ")\n",
    "fig.show()"
   ]
  },
  {
   "cell_type": "markdown",
   "metadata": {},
   "source": [
    "Treatment Causes"
   ]
  },
  {
   "cell_type": "code",
   "execution_count": null,
   "metadata": {},
   "outputs": [],
   "source": [
    "fig = go.Figure(data=go.Heatmap(z=A_visual[sample_ids].T))\n",
    "fig.update_layout(\n",
    "    title='Treatment Causes',\n",
    "    xaxis_title='Sample ID',\n",
    "    yaxis_title='Cause'\n",
    ")\n",
    "fig.show()"
   ]
  },
  {
   "cell_type": "markdown",
   "metadata": {},
   "source": [
    "Treatment Outcomes"
   ]
  },
  {
   "cell_type": "code",
   "execution_count": null,
   "metadata": {},
   "outputs": [],
   "source": [
    "Y_sampled = np.concatenate((Y_pre_visual, Y_post_visual), axis=1)[sample_ids, :]"
   ]
  },
  {
   "cell_type": "code",
   "execution_count": null,
   "metadata": {},
   "outputs": [],
   "source": [
    "fig = go.Figure()\n",
    "for sample_idx in range(len(sample_ids)):\n",
    "    values = Y_sampled[sample_idx, :]\n",
    "    fig.add_trace(go.Scatter(x=list(range(M + H)), y=values, name=f'Sample {sample_idx}'))\n",
    "fig.update_layout(\n",
    "    title='Sampled Treatment Outcomes',\n",
    "    xaxis_title='t',\n",
    "    yaxis_title='Outcome Value'\n",
    ")\n",
    "fig.show()"
   ]
  },
  {
   "cell_type": "markdown",
   "metadata": {},
   "source": [
    "## Modelling"
   ]
  },
  {
   "cell_type": "code",
   "execution_count": null,
   "metadata": {},
   "outputs": [],
   "source": [
    "wandb.init(project='mclatte-test', entity='jasonyz')"
   ]
  },
  {
   "cell_type": "code",
   "execution_count": null,
   "metadata": {},
   "outputs": [],
   "source": [
    "# N_train, M, H, R, D, K, C, X_train, M_train, Y_pre_train, Y_post_train, A_train, T_train = joblib.load(\n",
    "#     os.path.join(os.getcwd(), f'data/simulation/data.joblib')\n",
    "# )\n",
    "# N_test, M, H, R, D, K, C, X_test, M_test, Y_pre_test, Y_post_test, A_test, T_test = joblib.load(\n",
    "#     os.path.join(os.getcwd(), 'data/simulation/test_data.joblib')\n",
    "# )"
   ]
  },
  {
   "cell_type": "code",
   "execution_count": null,
   "metadata": {},
   "outputs": [],
   "source": [
    "def na_catcher(func):\n",
    "    def wrapper_na_catcher(*args, **kwargs):\n",
    "        try:\n",
    "            return func(*args, **kwargs)\n",
    "        except Exception as e:\n",
    "            print(e)\n",
    "            return np.nan\n",
    "    return wrapper_na_catcher"
   ]
  },
  {
   "cell_type": "markdown",
   "metadata": {},
   "source": [
    "### McLatte"
   ]
  },
  {
   "cell_type": "code",
   "execution_count": null,
   "metadata": {},
   "outputs": [],
   "source": [
    "# print(pd.read_csv(os.path.join(os.getcwd(), 'results/mclatte_hp.csv')).sort_values(by='valid_loss').iloc[0])\n",
    "mclatte_config = {\n",
    "    'encoder_class': 'lstm',\n",
    "    'decoder_class': 'lstm',\n",
    "    'hidden_dim': 64,\n",
    "    'batch_size': 64,\n",
    "    'epochs': 100,\n",
    "    'lr': 0.0151,\n",
    "    'gamma': 0.986855,\n",
    "    'lambda_r': 1.928836,\n",
    "    'lambda_s': 0.042385,\n",
    "}"
   ]
  },
  {
   "cell_type": "code",
   "execution_count": null,
   "metadata": {},
   "outputs": [],
   "source": [
    "@na_catcher\n",
    "def test_mclatte(\n",
    "    X_train, \n",
    "    X_test, \n",
    "    M_train, \n",
    "    M_test, \n",
    "    Y_pre_train, \n",
    "    Y_post_train, \n",
    "    Y_post_test, \n",
    "    A_train, \n",
    "    A_test, \n",
    "    T_train, \n",
    "    T_test,\n",
    "    run_idx=0,\n",
    "):\n",
    "    trained_mclatte = train_mclatte(\n",
    "        mclatte_config,\n",
    "        X_train,\n",
    "        M_train,\n",
    "        Y_pre_train,\n",
    "        Y_post_train,\n",
    "        A_train, \n",
    "        T_train,\n",
    "        R,\n",
    "        M,\n",
    "        H,\n",
    "        input_dim=D, \n",
    "        treatment_dim=K, \n",
    "        test_run=run_idx,\n",
    "    )\n",
    "\n",
    "    trained_mclatte.eval()\n",
    "    _, y_tilde = trained_mclatte(\n",
    "        torch.from_numpy(X_test).float(),\n",
    "        torch.from_numpy(A_test).float(),\n",
    "        torch.from_numpy(T_test).float(),\n",
    "        torch.from_numpy(M_test).float(),\n",
    "    )\n",
    "    \n",
    "    return torch.nn.functional.l1_loss(\n",
    "        y_tilde, \n",
    "        torch.from_numpy(Y_post_test).float()\n",
    "    ).item()"
   ]
  },
  {
   "cell_type": "markdown",
   "metadata": {},
   "source": [
    "### Baseline RNN"
   ]
  },
  {
   "cell_type": "code",
   "execution_count": null,
   "metadata": {},
   "outputs": [],
   "source": [
    "# print(pd.read_csv(os.path.join(os.getcwd(), 'results/baseline_rnn_hp.csv')).sort_values(by='valid_loss').iloc[0])\n",
    "rnn_config = {\n",
    "    'rnn_class': 'gru',\n",
    "    'hidden_dim': 4,\n",
    "    'seq_len': 4,\n",
    "    'batch_size': 64,\n",
    "    'epochs': 100,\n",
    "    'lr': 0.048177,\n",
    "    'gamma': 0.795612,\n",
    "}"
   ]
  },
  {
   "cell_type": "code",
   "execution_count": null,
   "metadata": {},
   "outputs": [],
   "source": [
    "def rnn_predict(trained_rnn, Y_pre, Y_post):\n",
    "    \"\"\"\n",
    "    Make predictions using results from previous time steps.\n",
    "    \"\"\"\n",
    "    Y = Y_pre\n",
    "    losses = 0.0\n",
    "    for i in range(Y_post.shape[1]):\n",
    "        Y_tilde = trained_rnn(\n",
    "            torch.from_numpy(Y).float().unsqueeze(2)\n",
    "        ).squeeze()\n",
    "\n",
    "        Y = np.concatenate((\n",
    "            Y[:, 1:], \n",
    "            Y_tilde.cpu().detach().numpy()[:, [-1]]\n",
    "        ), axis=1)\n",
    "        \n",
    "        losses += torch.nn.functional.l1_loss(\n",
    "            Y_tilde[:, -1], \n",
    "            torch.from_numpy(Y_post).float()[:, i]\n",
    "        ).item()\n",
    "    return losses / Y_post.shape[1]"
   ]
  },
  {
   "cell_type": "code",
   "execution_count": null,
   "metadata": {},
   "outputs": [],
   "source": [
    "@na_catcher\n",
    "def test_rnn(\n",
    "    Y_pre_train, \n",
    "    Y_pre_test, \n",
    "    Y_post_train, \n",
    "    Y_post_test, \n",
    "    run_idx=0,\n",
    "):\n",
    "    trained_rnn = train_baseline_rnn(\n",
    "        rnn_config,\n",
    "        Y=np.concatenate((Y_pre_train, Y_post_train), axis=1),\n",
    "        input_dim=1, \n",
    "        test_run=run_idx,\n",
    "    )\n",
    "\n",
    "    trained_rnn.eval()\n",
    "    return rnn_predict(trained_rnn, Y_pre_test, Y_post_test)"
   ]
  },
  {
   "cell_type": "markdown",
   "metadata": {},
   "source": [
    "### SyncTwin"
   ]
  },
  {
   "cell_type": "code",
   "execution_count": null,
   "metadata": {},
   "outputs": [],
   "source": [
    "# print(pd.read_csv(os.path.join(os.getcwd(), 'results/synctwin_hp.csv')).sort_values(by='valid_loss').iloc[0])\n",
    "synctwin_config = {\n",
    "    'hidden_dim': 32,\n",
    "    'reg_B': 0.909119,\n",
    "    'lam_express': 0.106598,\n",
    "    'lam_recon': 0.441844,\n",
    "    'lam_prognostic': 0.207286,\n",
    "    'tau': 0.311216,\n",
    "    'batch_size': 32,\n",
    "    'epochs': 100,\n",
    "    'lr': 0.000196,\n",
    "    'gamma': 0.888244,\n",
    "}"
   ]
  },
  {
   "cell_type": "code",
   "execution_count": null,
   "metadata": {},
   "outputs": [],
   "source": [
    "@na_catcher\n",
    "def test_synctwin(\n",
    "    N, \n",
    "    N_test, \n",
    "    X_train, \n",
    "    X_test, \n",
    "    M_train, \n",
    "    M_test, \n",
    "    Y_post_train, \n",
    "    Y_post_test, \n",
    "    A_train, \n",
    "    A_test, \n",
    "    T_train, \n",
    "    T_test,\n",
    "    run_idx=0,\n",
    "):\n",
    "    Y_mask_train = np.all(A_train == 0, axis=1)\n",
    "    Y_mask_test = np.all(A_test == 0, axis=1)\n",
    "    Y_control_train = Y_post_train[Y_mask_train]\n",
    "\n",
    "    trained_synctwin = train_synctwin(\n",
    "        synctwin_config,\n",
    "        X=X_train,\n",
    "        M_=M_train,\n",
    "        T=T_train,\n",
    "        Y_batch=Y_post_train,\n",
    "        Y_control=Y_control_train,\n",
    "        Y_mask=Y_mask_train, \n",
    "        N=N,\n",
    "        D=D,\n",
    "        n_treated=N - Y_control_train.shape[0],\n",
    "        pre_trt_x_len=R * M,\n",
    "        test_run=run_idx,\n",
    "    ).cuda()\n",
    "\n",
    "    trained_synctwin.eval()\n",
    "    _, l1_loss = trained_synctwin(\n",
    "        torch.from_numpy(X_test).float().cuda(),\n",
    "        torch.from_numpy(T_test).float().cuda(),\n",
    "        torch.from_numpy(M_test).float().cuda(),\n",
    "        torch.arange(0, N_test).cuda(),\n",
    "        torch.from_numpy(Y_post_test).float().cuda(),\n",
    "        torch.from_numpy(Y_mask_test).float().cuda(),\n",
    "    )\n",
    "    return l1_loss.item()"
   ]
  },
  {
   "cell_type": "markdown",
   "metadata": {},
   "source": [
    "## Test Models"
   ]
  },
  {
   "cell_type": "code",
   "execution_count": null,
   "metadata": {},
   "outputs": [],
   "source": [
    "N_TEST = 5"
   ]
  },
  {
   "cell_type": "code",
   "execution_count": null,
   "metadata": {},
   "outputs": [],
   "source": [
    "TEST_CONFIGS = [\n",
    "    [200, 0.1, TreatmentRepr.BINARY],\n",
    "    [200, 0.5, TreatmentRepr.BINARY],\n",
    "    [200, 0.1, TreatmentRepr.BOUNDED],\n",
    "    [200, 0.5, TreatmentRepr.BOUNDED],\n",
    "    [200, 0.1, TreatmentRepr.REAL_VALUED],\n",
    "    [200, 0.5, TreatmentRepr.REAL_VALUED],\n",
    "    [1000, 0.1, TreatmentRepr.BINARY],\n",
    "    [1000, 0.5, TreatmentRepr.BINARY],\n",
    "    [1000, 0.1, TreatmentRepr.BOUNDED],\n",
    "    [1000, 0.5, TreatmentRepr.BOUNDED],\n",
    "    [1000, 0.1, TreatmentRepr.REAL_VALUED],\n",
    "    [1000, 0.5, TreatmentRepr.REAL_VALUED],\n",
    "]"
   ]
  },
  {
   "cell_type": "code",
   "execution_count": null,
   "metadata": {},
   "outputs": [],
   "source": [
    "mclatte_losses_all = []\n",
    "rnn_losses_all = []\n",
    "synctwin_losses_all = []\n",
    "for config_idx in (0, 10, 11):\n",
    "    config = TEST_CONFIGS[config_idx]\n",
    "    mclatte_losses = []\n",
    "    rnn_losses = []\n",
    "    synctwin_losses = []\n",
    "    for i in range(N_TEST * config_idx + 1, N_TEST * (1 + config_idx) + 1):\n",
    "        (\n",
    "            N, \n",
    "            N_train, \n",
    "            N_test, \n",
    "            X_train, \n",
    "            X_test, \n",
    "            M_train, \n",
    "            M_test, \n",
    "            Y_pre_train, \n",
    "            Y_pre_test, \n",
    "            Y_post_train, \n",
    "            Y_post_test, \n",
    "            A_train, \n",
    "            A_test, \n",
    "            T_train, \n",
    "            T_test,\n",
    "        ) = generate_data(config[0], config[1], config[2])\n",
    "\n",
    "        mclatte_losses.append(test_mclatte(\n",
    "            X_train, \n",
    "            X_test, \n",
    "            M_train, \n",
    "            M_test, \n",
    "            Y_pre_train, \n",
    "            Y_post_train, \n",
    "            Y_post_test, \n",
    "            A_train, \n",
    "            A_test, \n",
    "            T_train, \n",
    "            T_test,\n",
    "            run_idx=i,\n",
    "        ))\n",
    "        rnn_losses.append(test_rnn(Y_pre_train, Y_pre_test, Y_post_train, Y_post_test, i))\n",
    "        synctwin_losses.append(test_synctwin(\n",
    "            N, \n",
    "            N_test, \n",
    "            X_train, \n",
    "            X_test, \n",
    "            M_train, \n",
    "            M_test, \n",
    "            Y_post_train, \n",
    "            Y_post_test, \n",
    "            A_train, \n",
    "            A_test, \n",
    "            T_train, \n",
    "            T_test,\n",
    "            run_idx=i,\n",
    "        ))\n",
    "        joblib.dump((config, mclatte_losses, rnn_losses, synctwin_losses), f'results/test/config_{config_idx}.joblib')\n",
    "    mclatte_losses_all.append(mclatte_losses)\n",
    "    rnn_losses_all.append(rnn_losses)\n",
    "    synctwin_losses_all.append(synctwin_losses)"
   ]
  },
  {
   "cell_type": "markdown",
   "metadata": {},
   "source": [
    "#### Check finished runs results"
   ]
  },
  {
   "cell_type": "code",
   "execution_count": null,
   "metadata": {},
   "outputs": [],
   "source": [
    "config, mclatte_losses, rnn_losses, synctwin_losses = joblib.load(f'results_idt/test/config_11.joblib')\n",
    "config, mclatte_losses, synctwin_losses, rnn_losses"
   ]
  },
  {
   "cell_type": "code",
   "execution_count": null,
   "metadata": {},
   "outputs": [],
   "source": [
    "for losses in mclatte_losses, synctwin_losses, rnn_losses:\n",
    "    print(f'{np.mean(losses):.3f} ({np.std(losses):.3f})')"
   ]
  },
  {
   "cell_type": "markdown",
   "metadata": {},
   "source": [
    "### Plot with trained models"
   ]
  },
  {
   "cell_type": "code",
   "execution_count": null,
   "metadata": {},
   "outputs": [],
   "source": [
    "import os\n",
    "import plotly.graph_objects as go\n",
    "import torch\n",
    "from mclatte.model import McLatte\n",
    "from mclatte.simulation_data import generate_simulation_data, TreatmentRepr"
   ]
  },
  {
   "cell_type": "code",
   "execution_count": null,
   "metadata": {},
   "outputs": [],
   "source": [
    "M = 5\n",
    "H = 5\n",
    "R = 5\n",
    "D = 10\n",
    "K = 3\n",
    "C = 4\n",
    "def generate_data(N, p_0, mode):\n",
    "    N_train = round(N * 0.8)\n",
    "    N_test = round(N * 0.2)\n",
    "    X, M_, Y_pre, Y_post, A, T = generate_simulation_data(N, M, H, R, D, K, C, mode, p_0)\n",
    "    X_train, X_test = X[:N_train], X[N_train:]\n",
    "    M_train, M_test = M_[:N_train], M_[N_train:]\n",
    "    Y_pre_train, Y_pre_test = Y_pre[:N_train], Y_pre[N_train:]\n",
    "    Y_post_train, Y_post_test = Y_post[:N_train], Y_post[N_train:]\n",
    "    A_train, A_test = A[:N_train], A[N_train:]\n",
    "    T_train, T_test = T[:N_train], T[N_train:]\n",
    "    return N, N_train, N_test, X_train, X_test, M_train, M_test, Y_pre_train, Y_pre_test, Y_post_train, Y_post_test, A_train, A_test, T_train, T_test"
   ]
  },
  {
   "cell_type": "code",
   "execution_count": null,
   "metadata": {},
   "outputs": [],
   "source": [
    "(\n",
    "    N, \n",
    "    N_train, \n",
    "    N_test, \n",
    "    X_train, \n",
    "    X_test, \n",
    "    M_train, \n",
    "    M_test, \n",
    "    Y_pre_train, \n",
    "    Y_pre_test, \n",
    "    Y_post_train, \n",
    "    Y_post_test, \n",
    "    A_train, \n",
    "    A_test, \n",
    "    T_train, \n",
    "    T_test,\n",
    ") = generate_data(200, 0.1, TreatmentRepr.BINARY)\n",
    "trained_mclatte = McLatte.load_from_checkpoint(os.path.join(os.getcwd(), f'results/mclatte_51.ckpt'))"
   ]
  },
  {
   "cell_type": "code",
   "execution_count": null,
   "metadata": {},
   "outputs": [],
   "source": [
    "trained_mclatte.eval()\n",
    "_, y_tilde = trained_mclatte(\n",
    "    torch.from_numpy(X_test).float(),\n",
    "    torch.from_numpy(A_test).float(),\n",
    "    torch.from_numpy(T_test).float(),\n",
    "    torch.from_numpy(M_test).float(),\n",
    ")"
   ]
  },
  {
   "cell_type": "code",
   "execution_count": null,
   "metadata": {},
   "outputs": [],
   "source": [
    "PLOT_SUB_ID = 5\n",
    "y_pre_plot = Y_pre_test[PLOT_SUB_ID]\n",
    "pre_t = list(range(y_pre_plot.shape[0]))\n",
    "\n",
    "y_post_plot = [y_pre_plot[-1]] + list(Y_post_test[PLOT_SUB_ID])\n",
    "y_pred_plot = [y_pre_plot[-1]] + list(y_tilde.detach().numpy()[PLOT_SUB_ID])\n",
    "post_t = np.arange(len(y_post_plot)) + y_pre_plot.shape[0] - 1\n",
    "\n",
    "fig = go.Figure()\n",
    "line_pre_trt = go.Scatter(x=pre_t, y=y_pre_plot, name='pre-treatment')\n",
    "line_gt_post_trt = go.Scatter(x=post_t, y=y_post_plot, name='post-treatment ground truth')\n",
    "line_pred_post_trt = go.Scatter(x=post_t, y=y_pred_plot, name='post-treatment predictions')\n",
    "fig.add_trace(line_pre_trt)\n",
    "fig.add_trace(line_gt_post_trt)\n",
    "fig.add_trace(line_pred_post_trt)\n",
    "\n",
    "fig.update_layout(title='Treatment Outcome',\n",
    "                  yaxis_title='Outcome', xaxis_title='Time')\n",
    "fig.show()"
   ]
  }
 ],
 "metadata": {
  "interpreter": {
   "hash": "852d66bd2a456ad8c66b277a4fc8ac1a7bcd6ab870e3be824a8a6385faf13d3b"
  },
  "kernelspec": {
   "display_name": "Python 3.9.9 64-bit ('.venv.mclatte': venv)",
   "language": "python",
   "name": "python3"
  },
  "language_info": {
   "codemirror_mode": {
    "name": "ipython",
    "version": 3
   },
   "file_extension": ".py",
   "mimetype": "text/x-python",
   "name": "python",
   "nbconvert_exporter": "python",
   "pygments_lexer": "ipython3",
   "version": "3.9.9"
  },
  "orig_nbformat": 4
 },
 "nbformat": 4,
 "nbformat_minor": 2
}
