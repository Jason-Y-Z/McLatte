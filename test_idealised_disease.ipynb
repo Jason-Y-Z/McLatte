{
 "cells": [
  {
   "cell_type": "markdown",
   "metadata": {},
   "source": [
    "## Idealised Hypothetical Disease Treatment"
   ]
  },
  {
   "cell_type": "code",
   "execution_count": 32,
   "metadata": {},
   "outputs": [],
   "source": [
    "import joblib\n",
    "import numpy as np\n",
    "# import os\n",
    "import plotly.graph_objects as go\n",
    "import random\n",
    "import torch\n",
    "import wandb\n",
    "from mclatte.model import train_mclatte, train_semi_skimmed_mclatte, train_skimmed_mclatte\n",
    "from mclatte.simulation_data import generate_simulation_data, TreatmentRepr\n",
    "from rnn.model import train_baseline_rnn\n",
    "from synctwin.model import train_synctwin"
   ]
  },
  {
   "cell_type": "code",
   "execution_count": 33,
   "metadata": {},
   "outputs": [
    {
     "data": {
      "text/plain": [
       "<torch._C.Generator at 0x2504c6903b0>"
      ]
     },
     "execution_count": 33,
     "metadata": {},
     "output_type": "execute_result"
    }
   ],
   "source": [
    "random.seed(509)\n",
    "np.random.seed(509)\n",
    "torch.manual_seed(509)"
   ]
  },
  {
   "cell_type": "markdown",
   "metadata": {},
   "source": [
    "Data Generation"
   ]
  },
  {
   "cell_type": "code",
   "execution_count": 34,
   "metadata": {},
   "outputs": [],
   "source": [
    "M = 5\n",
    "H = 5\n",
    "R = 5\n",
    "D = 10\n",
    "K = 3\n",
    "C = 4"
   ]
  },
  {
   "cell_type": "code",
   "execution_count": 35,
   "metadata": {},
   "outputs": [],
   "source": [
    "def generate_data(N, p_0, mode, run_idx):\n",
    "    data_path = f'data/test/idt_{N}_{p_0}_{mode}_{run_idx}.joblib'\n",
    "    try:\n",
    "        return joblib.load(data_path)\n",
    "    except Exception as e:\n",
    "        print(e)\n",
    "        N_train = round(N * 0.8)\n",
    "        N_test = round(N * 0.2)\n",
    "        X, M_, Y_pre, Y_post, A, T = generate_simulation_data(N, M, H, R, D, K, C, mode, p_0)\n",
    "        X_train, X_test = X[:N_train], X[N_train:]\n",
    "        M_train, M_test = M_[:N_train], M_[N_train:]\n",
    "        Y_pre_train, Y_pre_test = Y_pre[:N_train], Y_pre[N_train:]\n",
    "        Y_post_train, Y_post_test = Y_post[:N_train], Y_post[N_train:]\n",
    "        A_train, A_test = A[:N_train], A[N_train:]\n",
    "        T_train, T_test = T[:N_train], T[N_train:]\n",
    "        all_data = (\n",
    "            N, N_train, N_test, \n",
    "            X_train, X_test, \n",
    "            M_train, M_test, \n",
    "            Y_pre_train, Y_pre_test, \n",
    "            Y_post_train, Y_post_test, \n",
    "            A_train, A_test, \n",
    "            T_train, T_test\n",
    "        )\n",
    "        joblib.dump(all_data, data_path)\n",
    "        return all_data"
   ]
  },
  {
   "cell_type": "code",
   "execution_count": 36,
   "metadata": {},
   "outputs": [],
   "source": [
    "# joblib.dump((N_train, M, H, R, D, K, C, X_train, M_train, Y_pre_train, Y_post_train, A_train, T_train), 'data/simulation/data_uniform_200.joblib')\n",
    "# joblib.dump((N_test, M, H, R, D, K, C, X_test, M_test, Y_pre_test, Y_post_test, A_test, T_test), 'data/simulation/test_data_uniform_200.joblib')"
   ]
  },
  {
   "cell_type": "markdown",
   "metadata": {},
   "source": [
    "### Visualizations"
   ]
  },
  {
   "cell_type": "code",
   "execution_count": 37,
   "metadata": {},
   "outputs": [],
   "source": [
    "(\n",
    "    N_visual, \n",
    "    N_train_visual, \n",
    "    N_test_visual, \n",
    "    X_train_visual, \n",
    "    X_test_visual, \n",
    "    M_train_visual, \n",
    "    M_test_visual, \n",
    "    Y_pre_train_visual, \n",
    "    Y_pre_test_visual, \n",
    "    Y_post_train_visual, \n",
    "    Y_post_test_visual, \n",
    "    A_train_visual, \n",
    "    A_test_visual, \n",
    "    T_train_visual, \n",
    "    T_test_visual,\n",
    ") = generate_data(250, 0, TreatmentRepr.BINARY)\n",
    "X_visual = np.concatenate((X_train_visual, X_test_visual), axis=0)\n",
    "A_visual = np.concatenate((A_train_visual, A_test_visual), axis=0)\n",
    "Y_pre_visual = np.concatenate((Y_pre_train_visual, Y_pre_test_visual), axis=0)\n",
    "Y_post_visual = np.concatenate((Y_post_train_visual, Y_post_test_visual), axis=0)\n",
    "sample_ids = np.random.randint(N_visual, size=10)"
   ]
  },
  {
   "cell_type": "markdown",
   "metadata": {},
   "source": [
    "Covariates"
   ]
  },
  {
   "cell_type": "code",
   "execution_count": 38,
   "metadata": {},
   "outputs": [
    {
     "data": {
      "application/vnd.plotly.v1+json": {
       "config": {
        "plotlyServerURL": "https://plot.ly"
       },
       "data": [
        {
         "name": "feature 0",
         "type": "scatter",
         "x": [
          0,
          1,
          2,
          3,
          4,
          5,
          6,
          7,
          8,
          9,
          10,
          11,
          12,
          13,
          14,
          15,
          16,
          17,
          18,
          19,
          20,
          21,
          22,
          23,
          24
         ],
         "y": [
          0.6462887070821614,
          1.0982983164131974,
          1.555406463018358,
          2.30226300119951,
          2.6334700784651526,
          3.517159808854477,
          3.147623959419087,
          3.5519721285880954,
          3.832164351934299,
          4.441508397929852,
          4.981339086992435,
          5.157131768075912,
          5.4422296880794665,
          6.261095468291606,
          6.627561728980064,
          7.04849897218935,
          6.969082291993002,
          7.698268214993308,
          8.353442745880036,
          8.592730522929529,
          8.39042670510741,
          9.592078143423134,
          9.970705126502025,
          10.072183686760354,
          10.459506711385483
         ]
        },
        {
         "name": "feature 1",
         "type": "scatter",
         "x": [
          0,
          1,
          2,
          3,
          4,
          5,
          6,
          7,
          8,
          9,
          10,
          11,
          12,
          13,
          14,
          15,
          16,
          17,
          18,
          19,
          20,
          21,
          22,
          23,
          24
         ],
         "y": [
          -1.5070331555466383,
          -1.4466530234615746,
          -1.0981870331196144,
          -1.3656590967760083,
          -1.624865622786255,
          -1.2786343791544177,
          -1.2342976897962203,
          -0.7752302242244505,
          -0.7440478509136383,
          -1.1600385778239137,
          -0.964279454511097,
          -0.6649310512035319,
          -0.8754074295781447,
          -0.7623899497072447,
          -0.48588004740397767,
          -0.4906487140212148,
          -0.42690661754291614,
          0.2056660698811748,
          0.04193695163732434,
          0.08803860552573148,
          0.07888793749055747,
          0.11481809828340968,
          0.6088912952737718,
          0.5607108740894079,
          0.8586548759098495
         ]
        },
        {
         "name": "feature 2",
         "type": "scatter",
         "x": [
          0,
          1,
          2,
          3,
          4,
          5,
          6,
          7,
          8,
          9,
          10,
          11,
          12,
          13,
          14,
          15,
          16,
          17,
          18,
          19,
          20,
          21,
          22,
          23,
          24
         ],
         "y": [
          2.6545897241091985,
          -0.0892585466204383,
          0.7391142753885668,
          1.014682668341819,
          2.51912715832903,
          4.466918984813864,
          2.7464765835650318,
          1.418806721932666,
          4.203466185559203,
          3.1318443056311276,
          1.5107849801465887,
          1.1334947206117885,
          0.23452173582973274,
          1.7384666992786197,
          4.242914296549321,
          4.400267257858581,
          3.3514984269641888,
          2.704251908022537,
          1.3786274493287602,
          3.0517792329930424,
          4.443986495483391,
          2.0430224024465327,
          1.345061395879478,
          2.4295927792321166,
          2.930106762585108
         ]
        },
        {
         "name": "feature 3",
         "type": "scatter",
         "x": [
          0,
          1,
          2,
          3,
          4,
          5,
          6,
          7,
          8,
          9,
          10,
          11,
          12,
          13,
          14,
          15,
          16,
          17,
          18,
          19,
          20,
          21,
          22,
          23,
          24
         ],
         "y": [
          -0.10615099743528696,
          1.0524639477561504,
          1.2280560932149986,
          -0.08367911574878875,
          -0.17987549114946075,
          -1.7764283636760987,
          0.6649759627133501,
          1.4388097060539,
          -0.14050751695039504,
          2.039260213031084,
          -1.1679775402890507,
          1.8443194104159204,
          -1.8844292606158208,
          0.29331650917485297,
          0.10167411397048867,
          4.126066819656784,
          -0.02935083523822719,
          -2.7964731745165574,
          0.048615229720799125,
          2.1932699387450474,
          -0.6691535949680644,
          0.27017029227372796,
          1.2707794287253773,
          1.4076239053544324,
          -0.08524130024900498
         ]
        },
        {
         "name": "feature 4",
         "type": "scatter",
         "x": [
          0,
          1,
          2,
          3,
          4,
          5,
          6,
          7,
          8,
          9,
          10,
          11,
          12,
          13,
          14,
          15,
          16,
          17,
          18,
          19,
          20,
          21,
          22,
          23,
          24
         ],
         "y": [
          2.627946101551088,
          2.569465119830948,
          0.5996497210569597,
          3.0675149525343377,
          3.004843960654557,
          -0.1942666155916854,
          1.5495033965390386,
          1.7890950096591023,
          0.862314914710268,
          5.136360647523206,
          2.0931856604637638,
          2.0868136364884866,
          4.152649185546204,
          1.3976557938256193,
          2.0855646461628496,
          3.5339050026831105,
          1.1961447150421278,
          2.3452557498109305,
          1.6501026395189875,
          -0.45073911403351213,
          1.065318381238201,
          1.8368079708634153,
          0.8580104392677332,
          2.488080492207711,
          1.3353998845914563
         ]
        },
        {
         "name": "feature 5",
         "type": "scatter",
         "x": [
          0,
          1,
          2,
          3,
          4,
          5,
          6,
          7,
          8,
          9,
          10,
          11,
          12,
          13,
          14,
          15,
          16,
          17,
          18,
          19,
          20,
          21,
          22,
          23,
          24
         ],
         "y": [
          3.286351819668437,
          2.4674374944996424,
          5.673543948071169,
          5.274094246955404,
          2.268365266205819,
          3.5061283659331393,
          -0.9420113143744782,
          2.545363336764005,
          3.852832554901436,
          4.2972022627247295,
          4.65860028504212,
          3.6905694774218203,
          4.262212159319941,
          2.72190072771297,
          -1.0186198760571303,
          4.508784396154575,
          0.5572733080516497,
          3.7920636039879065,
          4.783007195400208,
          3.3991776953220225,
          4.9695400651600625,
          3.929818518031822,
          0.916701375809493,
          3.499434199210704,
          3.3140761953219786
         ]
        },
        {
         "name": "feature 6",
         "type": "scatter",
         "x": [
          0,
          1,
          2,
          3,
          4,
          5,
          6,
          7,
          8,
          9,
          10,
          11,
          12,
          13,
          14,
          15,
          16,
          17,
          18,
          19,
          20,
          21,
          22,
          23,
          24
         ],
         "y": [
          2.9882036652787454,
          1.219885719356895,
          3.4688930548521038,
          2.3644712127731,
          4.146229954243977,
          2.314614158532981,
          2.9982773657288173,
          3.82255015901847,
          2.6847100402202804,
          2.92575691763928,
          0.915876117018,
          1.0904003294431566,
          3.565487775479798,
          2.1812400903348275,
          0.5515343602807731,
          1.4445164608208798,
          3.6517054061086567,
          2.425052758598377,
          1.5438818013603566,
          2.1501695109199046,
          2.2913561655981804,
          2.626464550922586,
          1.136983541931285,
          1.0639098110334975,
          0.4246690429004782
         ]
        },
        {
         "name": "feature 7",
         "type": "scatter",
         "x": [
          0,
          1,
          2,
          3,
          4,
          5,
          6,
          7,
          8,
          9,
          10,
          11,
          12,
          13,
          14,
          15,
          16,
          17,
          18,
          19,
          20,
          21,
          22,
          23,
          24
         ],
         "y": [
          -0.08364885924758916,
          0.4883432406244762,
          2.6070004250240566,
          2.70902474098339,
          -0.8822050572504165,
          -0.10207732621465944,
          4.492238082193478,
          -2.7917679948610927,
          -1.9183621749348077,
          -0.24427488036325817,
          -0.2792268678171745,
          -2.1536850762369055,
          1.2619597851792625,
          -1.5122866123203864,
          -1.1911271452208627,
          2.923840048197365,
          1.3261424784705742,
          -1.2136449348107692,
          -1.3310523687276736,
          2.956006974668108,
          -0.6648478051116449,
          -0.1829764717142897,
          -0.61639930454298,
          -0.543027235379969,
          -1.6710828575711223
         ]
        },
        {
         "name": "feature 8",
         "type": "scatter",
         "x": [
          0,
          1,
          2,
          3,
          4,
          5,
          6,
          7,
          8,
          9,
          10,
          11,
          12,
          13,
          14,
          15,
          16,
          17,
          18,
          19,
          20,
          21,
          22,
          23,
          24
         ],
         "y": [
          0.4589925897680901,
          1.755423748357052,
          -0.43462911773726753,
          0.17399183295047785,
          -0.37004693926767496,
          1.2210660883146924,
          0.8674250513991506,
          -0.25013388555873883,
          -2.0304764609136976,
          0.8054959578146696,
          -0.677565701040261,
          0.35787696656479095,
          -0.030961383295557088,
          -1.0791422879339507,
          0.8811233100895054,
          -1.1158785272995597,
          -1.1741676636297371,
          0.33856644542245934,
          0.5865451637570581,
          0.8242992993780884,
          0.1278388267981379,
          -0.9229074077646455,
          -0.11428429007010776,
          -0.03541297931327474,
          -1.3444857213756216
         ]
        },
        {
         "name": "feature 9",
         "type": "scatter",
         "x": [
          0,
          1,
          2,
          3,
          4,
          5,
          6,
          7,
          8,
          9,
          10,
          11,
          12,
          13,
          14,
          15,
          16,
          17,
          18,
          19,
          20,
          21,
          22,
          23,
          24
         ],
         "y": [
          2.1030042534038444,
          3.1435981609783896,
          1.2662089772956662,
          3.752422740334739,
          1.2219786049146664,
          5.07847562836148,
          1.464924691053326,
          2.9751287834344486,
          1.1663271491247547,
          1.1769376410555776,
          2.2419210954673643,
          0.5925801602060012,
          2.8803024347840243,
          4.16713004299438,
          2.7867900041261633,
          4.143164954175322,
          1.8298918739901393,
          4.289489550169856,
          -2.067560846119746,
          -0.47457037679058783,
          1.6932022784354213,
          1.9790750937470256,
          1.5559208420027366,
          2.735696273005451,
          5.156610692985621
         ]
        }
       ],
       "layout": {
        "template": {
         "data": {
          "bar": [
           {
            "error_x": {
             "color": "#2a3f5f"
            },
            "error_y": {
             "color": "#2a3f5f"
            },
            "marker": {
             "line": {
              "color": "#E5ECF6",
              "width": 0.5
             },
             "pattern": {
              "fillmode": "overlay",
              "size": 10,
              "solidity": 0.2
             }
            },
            "type": "bar"
           }
          ],
          "barpolar": [
           {
            "marker": {
             "line": {
              "color": "#E5ECF6",
              "width": 0.5
             },
             "pattern": {
              "fillmode": "overlay",
              "size": 10,
              "solidity": 0.2
             }
            },
            "type": "barpolar"
           }
          ],
          "carpet": [
           {
            "aaxis": {
             "endlinecolor": "#2a3f5f",
             "gridcolor": "white",
             "linecolor": "white",
             "minorgridcolor": "white",
             "startlinecolor": "#2a3f5f"
            },
            "baxis": {
             "endlinecolor": "#2a3f5f",
             "gridcolor": "white",
             "linecolor": "white",
             "minorgridcolor": "white",
             "startlinecolor": "#2a3f5f"
            },
            "type": "carpet"
           }
          ],
          "choropleth": [
           {
            "colorbar": {
             "outlinewidth": 0,
             "ticks": ""
            },
            "type": "choropleth"
           }
          ],
          "contour": [
           {
            "colorbar": {
             "outlinewidth": 0,
             "ticks": ""
            },
            "colorscale": [
             [
              0,
              "#0d0887"
             ],
             [
              0.1111111111111111,
              "#46039f"
             ],
             [
              0.2222222222222222,
              "#7201a8"
             ],
             [
              0.3333333333333333,
              "#9c179e"
             ],
             [
              0.4444444444444444,
              "#bd3786"
             ],
             [
              0.5555555555555556,
              "#d8576b"
             ],
             [
              0.6666666666666666,
              "#ed7953"
             ],
             [
              0.7777777777777778,
              "#fb9f3a"
             ],
             [
              0.8888888888888888,
              "#fdca26"
             ],
             [
              1,
              "#f0f921"
             ]
            ],
            "type": "contour"
           }
          ],
          "contourcarpet": [
           {
            "colorbar": {
             "outlinewidth": 0,
             "ticks": ""
            },
            "type": "contourcarpet"
           }
          ],
          "heatmap": [
           {
            "colorbar": {
             "outlinewidth": 0,
             "ticks": ""
            },
            "colorscale": [
             [
              0,
              "#0d0887"
             ],
             [
              0.1111111111111111,
              "#46039f"
             ],
             [
              0.2222222222222222,
              "#7201a8"
             ],
             [
              0.3333333333333333,
              "#9c179e"
             ],
             [
              0.4444444444444444,
              "#bd3786"
             ],
             [
              0.5555555555555556,
              "#d8576b"
             ],
             [
              0.6666666666666666,
              "#ed7953"
             ],
             [
              0.7777777777777778,
              "#fb9f3a"
             ],
             [
              0.8888888888888888,
              "#fdca26"
             ],
             [
              1,
              "#f0f921"
             ]
            ],
            "type": "heatmap"
           }
          ],
          "heatmapgl": [
           {
            "colorbar": {
             "outlinewidth": 0,
             "ticks": ""
            },
            "colorscale": [
             [
              0,
              "#0d0887"
             ],
             [
              0.1111111111111111,
              "#46039f"
             ],
             [
              0.2222222222222222,
              "#7201a8"
             ],
             [
              0.3333333333333333,
              "#9c179e"
             ],
             [
              0.4444444444444444,
              "#bd3786"
             ],
             [
              0.5555555555555556,
              "#d8576b"
             ],
             [
              0.6666666666666666,
              "#ed7953"
             ],
             [
              0.7777777777777778,
              "#fb9f3a"
             ],
             [
              0.8888888888888888,
              "#fdca26"
             ],
             [
              1,
              "#f0f921"
             ]
            ],
            "type": "heatmapgl"
           }
          ],
          "histogram": [
           {
            "marker": {
             "pattern": {
              "fillmode": "overlay",
              "size": 10,
              "solidity": 0.2
             }
            },
            "type": "histogram"
           }
          ],
          "histogram2d": [
           {
            "colorbar": {
             "outlinewidth": 0,
             "ticks": ""
            },
            "colorscale": [
             [
              0,
              "#0d0887"
             ],
             [
              0.1111111111111111,
              "#46039f"
             ],
             [
              0.2222222222222222,
              "#7201a8"
             ],
             [
              0.3333333333333333,
              "#9c179e"
             ],
             [
              0.4444444444444444,
              "#bd3786"
             ],
             [
              0.5555555555555556,
              "#d8576b"
             ],
             [
              0.6666666666666666,
              "#ed7953"
             ],
             [
              0.7777777777777778,
              "#fb9f3a"
             ],
             [
              0.8888888888888888,
              "#fdca26"
             ],
             [
              1,
              "#f0f921"
             ]
            ],
            "type": "histogram2d"
           }
          ],
          "histogram2dcontour": [
           {
            "colorbar": {
             "outlinewidth": 0,
             "ticks": ""
            },
            "colorscale": [
             [
              0,
              "#0d0887"
             ],
             [
              0.1111111111111111,
              "#46039f"
             ],
             [
              0.2222222222222222,
              "#7201a8"
             ],
             [
              0.3333333333333333,
              "#9c179e"
             ],
             [
              0.4444444444444444,
              "#bd3786"
             ],
             [
              0.5555555555555556,
              "#d8576b"
             ],
             [
              0.6666666666666666,
              "#ed7953"
             ],
             [
              0.7777777777777778,
              "#fb9f3a"
             ],
             [
              0.8888888888888888,
              "#fdca26"
             ],
             [
              1,
              "#f0f921"
             ]
            ],
            "type": "histogram2dcontour"
           }
          ],
          "mesh3d": [
           {
            "colorbar": {
             "outlinewidth": 0,
             "ticks": ""
            },
            "type": "mesh3d"
           }
          ],
          "parcoords": [
           {
            "line": {
             "colorbar": {
              "outlinewidth": 0,
              "ticks": ""
             }
            },
            "type": "parcoords"
           }
          ],
          "pie": [
           {
            "automargin": true,
            "type": "pie"
           }
          ],
          "scatter": [
           {
            "marker": {
             "colorbar": {
              "outlinewidth": 0,
              "ticks": ""
             }
            },
            "type": "scatter"
           }
          ],
          "scatter3d": [
           {
            "line": {
             "colorbar": {
              "outlinewidth": 0,
              "ticks": ""
             }
            },
            "marker": {
             "colorbar": {
              "outlinewidth": 0,
              "ticks": ""
             }
            },
            "type": "scatter3d"
           }
          ],
          "scattercarpet": [
           {
            "marker": {
             "colorbar": {
              "outlinewidth": 0,
              "ticks": ""
             }
            },
            "type": "scattercarpet"
           }
          ],
          "scattergeo": [
           {
            "marker": {
             "colorbar": {
              "outlinewidth": 0,
              "ticks": ""
             }
            },
            "type": "scattergeo"
           }
          ],
          "scattergl": [
           {
            "marker": {
             "colorbar": {
              "outlinewidth": 0,
              "ticks": ""
             }
            },
            "type": "scattergl"
           }
          ],
          "scattermapbox": [
           {
            "marker": {
             "colorbar": {
              "outlinewidth": 0,
              "ticks": ""
             }
            },
            "type": "scattermapbox"
           }
          ],
          "scatterpolar": [
           {
            "marker": {
             "colorbar": {
              "outlinewidth": 0,
              "ticks": ""
             }
            },
            "type": "scatterpolar"
           }
          ],
          "scatterpolargl": [
           {
            "marker": {
             "colorbar": {
              "outlinewidth": 0,
              "ticks": ""
             }
            },
            "type": "scatterpolargl"
           }
          ],
          "scatterternary": [
           {
            "marker": {
             "colorbar": {
              "outlinewidth": 0,
              "ticks": ""
             }
            },
            "type": "scatterternary"
           }
          ],
          "surface": [
           {
            "colorbar": {
             "outlinewidth": 0,
             "ticks": ""
            },
            "colorscale": [
             [
              0,
              "#0d0887"
             ],
             [
              0.1111111111111111,
              "#46039f"
             ],
             [
              0.2222222222222222,
              "#7201a8"
             ],
             [
              0.3333333333333333,
              "#9c179e"
             ],
             [
              0.4444444444444444,
              "#bd3786"
             ],
             [
              0.5555555555555556,
              "#d8576b"
             ],
             [
              0.6666666666666666,
              "#ed7953"
             ],
             [
              0.7777777777777778,
              "#fb9f3a"
             ],
             [
              0.8888888888888888,
              "#fdca26"
             ],
             [
              1,
              "#f0f921"
             ]
            ],
            "type": "surface"
           }
          ],
          "table": [
           {
            "cells": {
             "fill": {
              "color": "#EBF0F8"
             },
             "line": {
              "color": "white"
             }
            },
            "header": {
             "fill": {
              "color": "#C8D4E3"
             },
             "line": {
              "color": "white"
             }
            },
            "type": "table"
           }
          ]
         },
         "layout": {
          "annotationdefaults": {
           "arrowcolor": "#2a3f5f",
           "arrowhead": 0,
           "arrowwidth": 1
          },
          "autotypenumbers": "strict",
          "coloraxis": {
           "colorbar": {
            "outlinewidth": 0,
            "ticks": ""
           }
          },
          "colorscale": {
           "diverging": [
            [
             0,
             "#8e0152"
            ],
            [
             0.1,
             "#c51b7d"
            ],
            [
             0.2,
             "#de77ae"
            ],
            [
             0.3,
             "#f1b6da"
            ],
            [
             0.4,
             "#fde0ef"
            ],
            [
             0.5,
             "#f7f7f7"
            ],
            [
             0.6,
             "#e6f5d0"
            ],
            [
             0.7,
             "#b8e186"
            ],
            [
             0.8,
             "#7fbc41"
            ],
            [
             0.9,
             "#4d9221"
            ],
            [
             1,
             "#276419"
            ]
           ],
           "sequential": [
            [
             0,
             "#0d0887"
            ],
            [
             0.1111111111111111,
             "#46039f"
            ],
            [
             0.2222222222222222,
             "#7201a8"
            ],
            [
             0.3333333333333333,
             "#9c179e"
            ],
            [
             0.4444444444444444,
             "#bd3786"
            ],
            [
             0.5555555555555556,
             "#d8576b"
            ],
            [
             0.6666666666666666,
             "#ed7953"
            ],
            [
             0.7777777777777778,
             "#fb9f3a"
            ],
            [
             0.8888888888888888,
             "#fdca26"
            ],
            [
             1,
             "#f0f921"
            ]
           ],
           "sequentialminus": [
            [
             0,
             "#0d0887"
            ],
            [
             0.1111111111111111,
             "#46039f"
            ],
            [
             0.2222222222222222,
             "#7201a8"
            ],
            [
             0.3333333333333333,
             "#9c179e"
            ],
            [
             0.4444444444444444,
             "#bd3786"
            ],
            [
             0.5555555555555556,
             "#d8576b"
            ],
            [
             0.6666666666666666,
             "#ed7953"
            ],
            [
             0.7777777777777778,
             "#fb9f3a"
            ],
            [
             0.8888888888888888,
             "#fdca26"
            ],
            [
             1,
             "#f0f921"
            ]
           ]
          },
          "colorway": [
           "#636efa",
           "#EF553B",
           "#00cc96",
           "#ab63fa",
           "#FFA15A",
           "#19d3f3",
           "#FF6692",
           "#B6E880",
           "#FF97FF",
           "#FECB52"
          ],
          "font": {
           "color": "#2a3f5f"
          },
          "geo": {
           "bgcolor": "white",
           "lakecolor": "white",
           "landcolor": "#E5ECF6",
           "showlakes": true,
           "showland": true,
           "subunitcolor": "white"
          },
          "hoverlabel": {
           "align": "left"
          },
          "hovermode": "closest",
          "mapbox": {
           "style": "light"
          },
          "paper_bgcolor": "white",
          "plot_bgcolor": "#E5ECF6",
          "polar": {
           "angularaxis": {
            "gridcolor": "white",
            "linecolor": "white",
            "ticks": ""
           },
           "bgcolor": "#E5ECF6",
           "radialaxis": {
            "gridcolor": "white",
            "linecolor": "white",
            "ticks": ""
           }
          },
          "scene": {
           "xaxis": {
            "backgroundcolor": "#E5ECF6",
            "gridcolor": "white",
            "gridwidth": 2,
            "linecolor": "white",
            "showbackground": true,
            "ticks": "",
            "zerolinecolor": "white"
           },
           "yaxis": {
            "backgroundcolor": "#E5ECF6",
            "gridcolor": "white",
            "gridwidth": 2,
            "linecolor": "white",
            "showbackground": true,
            "ticks": "",
            "zerolinecolor": "white"
           },
           "zaxis": {
            "backgroundcolor": "#E5ECF6",
            "gridcolor": "white",
            "gridwidth": 2,
            "linecolor": "white",
            "showbackground": true,
            "ticks": "",
            "zerolinecolor": "white"
           }
          },
          "shapedefaults": {
           "line": {
            "color": "#2a3f5f"
           }
          },
          "ternary": {
           "aaxis": {
            "gridcolor": "white",
            "linecolor": "white",
            "ticks": ""
           },
           "baxis": {
            "gridcolor": "white",
            "linecolor": "white",
            "ticks": ""
           },
           "bgcolor": "#E5ECF6",
           "caxis": {
            "gridcolor": "white",
            "linecolor": "white",
            "ticks": ""
           }
          },
          "title": {
           "x": 0.05
          },
          "xaxis": {
           "automargin": true,
           "gridcolor": "white",
           "linecolor": "white",
           "ticks": "",
           "title": {
            "standoff": 15
           },
           "zerolinecolor": "white",
           "zerolinewidth": 2
          },
          "yaxis": {
           "automargin": true,
           "gridcolor": "white",
           "linecolor": "white",
           "ticks": "",
           "title": {
            "standoff": 15
           },
           "zerolinecolor": "white",
           "zerolinewidth": 2
          }
         }
        },
        "title": {
         "text": "Average Covariate Values"
        },
        "xaxis": {
         "title": {
          "text": "t"
         }
        },
        "yaxis": {
         "title": {
          "text": "Feature Value"
         }
        }
       }
      }
     },
     "metadata": {},
     "output_type": "display_data"
    }
   ],
   "source": [
    "fig = go.Figure()\n",
    "for feature_idx in range(D):\n",
    "    values = np.mean(X_visual[sample_ids, :, feature_idx], axis=0)\n",
    "    fig.add_trace(go.Scatter(x=list(range(R * M)), y=values, name=f'feature {feature_idx}'))\n",
    "fig.update_layout(\n",
    "    title='Average Covariate Values',\n",
    "    xaxis_title='t',\n",
    "    yaxis_title='Feature Value'\n",
    ")\n",
    "fig.show()"
   ]
  },
  {
   "cell_type": "markdown",
   "metadata": {},
   "source": [
    "Treatment Causes"
   ]
  },
  {
   "cell_type": "code",
   "execution_count": 39,
   "metadata": {},
   "outputs": [
    {
     "data": {
      "application/vnd.plotly.v1+json": {
       "config": {
        "plotlyServerURL": "https://plot.ly"
       },
       "data": [
        {
         "type": "heatmap",
         "z": [
          [
           1,
           0,
           0,
           0,
           0,
           1,
           0,
           1,
           0,
           0
          ],
          [
           0,
           0,
           1,
           0,
           0,
           0,
           1,
           1,
           1,
           0
          ],
          [
           1,
           1,
           1,
           0,
           0,
           1,
           1,
           0,
           1,
           0
          ]
         ]
        }
       ],
       "layout": {
        "template": {
         "data": {
          "bar": [
           {
            "error_x": {
             "color": "#2a3f5f"
            },
            "error_y": {
             "color": "#2a3f5f"
            },
            "marker": {
             "line": {
              "color": "#E5ECF6",
              "width": 0.5
             },
             "pattern": {
              "fillmode": "overlay",
              "size": 10,
              "solidity": 0.2
             }
            },
            "type": "bar"
           }
          ],
          "barpolar": [
           {
            "marker": {
             "line": {
              "color": "#E5ECF6",
              "width": 0.5
             },
             "pattern": {
              "fillmode": "overlay",
              "size": 10,
              "solidity": 0.2
             }
            },
            "type": "barpolar"
           }
          ],
          "carpet": [
           {
            "aaxis": {
             "endlinecolor": "#2a3f5f",
             "gridcolor": "white",
             "linecolor": "white",
             "minorgridcolor": "white",
             "startlinecolor": "#2a3f5f"
            },
            "baxis": {
             "endlinecolor": "#2a3f5f",
             "gridcolor": "white",
             "linecolor": "white",
             "minorgridcolor": "white",
             "startlinecolor": "#2a3f5f"
            },
            "type": "carpet"
           }
          ],
          "choropleth": [
           {
            "colorbar": {
             "outlinewidth": 0,
             "ticks": ""
            },
            "type": "choropleth"
           }
          ],
          "contour": [
           {
            "colorbar": {
             "outlinewidth": 0,
             "ticks": ""
            },
            "colorscale": [
             [
              0,
              "#0d0887"
             ],
             [
              0.1111111111111111,
              "#46039f"
             ],
             [
              0.2222222222222222,
              "#7201a8"
             ],
             [
              0.3333333333333333,
              "#9c179e"
             ],
             [
              0.4444444444444444,
              "#bd3786"
             ],
             [
              0.5555555555555556,
              "#d8576b"
             ],
             [
              0.6666666666666666,
              "#ed7953"
             ],
             [
              0.7777777777777778,
              "#fb9f3a"
             ],
             [
              0.8888888888888888,
              "#fdca26"
             ],
             [
              1,
              "#f0f921"
             ]
            ],
            "type": "contour"
           }
          ],
          "contourcarpet": [
           {
            "colorbar": {
             "outlinewidth": 0,
             "ticks": ""
            },
            "type": "contourcarpet"
           }
          ],
          "heatmap": [
           {
            "colorbar": {
             "outlinewidth": 0,
             "ticks": ""
            },
            "colorscale": [
             [
              0,
              "#0d0887"
             ],
             [
              0.1111111111111111,
              "#46039f"
             ],
             [
              0.2222222222222222,
              "#7201a8"
             ],
             [
              0.3333333333333333,
              "#9c179e"
             ],
             [
              0.4444444444444444,
              "#bd3786"
             ],
             [
              0.5555555555555556,
              "#d8576b"
             ],
             [
              0.6666666666666666,
              "#ed7953"
             ],
             [
              0.7777777777777778,
              "#fb9f3a"
             ],
             [
              0.8888888888888888,
              "#fdca26"
             ],
             [
              1,
              "#f0f921"
             ]
            ],
            "type": "heatmap"
           }
          ],
          "heatmapgl": [
           {
            "colorbar": {
             "outlinewidth": 0,
             "ticks": ""
            },
            "colorscale": [
             [
              0,
              "#0d0887"
             ],
             [
              0.1111111111111111,
              "#46039f"
             ],
             [
              0.2222222222222222,
              "#7201a8"
             ],
             [
              0.3333333333333333,
              "#9c179e"
             ],
             [
              0.4444444444444444,
              "#bd3786"
             ],
             [
              0.5555555555555556,
              "#d8576b"
             ],
             [
              0.6666666666666666,
              "#ed7953"
             ],
             [
              0.7777777777777778,
              "#fb9f3a"
             ],
             [
              0.8888888888888888,
              "#fdca26"
             ],
             [
              1,
              "#f0f921"
             ]
            ],
            "type": "heatmapgl"
           }
          ],
          "histogram": [
           {
            "marker": {
             "pattern": {
              "fillmode": "overlay",
              "size": 10,
              "solidity": 0.2
             }
            },
            "type": "histogram"
           }
          ],
          "histogram2d": [
           {
            "colorbar": {
             "outlinewidth": 0,
             "ticks": ""
            },
            "colorscale": [
             [
              0,
              "#0d0887"
             ],
             [
              0.1111111111111111,
              "#46039f"
             ],
             [
              0.2222222222222222,
              "#7201a8"
             ],
             [
              0.3333333333333333,
              "#9c179e"
             ],
             [
              0.4444444444444444,
              "#bd3786"
             ],
             [
              0.5555555555555556,
              "#d8576b"
             ],
             [
              0.6666666666666666,
              "#ed7953"
             ],
             [
              0.7777777777777778,
              "#fb9f3a"
             ],
             [
              0.8888888888888888,
              "#fdca26"
             ],
             [
              1,
              "#f0f921"
             ]
            ],
            "type": "histogram2d"
           }
          ],
          "histogram2dcontour": [
           {
            "colorbar": {
             "outlinewidth": 0,
             "ticks": ""
            },
            "colorscale": [
             [
              0,
              "#0d0887"
             ],
             [
              0.1111111111111111,
              "#46039f"
             ],
             [
              0.2222222222222222,
              "#7201a8"
             ],
             [
              0.3333333333333333,
              "#9c179e"
             ],
             [
              0.4444444444444444,
              "#bd3786"
             ],
             [
              0.5555555555555556,
              "#d8576b"
             ],
             [
              0.6666666666666666,
              "#ed7953"
             ],
             [
              0.7777777777777778,
              "#fb9f3a"
             ],
             [
              0.8888888888888888,
              "#fdca26"
             ],
             [
              1,
              "#f0f921"
             ]
            ],
            "type": "histogram2dcontour"
           }
          ],
          "mesh3d": [
           {
            "colorbar": {
             "outlinewidth": 0,
             "ticks": ""
            },
            "type": "mesh3d"
           }
          ],
          "parcoords": [
           {
            "line": {
             "colorbar": {
              "outlinewidth": 0,
              "ticks": ""
             }
            },
            "type": "parcoords"
           }
          ],
          "pie": [
           {
            "automargin": true,
            "type": "pie"
           }
          ],
          "scatter": [
           {
            "marker": {
             "colorbar": {
              "outlinewidth": 0,
              "ticks": ""
             }
            },
            "type": "scatter"
           }
          ],
          "scatter3d": [
           {
            "line": {
             "colorbar": {
              "outlinewidth": 0,
              "ticks": ""
             }
            },
            "marker": {
             "colorbar": {
              "outlinewidth": 0,
              "ticks": ""
             }
            },
            "type": "scatter3d"
           }
          ],
          "scattercarpet": [
           {
            "marker": {
             "colorbar": {
              "outlinewidth": 0,
              "ticks": ""
             }
            },
            "type": "scattercarpet"
           }
          ],
          "scattergeo": [
           {
            "marker": {
             "colorbar": {
              "outlinewidth": 0,
              "ticks": ""
             }
            },
            "type": "scattergeo"
           }
          ],
          "scattergl": [
           {
            "marker": {
             "colorbar": {
              "outlinewidth": 0,
              "ticks": ""
             }
            },
            "type": "scattergl"
           }
          ],
          "scattermapbox": [
           {
            "marker": {
             "colorbar": {
              "outlinewidth": 0,
              "ticks": ""
             }
            },
            "type": "scattermapbox"
           }
          ],
          "scatterpolar": [
           {
            "marker": {
             "colorbar": {
              "outlinewidth": 0,
              "ticks": ""
             }
            },
            "type": "scatterpolar"
           }
          ],
          "scatterpolargl": [
           {
            "marker": {
             "colorbar": {
              "outlinewidth": 0,
              "ticks": ""
             }
            },
            "type": "scatterpolargl"
           }
          ],
          "scatterternary": [
           {
            "marker": {
             "colorbar": {
              "outlinewidth": 0,
              "ticks": ""
             }
            },
            "type": "scatterternary"
           }
          ],
          "surface": [
           {
            "colorbar": {
             "outlinewidth": 0,
             "ticks": ""
            },
            "colorscale": [
             [
              0,
              "#0d0887"
             ],
             [
              0.1111111111111111,
              "#46039f"
             ],
             [
              0.2222222222222222,
              "#7201a8"
             ],
             [
              0.3333333333333333,
              "#9c179e"
             ],
             [
              0.4444444444444444,
              "#bd3786"
             ],
             [
              0.5555555555555556,
              "#d8576b"
             ],
             [
              0.6666666666666666,
              "#ed7953"
             ],
             [
              0.7777777777777778,
              "#fb9f3a"
             ],
             [
              0.8888888888888888,
              "#fdca26"
             ],
             [
              1,
              "#f0f921"
             ]
            ],
            "type": "surface"
           }
          ],
          "table": [
           {
            "cells": {
             "fill": {
              "color": "#EBF0F8"
             },
             "line": {
              "color": "white"
             }
            },
            "header": {
             "fill": {
              "color": "#C8D4E3"
             },
             "line": {
              "color": "white"
             }
            },
            "type": "table"
           }
          ]
         },
         "layout": {
          "annotationdefaults": {
           "arrowcolor": "#2a3f5f",
           "arrowhead": 0,
           "arrowwidth": 1
          },
          "autotypenumbers": "strict",
          "coloraxis": {
           "colorbar": {
            "outlinewidth": 0,
            "ticks": ""
           }
          },
          "colorscale": {
           "diverging": [
            [
             0,
             "#8e0152"
            ],
            [
             0.1,
             "#c51b7d"
            ],
            [
             0.2,
             "#de77ae"
            ],
            [
             0.3,
             "#f1b6da"
            ],
            [
             0.4,
             "#fde0ef"
            ],
            [
             0.5,
             "#f7f7f7"
            ],
            [
             0.6,
             "#e6f5d0"
            ],
            [
             0.7,
             "#b8e186"
            ],
            [
             0.8,
             "#7fbc41"
            ],
            [
             0.9,
             "#4d9221"
            ],
            [
             1,
             "#276419"
            ]
           ],
           "sequential": [
            [
             0,
             "#0d0887"
            ],
            [
             0.1111111111111111,
             "#46039f"
            ],
            [
             0.2222222222222222,
             "#7201a8"
            ],
            [
             0.3333333333333333,
             "#9c179e"
            ],
            [
             0.4444444444444444,
             "#bd3786"
            ],
            [
             0.5555555555555556,
             "#d8576b"
            ],
            [
             0.6666666666666666,
             "#ed7953"
            ],
            [
             0.7777777777777778,
             "#fb9f3a"
            ],
            [
             0.8888888888888888,
             "#fdca26"
            ],
            [
             1,
             "#f0f921"
            ]
           ],
           "sequentialminus": [
            [
             0,
             "#0d0887"
            ],
            [
             0.1111111111111111,
             "#46039f"
            ],
            [
             0.2222222222222222,
             "#7201a8"
            ],
            [
             0.3333333333333333,
             "#9c179e"
            ],
            [
             0.4444444444444444,
             "#bd3786"
            ],
            [
             0.5555555555555556,
             "#d8576b"
            ],
            [
             0.6666666666666666,
             "#ed7953"
            ],
            [
             0.7777777777777778,
             "#fb9f3a"
            ],
            [
             0.8888888888888888,
             "#fdca26"
            ],
            [
             1,
             "#f0f921"
            ]
           ]
          },
          "colorway": [
           "#636efa",
           "#EF553B",
           "#00cc96",
           "#ab63fa",
           "#FFA15A",
           "#19d3f3",
           "#FF6692",
           "#B6E880",
           "#FF97FF",
           "#FECB52"
          ],
          "font": {
           "color": "#2a3f5f"
          },
          "geo": {
           "bgcolor": "white",
           "lakecolor": "white",
           "landcolor": "#E5ECF6",
           "showlakes": true,
           "showland": true,
           "subunitcolor": "white"
          },
          "hoverlabel": {
           "align": "left"
          },
          "hovermode": "closest",
          "mapbox": {
           "style": "light"
          },
          "paper_bgcolor": "white",
          "plot_bgcolor": "#E5ECF6",
          "polar": {
           "angularaxis": {
            "gridcolor": "white",
            "linecolor": "white",
            "ticks": ""
           },
           "bgcolor": "#E5ECF6",
           "radialaxis": {
            "gridcolor": "white",
            "linecolor": "white",
            "ticks": ""
           }
          },
          "scene": {
           "xaxis": {
            "backgroundcolor": "#E5ECF6",
            "gridcolor": "white",
            "gridwidth": 2,
            "linecolor": "white",
            "showbackground": true,
            "ticks": "",
            "zerolinecolor": "white"
           },
           "yaxis": {
            "backgroundcolor": "#E5ECF6",
            "gridcolor": "white",
            "gridwidth": 2,
            "linecolor": "white",
            "showbackground": true,
            "ticks": "",
            "zerolinecolor": "white"
           },
           "zaxis": {
            "backgroundcolor": "#E5ECF6",
            "gridcolor": "white",
            "gridwidth": 2,
            "linecolor": "white",
            "showbackground": true,
            "ticks": "",
            "zerolinecolor": "white"
           }
          },
          "shapedefaults": {
           "line": {
            "color": "#2a3f5f"
           }
          },
          "ternary": {
           "aaxis": {
            "gridcolor": "white",
            "linecolor": "white",
            "ticks": ""
           },
           "baxis": {
            "gridcolor": "white",
            "linecolor": "white",
            "ticks": ""
           },
           "bgcolor": "#E5ECF6",
           "caxis": {
            "gridcolor": "white",
            "linecolor": "white",
            "ticks": ""
           }
          },
          "title": {
           "x": 0.05
          },
          "xaxis": {
           "automargin": true,
           "gridcolor": "white",
           "linecolor": "white",
           "ticks": "",
           "title": {
            "standoff": 15
           },
           "zerolinecolor": "white",
           "zerolinewidth": 2
          },
          "yaxis": {
           "automargin": true,
           "gridcolor": "white",
           "linecolor": "white",
           "ticks": "",
           "title": {
            "standoff": 15
           },
           "zerolinecolor": "white",
           "zerolinewidth": 2
          }
         }
        },
        "title": {
         "text": "Treatment Causes"
        },
        "xaxis": {
         "title": {
          "text": "Sample ID"
         }
        },
        "yaxis": {
         "title": {
          "text": "Cause"
         }
        }
       }
      }
     },
     "metadata": {},
     "output_type": "display_data"
    }
   ],
   "source": [
    "fig = go.Figure(data=go.Heatmap(z=A_visual[sample_ids].T))\n",
    "fig.update_layout(\n",
    "    title='Treatment Causes',\n",
    "    xaxis_title='Sample ID',\n",
    "    yaxis_title='Cause'\n",
    ")\n",
    "fig.show()"
   ]
  },
  {
   "cell_type": "markdown",
   "metadata": {},
   "source": [
    "Treatment Outcomes"
   ]
  },
  {
   "cell_type": "code",
   "execution_count": 40,
   "metadata": {},
   "outputs": [],
   "source": [
    "Y_sampled = np.concatenate((Y_pre_visual, Y_post_visual), axis=1)[sample_ids, :]"
   ]
  },
  {
   "cell_type": "code",
   "execution_count": 41,
   "metadata": {},
   "outputs": [
    {
     "data": {
      "application/vnd.plotly.v1+json": {
       "config": {
        "plotlyServerURL": "https://plot.ly"
       },
       "data": [
        {
         "name": "Sample 0",
         "type": "scatter",
         "x": [
          0,
          1,
          2,
          3,
          4,
          5,
          6,
          7,
          8,
          9
         ],
         "y": [
          -4.828862739858451,
          -2.146665225115819,
          -2.033403255910793,
          -1.790594388359163,
          -0.426634592686418,
          -5.9744191765974906,
          -6.655307854720372,
          -2.2399997097011752,
          0.25819344672975664,
          -0.7046871189671595
         ]
        },
        {
         "name": "Sample 1",
         "type": "scatter",
         "x": [
          0,
          1,
          2,
          3,
          4,
          5,
          6,
          7,
          8,
          9
         ],
         "y": [
          1.1195887273610612,
          -2.7187925966003768,
          -1.342476065963114,
          0.48722717210387834,
          -1.2102861284520579,
          2.410562803964615,
          0.3542101108941783,
          0.4650042498834417,
          0.9542721971801637,
          -2.9660403342153456
         ]
        },
        {
         "name": "Sample 2",
         "type": "scatter",
         "x": [
          0,
          1,
          2,
          3,
          4,
          5,
          6,
          7,
          8,
          9
         ],
         "y": [
          -4.438564704980542,
          -2.525251309974066,
          -0.9473341322437563,
          0.7613865659981143,
          0.5689769694056933,
          -3.1607817760885086,
          -2.7671716104276944,
          -0.5072516037425543,
          0.7080416337571189,
          1.7858397302235698
         ]
        },
        {
         "name": "Sample 3",
         "type": "scatter",
         "x": [
          0,
          1,
          2,
          3,
          4,
          5,
          6,
          7,
          8,
          9
         ],
         "y": [
          -2.312539685975545,
          -1.2672024271426061,
          -2.1583457991720194,
          -1.632527935079234,
          -2.950711266765935,
          -0.34516915243274465,
          -0.4645461346704983,
          0.5980114859851339,
          0.2671886384908612,
          1.186996025237216
         ]
        },
        {
         "name": "Sample 4",
         "type": "scatter",
         "x": [
          0,
          1,
          2,
          3,
          4,
          5,
          6,
          7,
          8,
          9
         ],
         "y": [
          -6.645437257985226,
          -3.734445633466514,
          -1.7132763550010144,
          2.7207886396056074,
          0.86381976110555,
          2.32548840460702,
          -0.4401968830706654,
          0.49584333829302507,
          -0.019354175482023072,
          -0.7587364306360853
         ]
        },
        {
         "name": "Sample 5",
         "type": "scatter",
         "x": [
          0,
          1,
          2,
          3,
          4,
          5,
          6,
          7,
          8,
          9
         ],
         "y": [
          -5.013906613633362,
          -7.059260611402822,
          -1.7596316474968277,
          0.41610000819811616,
          -3.390651885878073,
          -6.243033775106673,
          -3.5735076691356675,
          -2.4871331898342506,
          -0.39306321323604354,
          0.6515563079262974
         ]
        },
        {
         "name": "Sample 6",
         "type": "scatter",
         "x": [
          0,
          1,
          2,
          3,
          4,
          5,
          6,
          7,
          8,
          9
         ],
         "y": [
          -1.3922956436443452,
          -1.8454838060415413,
          2.460603290449683,
          2.463832333446989,
          1.0991747459672887,
          1.1958901036846115,
          2.113678641355136,
          -0.6176775951596651,
          0.5695390588864265,
          1.2111277608624216
         ]
        },
        {
         "name": "Sample 7",
         "type": "scatter",
         "x": [
          0,
          1,
          2,
          3,
          4,
          5,
          6,
          7,
          8,
          9
         ],
         "y": [
          -3.4476706656911125,
          -4.34814990660067,
          -2.00413110032793,
          -0.635764546898005,
          -0.30774476631374337,
          -1.4078276402605545,
          -0.9883945679634618,
          -1.6661645543544046,
          0.810069612502622,
          -0.2208688834790033
         ]
        },
        {
         "name": "Sample 8",
         "type": "scatter",
         "x": [
          0,
          1,
          2,
          3,
          4,
          5,
          6,
          7,
          8,
          9
         ],
         "y": [
          1.9563158183013267,
          3.3028501090029385,
          0.46211684035352785,
          2.6907178658690025,
          2.711675877197455,
          3.1423265796421544,
          4.334928483034049,
          3.2782164722227103,
          2.0829180776977587,
          2.2954171928428346
         ]
        },
        {
         "name": "Sample 9",
         "type": "scatter",
         "x": [
          0,
          1,
          2,
          3,
          4,
          5,
          6,
          7,
          8,
          9
         ],
         "y": [
          4.86342472226638,
          3.2675834551099188,
          4.162369222808378,
          0.7951971800150865,
          1.4317220228625571,
          0.22506851789114507,
          0.5203323907908055,
          -0.09863217575991258,
          0.5068462403120635,
          -0.2128279552889789
         ]
        }
       ],
       "layout": {
        "template": {
         "data": {
          "bar": [
           {
            "error_x": {
             "color": "#2a3f5f"
            },
            "error_y": {
             "color": "#2a3f5f"
            },
            "marker": {
             "line": {
              "color": "#E5ECF6",
              "width": 0.5
             },
             "pattern": {
              "fillmode": "overlay",
              "size": 10,
              "solidity": 0.2
             }
            },
            "type": "bar"
           }
          ],
          "barpolar": [
           {
            "marker": {
             "line": {
              "color": "#E5ECF6",
              "width": 0.5
             },
             "pattern": {
              "fillmode": "overlay",
              "size": 10,
              "solidity": 0.2
             }
            },
            "type": "barpolar"
           }
          ],
          "carpet": [
           {
            "aaxis": {
             "endlinecolor": "#2a3f5f",
             "gridcolor": "white",
             "linecolor": "white",
             "minorgridcolor": "white",
             "startlinecolor": "#2a3f5f"
            },
            "baxis": {
             "endlinecolor": "#2a3f5f",
             "gridcolor": "white",
             "linecolor": "white",
             "minorgridcolor": "white",
             "startlinecolor": "#2a3f5f"
            },
            "type": "carpet"
           }
          ],
          "choropleth": [
           {
            "colorbar": {
             "outlinewidth": 0,
             "ticks": ""
            },
            "type": "choropleth"
           }
          ],
          "contour": [
           {
            "colorbar": {
             "outlinewidth": 0,
             "ticks": ""
            },
            "colorscale": [
             [
              0,
              "#0d0887"
             ],
             [
              0.1111111111111111,
              "#46039f"
             ],
             [
              0.2222222222222222,
              "#7201a8"
             ],
             [
              0.3333333333333333,
              "#9c179e"
             ],
             [
              0.4444444444444444,
              "#bd3786"
             ],
             [
              0.5555555555555556,
              "#d8576b"
             ],
             [
              0.6666666666666666,
              "#ed7953"
             ],
             [
              0.7777777777777778,
              "#fb9f3a"
             ],
             [
              0.8888888888888888,
              "#fdca26"
             ],
             [
              1,
              "#f0f921"
             ]
            ],
            "type": "contour"
           }
          ],
          "contourcarpet": [
           {
            "colorbar": {
             "outlinewidth": 0,
             "ticks": ""
            },
            "type": "contourcarpet"
           }
          ],
          "heatmap": [
           {
            "colorbar": {
             "outlinewidth": 0,
             "ticks": ""
            },
            "colorscale": [
             [
              0,
              "#0d0887"
             ],
             [
              0.1111111111111111,
              "#46039f"
             ],
             [
              0.2222222222222222,
              "#7201a8"
             ],
             [
              0.3333333333333333,
              "#9c179e"
             ],
             [
              0.4444444444444444,
              "#bd3786"
             ],
             [
              0.5555555555555556,
              "#d8576b"
             ],
             [
              0.6666666666666666,
              "#ed7953"
             ],
             [
              0.7777777777777778,
              "#fb9f3a"
             ],
             [
              0.8888888888888888,
              "#fdca26"
             ],
             [
              1,
              "#f0f921"
             ]
            ],
            "type": "heatmap"
           }
          ],
          "heatmapgl": [
           {
            "colorbar": {
             "outlinewidth": 0,
             "ticks": ""
            },
            "colorscale": [
             [
              0,
              "#0d0887"
             ],
             [
              0.1111111111111111,
              "#46039f"
             ],
             [
              0.2222222222222222,
              "#7201a8"
             ],
             [
              0.3333333333333333,
              "#9c179e"
             ],
             [
              0.4444444444444444,
              "#bd3786"
             ],
             [
              0.5555555555555556,
              "#d8576b"
             ],
             [
              0.6666666666666666,
              "#ed7953"
             ],
             [
              0.7777777777777778,
              "#fb9f3a"
             ],
             [
              0.8888888888888888,
              "#fdca26"
             ],
             [
              1,
              "#f0f921"
             ]
            ],
            "type": "heatmapgl"
           }
          ],
          "histogram": [
           {
            "marker": {
             "pattern": {
              "fillmode": "overlay",
              "size": 10,
              "solidity": 0.2
             }
            },
            "type": "histogram"
           }
          ],
          "histogram2d": [
           {
            "colorbar": {
             "outlinewidth": 0,
             "ticks": ""
            },
            "colorscale": [
             [
              0,
              "#0d0887"
             ],
             [
              0.1111111111111111,
              "#46039f"
             ],
             [
              0.2222222222222222,
              "#7201a8"
             ],
             [
              0.3333333333333333,
              "#9c179e"
             ],
             [
              0.4444444444444444,
              "#bd3786"
             ],
             [
              0.5555555555555556,
              "#d8576b"
             ],
             [
              0.6666666666666666,
              "#ed7953"
             ],
             [
              0.7777777777777778,
              "#fb9f3a"
             ],
             [
              0.8888888888888888,
              "#fdca26"
             ],
             [
              1,
              "#f0f921"
             ]
            ],
            "type": "histogram2d"
           }
          ],
          "histogram2dcontour": [
           {
            "colorbar": {
             "outlinewidth": 0,
             "ticks": ""
            },
            "colorscale": [
             [
              0,
              "#0d0887"
             ],
             [
              0.1111111111111111,
              "#46039f"
             ],
             [
              0.2222222222222222,
              "#7201a8"
             ],
             [
              0.3333333333333333,
              "#9c179e"
             ],
             [
              0.4444444444444444,
              "#bd3786"
             ],
             [
              0.5555555555555556,
              "#d8576b"
             ],
             [
              0.6666666666666666,
              "#ed7953"
             ],
             [
              0.7777777777777778,
              "#fb9f3a"
             ],
             [
              0.8888888888888888,
              "#fdca26"
             ],
             [
              1,
              "#f0f921"
             ]
            ],
            "type": "histogram2dcontour"
           }
          ],
          "mesh3d": [
           {
            "colorbar": {
             "outlinewidth": 0,
             "ticks": ""
            },
            "type": "mesh3d"
           }
          ],
          "parcoords": [
           {
            "line": {
             "colorbar": {
              "outlinewidth": 0,
              "ticks": ""
             }
            },
            "type": "parcoords"
           }
          ],
          "pie": [
           {
            "automargin": true,
            "type": "pie"
           }
          ],
          "scatter": [
           {
            "marker": {
             "colorbar": {
              "outlinewidth": 0,
              "ticks": ""
             }
            },
            "type": "scatter"
           }
          ],
          "scatter3d": [
           {
            "line": {
             "colorbar": {
              "outlinewidth": 0,
              "ticks": ""
             }
            },
            "marker": {
             "colorbar": {
              "outlinewidth": 0,
              "ticks": ""
             }
            },
            "type": "scatter3d"
           }
          ],
          "scattercarpet": [
           {
            "marker": {
             "colorbar": {
              "outlinewidth": 0,
              "ticks": ""
             }
            },
            "type": "scattercarpet"
           }
          ],
          "scattergeo": [
           {
            "marker": {
             "colorbar": {
              "outlinewidth": 0,
              "ticks": ""
             }
            },
            "type": "scattergeo"
           }
          ],
          "scattergl": [
           {
            "marker": {
             "colorbar": {
              "outlinewidth": 0,
              "ticks": ""
             }
            },
            "type": "scattergl"
           }
          ],
          "scattermapbox": [
           {
            "marker": {
             "colorbar": {
              "outlinewidth": 0,
              "ticks": ""
             }
            },
            "type": "scattermapbox"
           }
          ],
          "scatterpolar": [
           {
            "marker": {
             "colorbar": {
              "outlinewidth": 0,
              "ticks": ""
             }
            },
            "type": "scatterpolar"
           }
          ],
          "scatterpolargl": [
           {
            "marker": {
             "colorbar": {
              "outlinewidth": 0,
              "ticks": ""
             }
            },
            "type": "scatterpolargl"
           }
          ],
          "scatterternary": [
           {
            "marker": {
             "colorbar": {
              "outlinewidth": 0,
              "ticks": ""
             }
            },
            "type": "scatterternary"
           }
          ],
          "surface": [
           {
            "colorbar": {
             "outlinewidth": 0,
             "ticks": ""
            },
            "colorscale": [
             [
              0,
              "#0d0887"
             ],
             [
              0.1111111111111111,
              "#46039f"
             ],
             [
              0.2222222222222222,
              "#7201a8"
             ],
             [
              0.3333333333333333,
              "#9c179e"
             ],
             [
              0.4444444444444444,
              "#bd3786"
             ],
             [
              0.5555555555555556,
              "#d8576b"
             ],
             [
              0.6666666666666666,
              "#ed7953"
             ],
             [
              0.7777777777777778,
              "#fb9f3a"
             ],
             [
              0.8888888888888888,
              "#fdca26"
             ],
             [
              1,
              "#f0f921"
             ]
            ],
            "type": "surface"
           }
          ],
          "table": [
           {
            "cells": {
             "fill": {
              "color": "#EBF0F8"
             },
             "line": {
              "color": "white"
             }
            },
            "header": {
             "fill": {
              "color": "#C8D4E3"
             },
             "line": {
              "color": "white"
             }
            },
            "type": "table"
           }
          ]
         },
         "layout": {
          "annotationdefaults": {
           "arrowcolor": "#2a3f5f",
           "arrowhead": 0,
           "arrowwidth": 1
          },
          "autotypenumbers": "strict",
          "coloraxis": {
           "colorbar": {
            "outlinewidth": 0,
            "ticks": ""
           }
          },
          "colorscale": {
           "diverging": [
            [
             0,
             "#8e0152"
            ],
            [
             0.1,
             "#c51b7d"
            ],
            [
             0.2,
             "#de77ae"
            ],
            [
             0.3,
             "#f1b6da"
            ],
            [
             0.4,
             "#fde0ef"
            ],
            [
             0.5,
             "#f7f7f7"
            ],
            [
             0.6,
             "#e6f5d0"
            ],
            [
             0.7,
             "#b8e186"
            ],
            [
             0.8,
             "#7fbc41"
            ],
            [
             0.9,
             "#4d9221"
            ],
            [
             1,
             "#276419"
            ]
           ],
           "sequential": [
            [
             0,
             "#0d0887"
            ],
            [
             0.1111111111111111,
             "#46039f"
            ],
            [
             0.2222222222222222,
             "#7201a8"
            ],
            [
             0.3333333333333333,
             "#9c179e"
            ],
            [
             0.4444444444444444,
             "#bd3786"
            ],
            [
             0.5555555555555556,
             "#d8576b"
            ],
            [
             0.6666666666666666,
             "#ed7953"
            ],
            [
             0.7777777777777778,
             "#fb9f3a"
            ],
            [
             0.8888888888888888,
             "#fdca26"
            ],
            [
             1,
             "#f0f921"
            ]
           ],
           "sequentialminus": [
            [
             0,
             "#0d0887"
            ],
            [
             0.1111111111111111,
             "#46039f"
            ],
            [
             0.2222222222222222,
             "#7201a8"
            ],
            [
             0.3333333333333333,
             "#9c179e"
            ],
            [
             0.4444444444444444,
             "#bd3786"
            ],
            [
             0.5555555555555556,
             "#d8576b"
            ],
            [
             0.6666666666666666,
             "#ed7953"
            ],
            [
             0.7777777777777778,
             "#fb9f3a"
            ],
            [
             0.8888888888888888,
             "#fdca26"
            ],
            [
             1,
             "#f0f921"
            ]
           ]
          },
          "colorway": [
           "#636efa",
           "#EF553B",
           "#00cc96",
           "#ab63fa",
           "#FFA15A",
           "#19d3f3",
           "#FF6692",
           "#B6E880",
           "#FF97FF",
           "#FECB52"
          ],
          "font": {
           "color": "#2a3f5f"
          },
          "geo": {
           "bgcolor": "white",
           "lakecolor": "white",
           "landcolor": "#E5ECF6",
           "showlakes": true,
           "showland": true,
           "subunitcolor": "white"
          },
          "hoverlabel": {
           "align": "left"
          },
          "hovermode": "closest",
          "mapbox": {
           "style": "light"
          },
          "paper_bgcolor": "white",
          "plot_bgcolor": "#E5ECF6",
          "polar": {
           "angularaxis": {
            "gridcolor": "white",
            "linecolor": "white",
            "ticks": ""
           },
           "bgcolor": "#E5ECF6",
           "radialaxis": {
            "gridcolor": "white",
            "linecolor": "white",
            "ticks": ""
           }
          },
          "scene": {
           "xaxis": {
            "backgroundcolor": "#E5ECF6",
            "gridcolor": "white",
            "gridwidth": 2,
            "linecolor": "white",
            "showbackground": true,
            "ticks": "",
            "zerolinecolor": "white"
           },
           "yaxis": {
            "backgroundcolor": "#E5ECF6",
            "gridcolor": "white",
            "gridwidth": 2,
            "linecolor": "white",
            "showbackground": true,
            "ticks": "",
            "zerolinecolor": "white"
           },
           "zaxis": {
            "backgroundcolor": "#E5ECF6",
            "gridcolor": "white",
            "gridwidth": 2,
            "linecolor": "white",
            "showbackground": true,
            "ticks": "",
            "zerolinecolor": "white"
           }
          },
          "shapedefaults": {
           "line": {
            "color": "#2a3f5f"
           }
          },
          "ternary": {
           "aaxis": {
            "gridcolor": "white",
            "linecolor": "white",
            "ticks": ""
           },
           "baxis": {
            "gridcolor": "white",
            "linecolor": "white",
            "ticks": ""
           },
           "bgcolor": "#E5ECF6",
           "caxis": {
            "gridcolor": "white",
            "linecolor": "white",
            "ticks": ""
           }
          },
          "title": {
           "x": 0.05
          },
          "xaxis": {
           "automargin": true,
           "gridcolor": "white",
           "linecolor": "white",
           "ticks": "",
           "title": {
            "standoff": 15
           },
           "zerolinecolor": "white",
           "zerolinewidth": 2
          },
          "yaxis": {
           "automargin": true,
           "gridcolor": "white",
           "linecolor": "white",
           "ticks": "",
           "title": {
            "standoff": 15
           },
           "zerolinecolor": "white",
           "zerolinewidth": 2
          }
         }
        },
        "title": {
         "text": "Sampled Treatment Outcomes"
        },
        "xaxis": {
         "title": {
          "text": "t"
         }
        },
        "yaxis": {
         "title": {
          "text": "Outcome Value"
         }
        }
       }
      }
     },
     "metadata": {},
     "output_type": "display_data"
    }
   ],
   "source": [
    "fig = go.Figure()\n",
    "for sample_idx in range(len(sample_ids)):\n",
    "    values = Y_sampled[sample_idx, :]\n",
    "    fig.add_trace(go.Scatter(x=list(range(M + H)), y=values, name=f'Sample {sample_idx}'))\n",
    "fig.update_layout(\n",
    "    title='Sampled Treatment Outcomes',\n",
    "    xaxis_title='t',\n",
    "    yaxis_title='Outcome Value'\n",
    ")\n",
    "fig.show()"
   ]
  },
  {
   "cell_type": "markdown",
   "metadata": {},
   "source": [
    "## Modelling"
   ]
  },
  {
   "cell_type": "code",
   "execution_count": 42,
   "metadata": {},
   "outputs": [
    {
     "data": {
      "text/html": [
       "Finishing last run (ID:2emgyk0k) before initializing another..."
      ],
      "text/plain": [
       "<IPython.core.display.HTML object>"
      ]
     },
     "metadata": {},
     "output_type": "display_data"
    },
    {
     "data": {
      "text/html": [
       "<br/>Waiting for W&B process to finish, PID 35332... <strong style=\"color:green\">(success).</strong>"
      ],
      "text/plain": [
       "<IPython.core.display.HTML object>"
      ]
     },
     "metadata": {},
     "output_type": "display_data"
    },
    {
     "data": {
      "text/html": [
       "<style>\n",
       "    table.wandb td:nth-child(1) { padding: 0 10px; text-align: right }\n",
       "    .wandb-row { display: flex; flex-direction: row; flex-wrap: wrap; width: 100% }\n",
       "    .wandb-col { display: flex; flex-direction: column; flex-basis: 100%; flex: 1; padding: 10px; }\n",
       "    </style>\n",
       "<div class=\"wandb-row\"><div class=\"wandb-col\">\n",
       "<h3>Run history:</h3><br/><table class=\"wandb\"><tr><td>epoch</td><td>▁▂▃▄▁▂▃▄▅▅▆▇█▁▂▃▄▅▅▆▁▂▃▄▅▅▅▆▇██</td></tr><tr><td>ptl/loss</td><td>█▁</td></tr><tr><td>ptl/valid_loss</td><td>▂▃▃▃▇▆▇▆▆▆▆▆▆█▇▆▅▆▆▆▁▁▁▁▁▁▁▁▁</td></tr><tr><td>trainer/global_step</td><td>▁▁▁▁▁▁▁▁▂▂▂▂▂▁▁▁▁▂▂▂▂▂▃▄▄▅▆▆▇▇█</td></tr></table><br/></div><div class=\"wandb-col\">\n",
       "<h3>Run summary:</h3><br/><table class=\"wandb\"><tr><td>epoch</td><td>8</td></tr><tr><td>ptl/loss</td><td>2.4435</td></tr><tr><td>ptl/valid_loss</td><td>1.34684</td></tr><tr><td>trainer/global_step</td><td>107</td></tr></table>\n",
       "</div></div>\n",
       "Synced 5 W&B file(s), 0 media file(s), 4 artifact file(s) and 0 other file(s)\n",
       "<br/>Synced <strong style=\"color:#cdcd00\">radiant-sea-430</strong>: <a href=\"https://wandb.ai/jasonyz/mclatte-test/runs/2emgyk0k\" target=\"_blank\">https://wandb.ai/jasonyz/mclatte-test/runs/2emgyk0k</a><br/>\n",
       "Find logs at: <code>.\\wandb\\run-20211214_151817-2emgyk0k\\logs</code><br/>\n"
      ],
      "text/plain": [
       "<IPython.core.display.HTML object>"
      ]
     },
     "metadata": {},
     "output_type": "display_data"
    },
    {
     "data": {
      "text/html": [
       "Successfully finished last run (ID:2emgyk0k). Initializing new run:<br/>"
      ],
      "text/plain": [
       "<IPython.core.display.HTML object>"
      ]
     },
     "metadata": {},
     "output_type": "display_data"
    },
    {
     "data": {
      "text/html": [
       "\n",
       "                    Syncing run <strong><a href=\"https://wandb.ai/jasonyz/mclatte-test/runs/i3ldxtxy\" target=\"_blank\">still-butterfly-431</a></strong> to <a href=\"https://wandb.ai/jasonyz/mclatte-test\" target=\"_blank\">Weights & Biases</a> (<a href=\"https://docs.wandb.com/integrations/jupyter.html\" target=\"_blank\">docs</a>).<br/>\n",
       "\n",
       "                "
      ],
      "text/plain": [
       "<IPython.core.display.HTML object>"
      ]
     },
     "metadata": {},
     "output_type": "display_data"
    },
    {
     "data": {
      "text/html": [
       "<button onClick=\"this.nextSibling.style.display='block';this.style.display='none';\">Display W&B run</button><iframe src=\"https://wandb.ai/jasonyz/mclatte-test/runs/i3ldxtxy?jupyter=true\" style=\"border:none;width:100%;height:420px;display:none;\"></iframe>"
      ],
      "text/plain": [
       "<wandb.sdk.wandb_run.Run at 0x2507b1da880>"
      ]
     },
     "execution_count": 42,
     "metadata": {},
     "output_type": "execute_result"
    }
   ],
   "source": [
    "wandb.init(project='mclatte-test', entity='jasonyz')"
   ]
  },
  {
   "cell_type": "code",
   "execution_count": 43,
   "metadata": {},
   "outputs": [],
   "source": [
    "# N_train, M, H, R, D, K, C, X_train, M_train, Y_pre_train, Y_post_train, A_train, T_train = joblib.load(\n",
    "#     os.path.join(os.getcwd(), f'data/simulation/data.joblib')\n",
    "# )\n",
    "# N_test, M, H, R, D, K, C, X_test, M_test, Y_pre_test, Y_post_test, A_test, T_test = joblib.load(\n",
    "#     os.path.join(os.getcwd(), 'data/simulation/test_data.joblib')\n",
    "# )"
   ]
  },
  {
   "cell_type": "code",
   "execution_count": 44,
   "metadata": {},
   "outputs": [],
   "source": [
    "def na_catcher(func):\n",
    "    def wrapper_na_catcher(*args, **kwargs):\n",
    "        try:\n",
    "            return func(*args, **kwargs)\n",
    "        except Exception as e:\n",
    "            print(e)\n",
    "            return np.nan\n",
    "    return wrapper_na_catcher"
   ]
  },
  {
   "cell_type": "markdown",
   "metadata": {},
   "source": [
    "### McLatte"
   ]
  },
  {
   "cell_type": "markdown",
   "metadata": {},
   "source": [
    "#### Skimmed"
   ]
  },
  {
   "cell_type": "code",
   "execution_count": 45,
   "metadata": {},
   "outputs": [],
   "source": [
    "# print(pd.read_csv(os.path.join(os.getcwd(), 'results_idt/skimmed_mclatte_hp.csv')).sort_values(by='valid_loss').iloc[0])\n",
    "skimmed_mclatte_config = {\n",
    "    'encoder_class': 'lstm',\n",
    "    'decoder_class': 'lstm',\n",
    "    'hidden_dim': 64,\n",
    "    'batch_size': 64,\n",
    "    'epochs': 100,\n",
    "    'lr': 0.0151,\n",
    "    'gamma': 0.986855,\n",
    "    'lambda_r': 1.928836,\n",
    "    'lambda_p': 0.042385,\n",
    "}"
   ]
  },
  {
   "cell_type": "code",
   "execution_count": 46,
   "metadata": {},
   "outputs": [],
   "source": [
    "def test_skimmed_mclatte(\n",
    "    X_train, \n",
    "    X_test, \n",
    "    M_train, \n",
    "    M_test, \n",
    "    Y_pre_train, \n",
    "    Y_post_train, \n",
    "    Y_post_test, \n",
    "    A_train, \n",
    "    A_test, \n",
    "    T_train, \n",
    "    T_test,\n",
    "    run_idx=0,\n",
    "):\n",
    "    trained_skimmed_mclatte = train_skimmed_mclatte(\n",
    "        skimmed_mclatte_config,\n",
    "        X_train,\n",
    "        M_train,\n",
    "        Y_pre_train,\n",
    "        Y_post_train,\n",
    "        A_train, \n",
    "        T_train,\n",
    "        R,\n",
    "        M,\n",
    "        H,\n",
    "        input_dim=D, \n",
    "        treatment_dim=K, \n",
    "        test_run=run_idx,\n",
    "    )\n",
    "\n",
    "    trained_skimmed_mclatte.eval()\n",
    "    _, y_tilde = trained_skimmed_mclatte(\n",
    "        torch.from_numpy(X_test).float(),\n",
    "        torch.from_numpy(A_test).float(),\n",
    "        torch.from_numpy(T_test).float(),\n",
    "        torch.from_numpy(M_test).float(),\n",
    "    )\n",
    "    \n",
    "    return torch.nn.functional.l1_loss(\n",
    "        y_tilde, \n",
    "        torch.from_numpy(Y_post_test).float()\n",
    "    ).item()"
   ]
  },
  {
   "cell_type": "markdown",
   "metadata": {},
   "source": [
    "#### Semi-Skimmed"
   ]
  },
  {
   "cell_type": "code",
   "execution_count": 47,
   "metadata": {},
   "outputs": [],
   "source": [
    "# print(pd.read_csv(os.path.join(os.getcwd(), 'results_idt/semi_skimmed_mclatte_hp.csv')).sort_values(by='valid_loss').iloc[0])\n",
    "semi_skimmed_mclatte_config = {\n",
    "    'encoder_class': 'lstm',\n",
    "    'decoder_class': 'lstm',\n",
    "    'hidden_dim': 16,\n",
    "    'batch_size': 64,\n",
    "    'epochs': 100,\n",
    "    'lr': 0.120062,\n",
    "    'gamma': 0.731629,\n",
    "    'lambda_r': 0.016767,\n",
    "    'lambda_d': 1.83538,\n",
    "    'lambda_p': 1.509965,\n",
    "}"
   ]
  },
  {
   "cell_type": "code",
   "execution_count": 48,
   "metadata": {},
   "outputs": [],
   "source": [
    "def test_semi_skimmed_mclatte(\n",
    "    X_train, \n",
    "    X_test, \n",
    "    M_train, \n",
    "    M_test, \n",
    "    Y_pre_train, \n",
    "    Y_post_train, \n",
    "    Y_post_test, \n",
    "    A_train, \n",
    "    A_test, \n",
    "    T_train, \n",
    "    T_test,\n",
    "    run_idx=0,\n",
    "):\n",
    "    trained_semi_skimmed_mclatte = train_semi_skimmed_mclatte(\n",
    "        semi_skimmed_mclatte_config,\n",
    "        X_train,\n",
    "        M_train,\n",
    "        Y_pre_train,\n",
    "        Y_post_train,\n",
    "        A_train, \n",
    "        T_train,\n",
    "        R,\n",
    "        M,\n",
    "        H,\n",
    "        input_dim=D, \n",
    "        treatment_dim=K, \n",
    "        test_run=run_idx,\n",
    "    )\n",
    "\n",
    "    trained_semi_skimmed_mclatte.eval()\n",
    "    _, _, y_tilde = trained_semi_skimmed_mclatte(\n",
    "        torch.from_numpy(X_test).float(),\n",
    "        torch.from_numpy(A_test).float(),\n",
    "        torch.from_numpy(T_test).float(),\n",
    "        torch.from_numpy(M_test).float(),\n",
    "    )\n",
    "    \n",
    "    return torch.nn.functional.l1_loss(\n",
    "        y_tilde, \n",
    "        torch.from_numpy(Y_post_test).float()\n",
    "    ).item()"
   ]
  },
  {
   "cell_type": "markdown",
   "metadata": {},
   "source": [
    "#### Vanilla"
   ]
  },
  {
   "cell_type": "code",
   "execution_count": 49,
   "metadata": {},
   "outputs": [],
   "source": [
    "# print(pd.read_csv(os.path.join(os.getcwd(), 'results_idt/mclatte_hp.csv')).sort_values(by='valid_loss').iloc[0])\n",
    "mclatte_config = {\n",
    "    'encoder_class': 'lstm',\n",
    "    'decoder_class': 'lstm',\n",
    "    'hidden_dim': 16,\n",
    "    'batch_size': 64,\n",
    "    'epochs': 100,\n",
    "    'lr': 0.024468,\n",
    "    'gamma': 0.740409,\n",
    "    'lambda_r': 0.040299,\n",
    "    'lambda_d': 0.034368,\n",
    "    'lambda_p': 0.021351,\n",
    "}"
   ]
  },
  {
   "cell_type": "code",
   "execution_count": 50,
   "metadata": {},
   "outputs": [],
   "source": [
    "def test_mclatte(\n",
    "    X_train, \n",
    "    X_test, \n",
    "    M_train, \n",
    "    M_test, \n",
    "    Y_pre_train, \n",
    "    Y_post_train, \n",
    "    Y_post_test, \n",
    "    A_train, \n",
    "    A_test, \n",
    "    T_train, \n",
    "    T_test,\n",
    "    run_idx=0,\n",
    "):\n",
    "    trained_mclatte = train_mclatte(\n",
    "        mclatte_config,\n",
    "        X_train,\n",
    "        M_train,\n",
    "        Y_pre_train,\n",
    "        Y_post_train,\n",
    "        A_train, \n",
    "        T_train,\n",
    "        R,\n",
    "        M,\n",
    "        H,\n",
    "        input_dim=D, \n",
    "        treatment_dim=K, \n",
    "        test_run=run_idx,\n",
    "    )\n",
    "\n",
    "    trained_mclatte.eval()\n",
    "    _, _, y_tilde = trained_mclatte(\n",
    "        torch.from_numpy(X_test).float(),\n",
    "        torch.from_numpy(A_test).float(),\n",
    "        torch.from_numpy(T_test).float(),\n",
    "        torch.from_numpy(M_test).float(),\n",
    "    )\n",
    "    \n",
    "    return torch.nn.functional.l1_loss(\n",
    "        y_tilde, \n",
    "        torch.from_numpy(Y_post_test).float()\n",
    "    ).item()"
   ]
  },
  {
   "cell_type": "markdown",
   "metadata": {},
   "source": [
    "### Baseline RNN"
   ]
  },
  {
   "cell_type": "code",
   "execution_count": 51,
   "metadata": {},
   "outputs": [],
   "source": [
    "# print(pd.read_csv(os.path.join(os.getcwd(), 'results/baseline_rnn_hp.csv')).sort_values(by='valid_loss').iloc[0])\n",
    "rnn_config = {\n",
    "    'rnn_class': 'gru',\n",
    "    'hidden_dim': 4,\n",
    "    'seq_len': 4,\n",
    "    'batch_size': 64,\n",
    "    'epochs': 100,\n",
    "    'lr': 0.048177,\n",
    "    'gamma': 0.795612,\n",
    "}"
   ]
  },
  {
   "cell_type": "code",
   "execution_count": 52,
   "metadata": {},
   "outputs": [],
   "source": [
    "def rnn_predict(trained_rnn, Y_pre, Y_post):\n",
    "    \"\"\"\n",
    "    Make predictions using results from previous time steps.\n",
    "    \"\"\"\n",
    "    Y = Y_pre\n",
    "    losses = 0.0\n",
    "    for i in range(Y_post.shape[1]):\n",
    "        Y_tilde = trained_rnn(\n",
    "            torch.from_numpy(Y).float().unsqueeze(2)\n",
    "        ).squeeze()\n",
    "\n",
    "        Y = np.concatenate((\n",
    "            Y[:, 1:], \n",
    "            Y_tilde.cpu().detach().numpy()[:, [-1]]\n",
    "        ), axis=1)\n",
    "        \n",
    "        losses += torch.nn.functional.l1_loss(\n",
    "            Y_tilde[:, -1], \n",
    "            torch.from_numpy(Y_post).float()[:, i]\n",
    "        ).item()\n",
    "    return losses / Y_post.shape[1]"
   ]
  },
  {
   "cell_type": "code",
   "execution_count": 53,
   "metadata": {},
   "outputs": [],
   "source": [
    "def test_rnn(\n",
    "    Y_pre_train, \n",
    "    Y_pre_test, \n",
    "    Y_post_train, \n",
    "    Y_post_test, \n",
    "    run_idx=0,\n",
    "):\n",
    "    trained_rnn = train_baseline_rnn(\n",
    "        rnn_config,\n",
    "        Y=np.concatenate((Y_pre_train, Y_post_train), axis=1),\n",
    "        input_dim=1, \n",
    "        test_run=run_idx,\n",
    "    )\n",
    "\n",
    "    trained_rnn.eval()\n",
    "    return rnn_predict(trained_rnn, Y_pre_test, Y_post_test)"
   ]
  },
  {
   "cell_type": "markdown",
   "metadata": {},
   "source": [
    "### SyncTwin"
   ]
  },
  {
   "cell_type": "markdown",
   "metadata": {},
   "source": [
    "#### Full"
   ]
  },
  {
   "cell_type": "code",
   "execution_count": 54,
   "metadata": {},
   "outputs": [],
   "source": [
    "# print(pd.read_csv(os.path.join(os.getcwd(), 'results/synctwin_hp.csv')).sort_values(by='valid_loss').iloc[0])\n",
    "synctwin_config = {\n",
    "    'hidden_dim': 32,\n",
    "    'reg_B': 0.909119,\n",
    "    'lam_express': 0.106598,\n",
    "    'lam_recon': 0.441844,\n",
    "    'lam_prognostic': 0.207286,\n",
    "    'tau': 0.311216,\n",
    "    'batch_size': 32,\n",
    "    'epochs': 100,\n",
    "    'lr': 0.000196,\n",
    "    'gamma': 0.888244,\n",
    "}"
   ]
  },
  {
   "cell_type": "code",
   "execution_count": 55,
   "metadata": {},
   "outputs": [],
   "source": [
    "def test_synctwin(\n",
    "    N, \n",
    "    N_test, \n",
    "    X_train, \n",
    "    X_test, \n",
    "    M_train, \n",
    "    M_test, \n",
    "    Y_post_train, \n",
    "    Y_post_test, \n",
    "    A_train, \n",
    "    A_test, \n",
    "    T_train, \n",
    "    T_test,\n",
    "    run_idx=0,\n",
    "):\n",
    "    Y_mask_train = np.all(A_train == 0, axis=1)\n",
    "    Y_mask_test = np.all(A_test == 0, axis=1)\n",
    "    Y_control_train = Y_post_train[Y_mask_train]\n",
    "\n",
    "    trained_synctwin = train_synctwin(\n",
    "        synctwin_config,\n",
    "        X=X_train,\n",
    "        M_=M_train,\n",
    "        T=T_train,\n",
    "        Y_batch=Y_post_train,\n",
    "        Y_control=Y_control_train,\n",
    "        Y_mask=Y_mask_train, \n",
    "        N=N,\n",
    "        D=D,\n",
    "        n_treated=N - Y_control_train.shape[0],\n",
    "        pre_trt_x_len=R * M,\n",
    "        test_run=run_idx,\n",
    "    ).cuda()\n",
    "\n",
    "    trained_synctwin.eval()\n",
    "    _, l1_loss = trained_synctwin(\n",
    "        torch.from_numpy(X_test).float().cuda(),\n",
    "        torch.from_numpy(T_test).float().cuda(),\n",
    "        torch.from_numpy(M_test).float().cuda(),\n",
    "        torch.arange(0, N_test).cuda(),\n",
    "        torch.from_numpy(Y_post_test).float().cuda(),\n",
    "        torch.from_numpy(Y_mask_test).float().cuda(),\n",
    "    )\n",
    "    return l1_loss.item()"
   ]
  },
  {
   "cell_type": "markdown",
   "metadata": {},
   "source": [
    "#### Lambda S"
   ]
  },
  {
   "cell_type": "code",
   "execution_count": 56,
   "metadata": {},
   "outputs": [],
   "source": [
    "lambda_s_synctwin_config = {\n",
    "    'hidden_dim': 32,\n",
    "    'reg_B': 0.909119,\n",
    "    'lam_express': 0.106598,\n",
    "    'lam_recon': 0,\n",
    "    'lam_prognostic': 0.207286,\n",
    "    'tau': 0.311216,\n",
    "    'batch_size': 32,\n",
    "    'epochs': 100,\n",
    "    'lr': 0.000196,\n",
    "    'gamma': 0.888244,\n",
    "}"
   ]
  },
  {
   "cell_type": "code",
   "execution_count": 57,
   "metadata": {},
   "outputs": [],
   "source": [
    "def test_lambda_s_synctwin(\n",
    "    N, \n",
    "    N_test, \n",
    "    X_train, \n",
    "    X_test, \n",
    "    M_train, \n",
    "    M_test, \n",
    "    Y_post_train, \n",
    "    Y_post_test, \n",
    "    A_train, \n",
    "    A_test, \n",
    "    T_train, \n",
    "    T_test,\n",
    "    run_idx=0,\n",
    "):\n",
    "    Y_mask_train = np.all(A_train == 0, axis=1)\n",
    "    Y_mask_test = np.all(A_test == 0, axis=1)\n",
    "    Y_control_train = Y_post_train[Y_mask_train]\n",
    "\n",
    "    trained_synctwin = train_synctwin(\n",
    "        lambda_s_synctwin_config,\n",
    "        X=X_train,\n",
    "        M_=M_train,\n",
    "        T=T_train,\n",
    "        Y_batch=Y_post_train,\n",
    "        Y_control=Y_control_train,\n",
    "        Y_mask=Y_mask_train, \n",
    "        N=N,\n",
    "        D=D,\n",
    "        n_treated=N - Y_control_train.shape[0],\n",
    "        pre_trt_x_len=R * M,\n",
    "        test_run=run_idx,\n",
    "    ).cuda()\n",
    "\n",
    "    trained_synctwin.eval()\n",
    "    _, l1_loss = trained_synctwin(\n",
    "        torch.from_numpy(X_test).float().cuda(),\n",
    "        torch.from_numpy(T_test).float().cuda(),\n",
    "        torch.from_numpy(M_test).float().cuda(),\n",
    "        torch.arange(0, N_test).cuda(),\n",
    "        torch.from_numpy(Y_post_test).float().cuda(),\n",
    "        torch.from_numpy(Y_mask_test).float().cuda(),\n",
    "    )\n",
    "    return l1_loss.item()"
   ]
  },
  {
   "cell_type": "markdown",
   "metadata": {},
   "source": [
    "#### Lambda R"
   ]
  },
  {
   "cell_type": "code",
   "execution_count": 58,
   "metadata": {},
   "outputs": [],
   "source": [
    "# print(pd.read_csv(os.path.join(os.getcwd(), 'results/synctwin_hp.csv')).sort_values(by='valid_loss').iloc[0])\n",
    "lambda_r_synctwin_config = {\n",
    "    'hidden_dim': 32,\n",
    "    'reg_B': 0.909119,\n",
    "    'lam_express': 0.106598,\n",
    "    'lam_recon': 0.441844,\n",
    "    'lam_prognostic': 0,\n",
    "    'tau': 0.311216,\n",
    "    'batch_size': 32,\n",
    "    'epochs': 100,\n",
    "    'lr': 0.000196,\n",
    "    'gamma': 0.888244,\n",
    "}"
   ]
  },
  {
   "cell_type": "code",
   "execution_count": 59,
   "metadata": {},
   "outputs": [],
   "source": [
    "def test_lambda_r_synctwin(\n",
    "    N, \n",
    "    N_test, \n",
    "    X_train, \n",
    "    X_test, \n",
    "    M_train, \n",
    "    M_test, \n",
    "    Y_post_train, \n",
    "    Y_post_test, \n",
    "    A_train, \n",
    "    A_test, \n",
    "    T_train, \n",
    "    T_test,\n",
    "    run_idx=0,\n",
    "):\n",
    "    Y_mask_train = np.all(A_train == 0, axis=1)\n",
    "    Y_mask_test = np.all(A_test == 0, axis=1)\n",
    "    Y_control_train = Y_post_train[Y_mask_train]\n",
    "\n",
    "    trained_synctwin = train_synctwin(\n",
    "        lambda_r_synctwin_config,\n",
    "        X=X_train,\n",
    "        M_=M_train,\n",
    "        T=T_train,\n",
    "        Y_batch=Y_post_train,\n",
    "        Y_control=Y_control_train,\n",
    "        Y_mask=Y_mask_train, \n",
    "        N=N,\n",
    "        D=D,\n",
    "        n_treated=N - Y_control_train.shape[0],\n",
    "        pre_trt_x_len=R * M,\n",
    "        test_run=run_idx,\n",
    "    ).cuda()\n",
    "\n",
    "    trained_synctwin.eval()\n",
    "    _, l1_loss = trained_synctwin(\n",
    "        torch.from_numpy(X_test).float().cuda(),\n",
    "        torch.from_numpy(T_test).float().cuda(),\n",
    "        torch.from_numpy(M_test).float().cuda(),\n",
    "        torch.arange(0, N_test).cuda(),\n",
    "        torch.from_numpy(Y_post_test).float().cuda(),\n",
    "        torch.from_numpy(Y_mask_test).float().cuda(),\n",
    "    )\n",
    "    return l1_loss.item()"
   ]
  },
  {
   "cell_type": "markdown",
   "metadata": {},
   "source": [
    "## Test Models"
   ]
  },
  {
   "cell_type": "code",
   "execution_count": 60,
   "metadata": {},
   "outputs": [],
   "source": [
    "N_TEST = 5"
   ]
  },
  {
   "cell_type": "code",
   "execution_count": 61,
   "metadata": {},
   "outputs": [],
   "source": [
    "TEST_CONFIGS = [\n",
    "    [200, 0.1, TreatmentRepr.BINARY],\n",
    "    [200, 0.5, TreatmentRepr.BINARY],\n",
    "    [200, 0.1, TreatmentRepr.BOUNDED],\n",
    "    [200, 0.5, TreatmentRepr.BOUNDED],\n",
    "    [200, 0.1, TreatmentRepr.REAL_VALUED],\n",
    "    [200, 0.5, TreatmentRepr.REAL_VALUED],\n",
    "    # [1000, 0.1, TreatmentRepr.BINARY],\n",
    "    # [1000, 0.5, TreatmentRepr.BINARY],\n",
    "    # [1000, 0.1, TreatmentRepr.BOUNDED],\n",
    "    # [1000, 0.5, TreatmentRepr.BOUNDED],\n",
    "    # [1000, 0.1, TreatmentRepr.REAL_VALUED],\n",
    "    # [1000, 0.5, TreatmentRepr.REAL_VALUED],\n",
    "]"
   ]
  },
  {
   "cell_type": "code",
   "execution_count": 62,
   "metadata": {},
   "outputs": [
    {
     "name": "stderr",
     "output_type": "stream",
     "text": [
      "GPU available: True, used: True\n",
      "TPU available: False, using: 0 TPU cores\n",
      "IPU available: False, using: 0 IPUs\n",
      "LOCAL_RANK: 0 - CUDA_VISIBLE_DEVICES: [0]\n",
      "\n",
      "  | Name     | Type        | Params\n",
      "-----------------------------------------\n",
      "0 | _encoder | LstmEncoder | 2.1 K \n",
      "1 | _decoder | LstmDecoder | 2.3 K \n",
      "-----------------------------------------\n",
      "4.6 K     Trainable params\n",
      "0         Non-trainable params\n",
      "4.6 K     Total params\n",
      "0.019     Total estimated model params size (MB)\n",
      "Session not detected. You should not be calling `report` outside `tune.run` or while using the class API. \n",
      "  File \"C:\\Program Files\\WindowsApps\\PythonSoftwareFoundation.Python.3.9_3.9.2544.0_x64__qbz5n2kfra8p0\\lib\\runpy.py\", line 197, in _run_module_as_main\n",
      "    return _run_code(code, main_globals, None,\n",
      "  File \"C:\\Program Files\\WindowsApps\\PythonSoftwareFoundation.Python.3.9_3.9.2544.0_x64__qbz5n2kfra8p0\\lib\\runpy.py\", line 87, in _run_code\n",
      "    exec(code, run_globals)\n",
      "  File \"c:\\Users\\Jason\\Projects\\McLatte\\.venv.mclatte\\lib\\site-packages\\ipykernel_launcher.py\", line 16, in <module>\n",
      "    app.launch_new_instance()\n",
      "  File \"c:\\Users\\Jason\\Projects\\McLatte\\.venv.mclatte\\lib\\site-packages\\traitlets\\config\\application.py\", line 846, in launch_instance\n",
      "    app.start()\n",
      "  File \"c:\\Users\\Jason\\Projects\\McLatte\\.venv.mclatte\\lib\\site-packages\\ipykernel\\kernelapp.py\", line 677, in start\n",
      "    self.io_loop.start()\n",
      "  File \"c:\\Users\\Jason\\Projects\\McLatte\\.venv.mclatte\\lib\\site-packages\\tornado\\platform\\asyncio.py\", line 199, in start\n",
      "    self.asyncio_loop.run_forever()\n",
      "  File \"C:\\Program Files\\WindowsApps\\PythonSoftwareFoundation.Python.3.9_3.9.2544.0_x64__qbz5n2kfra8p0\\lib\\asyncio\\base_events.py\", line 596, in run_forever\n",
      "    self._run_once()\n",
      "  File \"C:\\Program Files\\WindowsApps\\PythonSoftwareFoundation.Python.3.9_3.9.2544.0_x64__qbz5n2kfra8p0\\lib\\asyncio\\base_events.py\", line 1890, in _run_once\n",
      "    handle._run()\n",
      "  File \"C:\\Program Files\\WindowsApps\\PythonSoftwareFoundation.Python.3.9_3.9.2544.0_x64__qbz5n2kfra8p0\\lib\\asyncio\\events.py\", line 80, in _run\n",
      "    self._context.run(self._callback, *self._args)\n",
      "  File \"c:\\Users\\Jason\\Projects\\McLatte\\.venv.mclatte\\lib\\site-packages\\ipykernel\\kernelbase.py\", line 457, in dispatch_queue\n",
      "    await self.process_one()\n",
      "  File \"c:\\Users\\Jason\\Projects\\McLatte\\.venv.mclatte\\lib\\site-packages\\ipykernel\\kernelbase.py\", line 446, in process_one\n",
      "    await dispatch(*args)\n",
      "  File \"c:\\Users\\Jason\\Projects\\McLatte\\.venv.mclatte\\lib\\site-packages\\ipykernel\\kernelbase.py\", line 353, in dispatch_shell\n",
      "    await result\n",
      "  File \"c:\\Users\\Jason\\Projects\\McLatte\\.venv.mclatte\\lib\\site-packages\\ipykernel\\kernelbase.py\", line 648, in execute_request\n",
      "    reply_content = await reply_content\n",
      "  File \"c:\\Users\\Jason\\Projects\\McLatte\\.venv.mclatte\\lib\\site-packages\\ipykernel\\ipkernel.py\", line 353, in do_execute\n",
      "    res = shell.run_cell(code, store_history=store_history, silent=silent)\n",
      "  File \"c:\\Users\\Jason\\Projects\\McLatte\\.venv.mclatte\\lib\\site-packages\\ipykernel\\zmqshell.py\", line 533, in run_cell\n",
      "    return super(ZMQInteractiveShell, self).run_cell(*args, **kwargs)\n",
      "  File \"c:\\Users\\Jason\\Projects\\McLatte\\.venv.mclatte\\lib\\site-packages\\IPython\\core\\interactiveshell.py\", line 2914, in run_cell\n",
      "    result = self._run_cell(\n",
      "  File \"c:\\Users\\Jason\\Projects\\McLatte\\.venv.mclatte\\lib\\site-packages\\IPython\\core\\interactiveshell.py\", line 2960, in _run_cell\n",
      "    return runner(coro)\n",
      "  File \"c:\\Users\\Jason\\Projects\\McLatte\\.venv.mclatte\\lib\\site-packages\\IPython\\core\\async_helpers.py\", line 78, in _pseudo_sync_runner\n",
      "    coro.send(None)\n",
      "  File \"c:\\Users\\Jason\\Projects\\McLatte\\.venv.mclatte\\lib\\site-packages\\IPython\\core\\interactiveshell.py\", line 3185, in run_cell_async\n",
      "    has_raised = await self.run_ast_nodes(code_ast.body, cell_name,\n",
      "  File \"c:\\Users\\Jason\\Projects\\McLatte\\.venv.mclatte\\lib\\site-packages\\IPython\\core\\interactiveshell.py\", line 3377, in run_ast_nodes\n",
      "    if (await self.run_code(code, result,  async_=asy)):\n",
      "  File \"c:\\Users\\Jason\\Projects\\McLatte\\.venv.mclatte\\lib\\site-packages\\IPython\\core\\interactiveshell.py\", line 3457, in run_code\n",
      "    exec(code_obj, self.user_global_ns, self.user_ns)\n",
      "  File \"C:\\Users\\Jason\\AppData\\Local\\Temp/ipykernel_19032/2747432269.py\", line 27, in <module>\n",
      "    mclatte_losses.append(test_mclatte(\n",
      "  File \"C:\\Users\\Jason\\AppData\\Local\\Temp/ipykernel_19032/2313238526.py\", line 15, in test_mclatte\n",
      "    trained_mclatte = train_mclatte(\n",
      "  File \"c:\\Users\\Jason\\Projects\\McLatte\\mclatte\\model.py\", line 431, in train_mclatte\n",
      "    return train_mcespresso(\n",
      "  File \"c:\\Users\\Jason\\Projects\\McLatte\\mclatte\\model.py\", line 259, in train_mcespresso\n",
      "    trainer.fit(pl_model, data_module)\n",
      "  File \"c:\\Users\\Jason\\Projects\\McLatte\\.venv.mclatte\\lib\\site-packages\\pytorch_lightning\\trainer\\trainer.py\", line 552, in fit\n",
      "    self._run(model)\n",
      "  File \"c:\\Users\\Jason\\Projects\\McLatte\\.venv.mclatte\\lib\\site-packages\\pytorch_lightning\\trainer\\trainer.py\", line 922, in _run\n",
      "    self._dispatch()\n",
      "  File \"c:\\Users\\Jason\\Projects\\McLatte\\.venv.mclatte\\lib\\site-packages\\pytorch_lightning\\trainer\\trainer.py\", line 990, in _dispatch\n",
      "    self.accelerator.start_training(self)\n",
      "  File \"c:\\Users\\Jason\\Projects\\McLatte\\.venv.mclatte\\lib\\site-packages\\pytorch_lightning\\accelerators\\accelerator.py\", line 92, in start_training\n",
      "    self.training_type_plugin.start_training(trainer)\n",
      "  File \"c:\\Users\\Jason\\Projects\\McLatte\\.venv.mclatte\\lib\\site-packages\\pytorch_lightning\\plugins\\training_type\\training_type_plugin.py\", line 161, in start_training\n",
      "    self._results = trainer.run_stage()\n",
      "  File \"c:\\Users\\Jason\\Projects\\McLatte\\.venv.mclatte\\lib\\site-packages\\pytorch_lightning\\trainer\\trainer.py\", line 1000, in run_stage\n",
      "    return self._run_train()\n",
      "  File \"c:\\Users\\Jason\\Projects\\McLatte\\.venv.mclatte\\lib\\site-packages\\pytorch_lightning\\trainer\\trainer.py\", line 1049, in _run_train\n",
      "    self.fit_loop.run()\n",
      "  File \"c:\\Users\\Jason\\Projects\\McLatte\\.venv.mclatte\\lib\\site-packages\\pytorch_lightning\\loops\\base.py\", line 111, in run\n",
      "    self.advance(*args, **kwargs)\n",
      "  File \"c:\\Users\\Jason\\Projects\\McLatte\\.venv.mclatte\\lib\\site-packages\\pytorch_lightning\\loops\\fit_loop.py\", line 200, in advance\n",
      "    epoch_output = self.epoch_loop.run(train_dataloader)\n",
      "  File \"c:\\Users\\Jason\\Projects\\McLatte\\.venv.mclatte\\lib\\site-packages\\pytorch_lightning\\loops\\base.py\", line 112, in run\n",
      "    self.on_advance_end()\n",
      "  File \"c:\\Users\\Jason\\Projects\\McLatte\\.venv.mclatte\\lib\\site-packages\\pytorch_lightning\\loops\\epoch\\training_epoch_loop.py\", line 177, in on_advance_end\n",
      "    self._run_validation()\n",
      "  File \"c:\\Users\\Jason\\Projects\\McLatte\\.venv.mclatte\\lib\\site-packages\\pytorch_lightning\\loops\\epoch\\training_epoch_loop.py\", line 257, in _run_validation\n",
      "    self.val_loop.run()\n",
      "  File \"c:\\Users\\Jason\\Projects\\McLatte\\.venv.mclatte\\lib\\site-packages\\pytorch_lightning\\loops\\base.py\", line 118, in run\n",
      "    output = self.on_run_end()\n",
      "  File \"c:\\Users\\Jason\\Projects\\McLatte\\.venv.mclatte\\lib\\site-packages\\pytorch_lightning\\loops\\dataloader\\evaluation_loop.py\", line 142, in on_run_end\n",
      "    self.on_evaluation_end()\n",
      "  File \"c:\\Users\\Jason\\Projects\\McLatte\\.venv.mclatte\\lib\\site-packages\\pytorch_lightning\\loops\\dataloader\\evaluation_loop.py\", line 205, in on_evaluation_end\n",
      "    self.trainer.call_hook(\"on_validation_end\", *args, **kwargs)\n",
      "  File \"c:\\Users\\Jason\\Projects\\McLatte\\.venv.mclatte\\lib\\site-packages\\pytorch_lightning\\trainer\\trainer.py\", line 1228, in call_hook\n",
      "    trainer_hook(*args, **kwargs)\n",
      "  File \"c:\\Users\\Jason\\Projects\\McLatte\\.venv.mclatte\\lib\\site-packages\\pytorch_lightning\\trainer\\callback_hook.py\", line 229, in on_validation_end\n",
      "    callback.on_validation_end(self, self.lightning_module)\n",
      "  File \"c:\\Users\\Jason\\Projects\\McLatte\\.venv.mclatte\\lib\\site-packages\\ray\\tune\\integration\\pytorch_lightning.py\", line 118, in on_validation_end\n",
      "    self._handle(trainer, pl_module)\n",
      "  File \"c:\\Users\\Jason\\Projects\\McLatte\\.venv.mclatte\\lib\\site-packages\\ray\\tune\\integration\\pytorch_lightning.py\", line 202, in _handle\n",
      "    tune.report(**report_dict)\n",
      "\n",
      "GPU available: True, used: True\n",
      "TPU available: False, using: 0 TPU cores\n",
      "IPU available: False, using: 0 IPUs\n",
      "LOCAL_RANK: 0 - CUDA_VISIBLE_DEVICES: [0]\n",
      "\n",
      "  | Name     | Type        | Params\n",
      "-----------------------------------------\n",
      "0 | _encoder | LstmEncoder | 2.1 K \n",
      "1 | _decoder | LstmDecoder | 2.3 K \n",
      "-----------------------------------------\n",
      "4.6 K     Trainable params\n",
      "0         Non-trainable params\n",
      "4.6 K     Total params\n",
      "0.019     Total estimated model params size (MB)\n",
      "Session not detected. You should not be calling `report` outside `tune.run` or while using the class API. \n",
      "  File \"C:\\Program Files\\WindowsApps\\PythonSoftwareFoundation.Python.3.9_3.9.2544.0_x64__qbz5n2kfra8p0\\lib\\runpy.py\", line 197, in _run_module_as_main\n",
      "    return _run_code(code, main_globals, None,\n",
      "  File \"C:\\Program Files\\WindowsApps\\PythonSoftwareFoundation.Python.3.9_3.9.2544.0_x64__qbz5n2kfra8p0\\lib\\runpy.py\", line 87, in _run_code\n",
      "    exec(code, run_globals)\n",
      "  File \"c:\\Users\\Jason\\Projects\\McLatte\\.venv.mclatte\\lib\\site-packages\\ipykernel_launcher.py\", line 16, in <module>\n",
      "    app.launch_new_instance()\n",
      "  File \"c:\\Users\\Jason\\Projects\\McLatte\\.venv.mclatte\\lib\\site-packages\\traitlets\\config\\application.py\", line 846, in launch_instance\n",
      "    app.start()\n",
      "  File \"c:\\Users\\Jason\\Projects\\McLatte\\.venv.mclatte\\lib\\site-packages\\ipykernel\\kernelapp.py\", line 677, in start\n",
      "    self.io_loop.start()\n",
      "  File \"c:\\Users\\Jason\\Projects\\McLatte\\.venv.mclatte\\lib\\site-packages\\tornado\\platform\\asyncio.py\", line 199, in start\n",
      "    self.asyncio_loop.run_forever()\n",
      "  File \"C:\\Program Files\\WindowsApps\\PythonSoftwareFoundation.Python.3.9_3.9.2544.0_x64__qbz5n2kfra8p0\\lib\\asyncio\\base_events.py\", line 596, in run_forever\n",
      "    self._run_once()\n",
      "  File \"C:\\Program Files\\WindowsApps\\PythonSoftwareFoundation.Python.3.9_3.9.2544.0_x64__qbz5n2kfra8p0\\lib\\asyncio\\base_events.py\", line 1890, in _run_once\n",
      "    handle._run()\n",
      "  File \"C:\\Program Files\\WindowsApps\\PythonSoftwareFoundation.Python.3.9_3.9.2544.0_x64__qbz5n2kfra8p0\\lib\\asyncio\\events.py\", line 80, in _run\n",
      "    self._context.run(self._callback, *self._args)\n",
      "  File \"c:\\Users\\Jason\\Projects\\McLatte\\.venv.mclatte\\lib\\site-packages\\ipykernel\\kernelbase.py\", line 457, in dispatch_queue\n",
      "    await self.process_one()\n",
      "  File \"c:\\Users\\Jason\\Projects\\McLatte\\.venv.mclatte\\lib\\site-packages\\ipykernel\\kernelbase.py\", line 446, in process_one\n",
      "    await dispatch(*args)\n",
      "  File \"c:\\Users\\Jason\\Projects\\McLatte\\.venv.mclatte\\lib\\site-packages\\ipykernel\\kernelbase.py\", line 353, in dispatch_shell\n",
      "    await result\n",
      "  File \"c:\\Users\\Jason\\Projects\\McLatte\\.venv.mclatte\\lib\\site-packages\\ipykernel\\kernelbase.py\", line 648, in execute_request\n",
      "    reply_content = await reply_content\n",
      "  File \"c:\\Users\\Jason\\Projects\\McLatte\\.venv.mclatte\\lib\\site-packages\\ipykernel\\ipkernel.py\", line 353, in do_execute\n",
      "    res = shell.run_cell(code, store_history=store_history, silent=silent)\n",
      "  File \"c:\\Users\\Jason\\Projects\\McLatte\\.venv.mclatte\\lib\\site-packages\\ipykernel\\zmqshell.py\", line 533, in run_cell\n",
      "    return super(ZMQInteractiveShell, self).run_cell(*args, **kwargs)\n",
      "  File \"c:\\Users\\Jason\\Projects\\McLatte\\.venv.mclatte\\lib\\site-packages\\IPython\\core\\interactiveshell.py\", line 2914, in run_cell\n",
      "    result = self._run_cell(\n",
      "  File \"c:\\Users\\Jason\\Projects\\McLatte\\.venv.mclatte\\lib\\site-packages\\IPython\\core\\interactiveshell.py\", line 2960, in _run_cell\n",
      "    return runner(coro)\n",
      "  File \"c:\\Users\\Jason\\Projects\\McLatte\\.venv.mclatte\\lib\\site-packages\\IPython\\core\\async_helpers.py\", line 78, in _pseudo_sync_runner\n",
      "    coro.send(None)\n",
      "  File \"c:\\Users\\Jason\\Projects\\McLatte\\.venv.mclatte\\lib\\site-packages\\IPython\\core\\interactiveshell.py\", line 3185, in run_cell_async\n",
      "    has_raised = await self.run_ast_nodes(code_ast.body, cell_name,\n",
      "  File \"c:\\Users\\Jason\\Projects\\McLatte\\.venv.mclatte\\lib\\site-packages\\IPython\\core\\interactiveshell.py\", line 3377, in run_ast_nodes\n",
      "    if (await self.run_code(code, result,  async_=asy)):\n",
      "  File \"c:\\Users\\Jason\\Projects\\McLatte\\.venv.mclatte\\lib\\site-packages\\IPython\\core\\interactiveshell.py\", line 3457, in run_code\n",
      "    exec(code_obj, self.user_global_ns, self.user_ns)\n",
      "  File \"C:\\Users\\Jason\\AppData\\Local\\Temp/ipykernel_19032/2747432269.py\", line 41, in <module>\n",
      "    semi_skimmed_mclatte_losses.append(test_semi_skimmed_mclatte(\n",
      "  File \"C:\\Users\\Jason\\AppData\\Local\\Temp/ipykernel_19032/1516679298.py\", line 15, in test_semi_skimmed_mclatte\n",
      "    trained_semi_skimmed_mclatte = train_semi_skimmed_mclatte(\n",
      "  File \"c:\\Users\\Jason\\Projects\\McLatte\\mclatte\\model.py\", line 369, in train_semi_skimmed_mclatte\n",
      "    return train_mcespresso(\n",
      "  File \"c:\\Users\\Jason\\Projects\\McLatte\\mclatte\\model.py\", line 259, in train_mcespresso\n",
      "    trainer.fit(pl_model, data_module)\n",
      "  File \"c:\\Users\\Jason\\Projects\\McLatte\\.venv.mclatte\\lib\\site-packages\\pytorch_lightning\\trainer\\trainer.py\", line 552, in fit\n",
      "    self._run(model)\n",
      "  File \"c:\\Users\\Jason\\Projects\\McLatte\\.venv.mclatte\\lib\\site-packages\\pytorch_lightning\\trainer\\trainer.py\", line 922, in _run\n",
      "    self._dispatch()\n",
      "  File \"c:\\Users\\Jason\\Projects\\McLatte\\.venv.mclatte\\lib\\site-packages\\pytorch_lightning\\trainer\\trainer.py\", line 990, in _dispatch\n",
      "    self.accelerator.start_training(self)\n",
      "  File \"c:\\Users\\Jason\\Projects\\McLatte\\.venv.mclatte\\lib\\site-packages\\pytorch_lightning\\accelerators\\accelerator.py\", line 92, in start_training\n",
      "    self.training_type_plugin.start_training(trainer)\n",
      "  File \"c:\\Users\\Jason\\Projects\\McLatte\\.venv.mclatte\\lib\\site-packages\\pytorch_lightning\\plugins\\training_type\\training_type_plugin.py\", line 161, in start_training\n",
      "    self._results = trainer.run_stage()\n",
      "  File \"c:\\Users\\Jason\\Projects\\McLatte\\.venv.mclatte\\lib\\site-packages\\pytorch_lightning\\trainer\\trainer.py\", line 1000, in run_stage\n",
      "    return self._run_train()\n",
      "  File \"c:\\Users\\Jason\\Projects\\McLatte\\.venv.mclatte\\lib\\site-packages\\pytorch_lightning\\trainer\\trainer.py\", line 1049, in _run_train\n",
      "    self.fit_loop.run()\n",
      "  File \"c:\\Users\\Jason\\Projects\\McLatte\\.venv.mclatte\\lib\\site-packages\\pytorch_lightning\\loops\\base.py\", line 111, in run\n",
      "    self.advance(*args, **kwargs)\n",
      "  File \"c:\\Users\\Jason\\Projects\\McLatte\\.venv.mclatte\\lib\\site-packages\\pytorch_lightning\\loops\\fit_loop.py\", line 200, in advance\n",
      "    epoch_output = self.epoch_loop.run(train_dataloader)\n",
      "  File \"c:\\Users\\Jason\\Projects\\McLatte\\.venv.mclatte\\lib\\site-packages\\pytorch_lightning\\loops\\base.py\", line 112, in run\n",
      "    self.on_advance_end()\n",
      "  File \"c:\\Users\\Jason\\Projects\\McLatte\\.venv.mclatte\\lib\\site-packages\\pytorch_lightning\\loops\\epoch\\training_epoch_loop.py\", line 177, in on_advance_end\n",
      "    self._run_validation()\n",
      "  File \"c:\\Users\\Jason\\Projects\\McLatte\\.venv.mclatte\\lib\\site-packages\\pytorch_lightning\\loops\\epoch\\training_epoch_loop.py\", line 257, in _run_validation\n",
      "    self.val_loop.run()\n",
      "  File \"c:\\Users\\Jason\\Projects\\McLatte\\.venv.mclatte\\lib\\site-packages\\pytorch_lightning\\loops\\base.py\", line 118, in run\n",
      "    output = self.on_run_end()\n",
      "  File \"c:\\Users\\Jason\\Projects\\McLatte\\.venv.mclatte\\lib\\site-packages\\pytorch_lightning\\loops\\dataloader\\evaluation_loop.py\", line 142, in on_run_end\n",
      "    self.on_evaluation_end()\n",
      "  File \"c:\\Users\\Jason\\Projects\\McLatte\\.venv.mclatte\\lib\\site-packages\\pytorch_lightning\\loops\\dataloader\\evaluation_loop.py\", line 205, in on_evaluation_end\n",
      "    self.trainer.call_hook(\"on_validation_end\", *args, **kwargs)\n",
      "  File \"c:\\Users\\Jason\\Projects\\McLatte\\.venv.mclatte\\lib\\site-packages\\pytorch_lightning\\trainer\\trainer.py\", line 1228, in call_hook\n",
      "    trainer_hook(*args, **kwargs)\n",
      "  File \"c:\\Users\\Jason\\Projects\\McLatte\\.venv.mclatte\\lib\\site-packages\\pytorch_lightning\\trainer\\callback_hook.py\", line 229, in on_validation_end\n",
      "    callback.on_validation_end(self, self.lightning_module)\n",
      "  File \"c:\\Users\\Jason\\Projects\\McLatte\\.venv.mclatte\\lib\\site-packages\\ray\\tune\\integration\\pytorch_lightning.py\", line 118, in on_validation_end\n",
      "    self._handle(trainer, pl_module)\n",
      "  File \"c:\\Users\\Jason\\Projects\\McLatte\\.venv.mclatte\\lib\\site-packages\\ray\\tune\\integration\\pytorch_lightning.py\", line 202, in _handle\n",
      "    tune.report(**report_dict)\n",
      "\n",
      "GPU available: True, used: True\n",
      "TPU available: False, using: 0 TPU cores\n",
      "IPU available: False, using: 0 IPUs\n",
      "LOCAL_RANK: 0 - CUDA_VISIBLE_DEVICES: [0]\n",
      "\n",
      "  | Name     | Type        | Params\n",
      "-----------------------------------------\n",
      "0 | _encoder | LstmEncoder | 23.9 K\n",
      "1 | _decoder | LstmDecoder | 33.9 K\n",
      "-----------------------------------------\n",
      "58.1 K    Trainable params\n",
      "0         Non-trainable params\n",
      "58.1 K    Total params\n",
      "0.232     Total estimated model params size (MB)\n",
      "Session not detected. You should not be calling `report` outside `tune.run` or while using the class API. \n",
      "  File \"C:\\Program Files\\WindowsApps\\PythonSoftwareFoundation.Python.3.9_3.9.2544.0_x64__qbz5n2kfra8p0\\lib\\runpy.py\", line 197, in _run_module_as_main\n",
      "    return _run_code(code, main_globals, None,\n",
      "  File \"C:\\Program Files\\WindowsApps\\PythonSoftwareFoundation.Python.3.9_3.9.2544.0_x64__qbz5n2kfra8p0\\lib\\runpy.py\", line 87, in _run_code\n",
      "    exec(code, run_globals)\n",
      "  File \"c:\\Users\\Jason\\Projects\\McLatte\\.venv.mclatte\\lib\\site-packages\\ipykernel_launcher.py\", line 16, in <module>\n",
      "    app.launch_new_instance()\n",
      "  File \"c:\\Users\\Jason\\Projects\\McLatte\\.venv.mclatte\\lib\\site-packages\\traitlets\\config\\application.py\", line 846, in launch_instance\n",
      "    app.start()\n",
      "  File \"c:\\Users\\Jason\\Projects\\McLatte\\.venv.mclatte\\lib\\site-packages\\ipykernel\\kernelapp.py\", line 677, in start\n",
      "    self.io_loop.start()\n",
      "  File \"c:\\Users\\Jason\\Projects\\McLatte\\.venv.mclatte\\lib\\site-packages\\tornado\\platform\\asyncio.py\", line 199, in start\n",
      "    self.asyncio_loop.run_forever()\n",
      "  File \"C:\\Program Files\\WindowsApps\\PythonSoftwareFoundation.Python.3.9_3.9.2544.0_x64__qbz5n2kfra8p0\\lib\\asyncio\\base_events.py\", line 596, in run_forever\n",
      "    self._run_once()\n",
      "  File \"C:\\Program Files\\WindowsApps\\PythonSoftwareFoundation.Python.3.9_3.9.2544.0_x64__qbz5n2kfra8p0\\lib\\asyncio\\base_events.py\", line 1890, in _run_once\n",
      "    handle._run()\n",
      "  File \"C:\\Program Files\\WindowsApps\\PythonSoftwareFoundation.Python.3.9_3.9.2544.0_x64__qbz5n2kfra8p0\\lib\\asyncio\\events.py\", line 80, in _run\n",
      "    self._context.run(self._callback, *self._args)\n",
      "  File \"c:\\Users\\Jason\\Projects\\McLatte\\.venv.mclatte\\lib\\site-packages\\ipykernel\\kernelbase.py\", line 457, in dispatch_queue\n",
      "    await self.process_one()\n",
      "  File \"c:\\Users\\Jason\\Projects\\McLatte\\.venv.mclatte\\lib\\site-packages\\ipykernel\\kernelbase.py\", line 446, in process_one\n",
      "    await dispatch(*args)\n",
      "  File \"c:\\Users\\Jason\\Projects\\McLatte\\.venv.mclatte\\lib\\site-packages\\ipykernel\\kernelbase.py\", line 353, in dispatch_shell\n",
      "    await result\n",
      "  File \"c:\\Users\\Jason\\Projects\\McLatte\\.venv.mclatte\\lib\\site-packages\\ipykernel\\kernelbase.py\", line 648, in execute_request\n",
      "    reply_content = await reply_content\n",
      "  File \"c:\\Users\\Jason\\Projects\\McLatte\\.venv.mclatte\\lib\\site-packages\\ipykernel\\ipkernel.py\", line 353, in do_execute\n",
      "    res = shell.run_cell(code, store_history=store_history, silent=silent)\n",
      "  File \"c:\\Users\\Jason\\Projects\\McLatte\\.venv.mclatte\\lib\\site-packages\\ipykernel\\zmqshell.py\", line 533, in run_cell\n",
      "    return super(ZMQInteractiveShell, self).run_cell(*args, **kwargs)\n",
      "  File \"c:\\Users\\Jason\\Projects\\McLatte\\.venv.mclatte\\lib\\site-packages\\IPython\\core\\interactiveshell.py\", line 2914, in run_cell\n",
      "    result = self._run_cell(\n",
      "  File \"c:\\Users\\Jason\\Projects\\McLatte\\.venv.mclatte\\lib\\site-packages\\IPython\\core\\interactiveshell.py\", line 2960, in _run_cell\n",
      "    return runner(coro)\n",
      "  File \"c:\\Users\\Jason\\Projects\\McLatte\\.venv.mclatte\\lib\\site-packages\\IPython\\core\\async_helpers.py\", line 78, in _pseudo_sync_runner\n",
      "    coro.send(None)\n",
      "  File \"c:\\Users\\Jason\\Projects\\McLatte\\.venv.mclatte\\lib\\site-packages\\IPython\\core\\interactiveshell.py\", line 3185, in run_cell_async\n",
      "    has_raised = await self.run_ast_nodes(code_ast.body, cell_name,\n",
      "  File \"c:\\Users\\Jason\\Projects\\McLatte\\.venv.mclatte\\lib\\site-packages\\IPython\\core\\interactiveshell.py\", line 3377, in run_ast_nodes\n",
      "    if (await self.run_code(code, result,  async_=asy)):\n",
      "  File \"c:\\Users\\Jason\\Projects\\McLatte\\.venv.mclatte\\lib\\site-packages\\IPython\\core\\interactiveshell.py\", line 3457, in run_code\n",
      "    exec(code_obj, self.user_global_ns, self.user_ns)\n",
      "  File \"C:\\Users\\Jason\\AppData\\Local\\Temp/ipykernel_19032/2747432269.py\", line 55, in <module>\n",
      "    skimmed_mclatte_losses.append(test_skimmed_mclatte(\n",
      "  File \"C:\\Users\\Jason\\AppData\\Local\\Temp/ipykernel_19032/4085504473.py\", line 15, in test_skimmed_mclatte\n",
      "    trained_skimmed_mclatte = train_skimmed_mclatte(\n",
      "  File \"c:\\Users\\Jason\\Projects\\McLatte\\mclatte\\model.py\", line 307, in train_skimmed_mclatte\n",
      "    return train_mcespresso(\n",
      "  File \"c:\\Users\\Jason\\Projects\\McLatte\\mclatte\\model.py\", line 259, in train_mcespresso\n",
      "    trainer.fit(pl_model, data_module)\n",
      "  File \"c:\\Users\\Jason\\Projects\\McLatte\\.venv.mclatte\\lib\\site-packages\\pytorch_lightning\\trainer\\trainer.py\", line 552, in fit\n",
      "    self._run(model)\n",
      "  File \"c:\\Users\\Jason\\Projects\\McLatte\\.venv.mclatte\\lib\\site-packages\\pytorch_lightning\\trainer\\trainer.py\", line 922, in _run\n",
      "    self._dispatch()\n",
      "  File \"c:\\Users\\Jason\\Projects\\McLatte\\.venv.mclatte\\lib\\site-packages\\pytorch_lightning\\trainer\\trainer.py\", line 990, in _dispatch\n",
      "    self.accelerator.start_training(self)\n",
      "  File \"c:\\Users\\Jason\\Projects\\McLatte\\.venv.mclatte\\lib\\site-packages\\pytorch_lightning\\accelerators\\accelerator.py\", line 92, in start_training\n",
      "    self.training_type_plugin.start_training(trainer)\n",
      "  File \"c:\\Users\\Jason\\Projects\\McLatte\\.venv.mclatte\\lib\\site-packages\\pytorch_lightning\\plugins\\training_type\\training_type_plugin.py\", line 161, in start_training\n",
      "    self._results = trainer.run_stage()\n",
      "  File \"c:\\Users\\Jason\\Projects\\McLatte\\.venv.mclatte\\lib\\site-packages\\pytorch_lightning\\trainer\\trainer.py\", line 1000, in run_stage\n",
      "    return self._run_train()\n",
      "  File \"c:\\Users\\Jason\\Projects\\McLatte\\.venv.mclatte\\lib\\site-packages\\pytorch_lightning\\trainer\\trainer.py\", line 1049, in _run_train\n",
      "    self.fit_loop.run()\n",
      "  File \"c:\\Users\\Jason\\Projects\\McLatte\\.venv.mclatte\\lib\\site-packages\\pytorch_lightning\\loops\\base.py\", line 111, in run\n",
      "    self.advance(*args, **kwargs)\n",
      "  File \"c:\\Users\\Jason\\Projects\\McLatte\\.venv.mclatte\\lib\\site-packages\\pytorch_lightning\\loops\\fit_loop.py\", line 200, in advance\n",
      "    epoch_output = self.epoch_loop.run(train_dataloader)\n",
      "  File \"c:\\Users\\Jason\\Projects\\McLatte\\.venv.mclatte\\lib\\site-packages\\pytorch_lightning\\loops\\base.py\", line 112, in run\n",
      "    self.on_advance_end()\n",
      "  File \"c:\\Users\\Jason\\Projects\\McLatte\\.venv.mclatte\\lib\\site-packages\\pytorch_lightning\\loops\\epoch\\training_epoch_loop.py\", line 177, in on_advance_end\n",
      "    self._run_validation()\n",
      "  File \"c:\\Users\\Jason\\Projects\\McLatte\\.venv.mclatte\\lib\\site-packages\\pytorch_lightning\\loops\\epoch\\training_epoch_loop.py\", line 257, in _run_validation\n",
      "    self.val_loop.run()\n",
      "  File \"c:\\Users\\Jason\\Projects\\McLatte\\.venv.mclatte\\lib\\site-packages\\pytorch_lightning\\loops\\base.py\", line 118, in run\n",
      "    output = self.on_run_end()\n",
      "  File \"c:\\Users\\Jason\\Projects\\McLatte\\.venv.mclatte\\lib\\site-packages\\pytorch_lightning\\loops\\dataloader\\evaluation_loop.py\", line 142, in on_run_end\n",
      "    self.on_evaluation_end()\n",
      "  File \"c:\\Users\\Jason\\Projects\\McLatte\\.venv.mclatte\\lib\\site-packages\\pytorch_lightning\\loops\\dataloader\\evaluation_loop.py\", line 205, in on_evaluation_end\n",
      "    self.trainer.call_hook(\"on_validation_end\", *args, **kwargs)\n",
      "  File \"c:\\Users\\Jason\\Projects\\McLatte\\.venv.mclatte\\lib\\site-packages\\pytorch_lightning\\trainer\\trainer.py\", line 1228, in call_hook\n",
      "    trainer_hook(*args, **kwargs)\n",
      "  File \"c:\\Users\\Jason\\Projects\\McLatte\\.venv.mclatte\\lib\\site-packages\\pytorch_lightning\\trainer\\callback_hook.py\", line 229, in on_validation_end\n",
      "    callback.on_validation_end(self, self.lightning_module)\n",
      "  File \"c:\\Users\\Jason\\Projects\\McLatte\\.venv.mclatte\\lib\\site-packages\\ray\\tune\\integration\\pytorch_lightning.py\", line 118, in on_validation_end\n",
      "    self._handle(trainer, pl_module)\n",
      "  File \"c:\\Users\\Jason\\Projects\\McLatte\\.venv.mclatte\\lib\\site-packages\\ray\\tune\\integration\\pytorch_lightning.py\", line 202, in _handle\n",
      "    tune.report(**report_dict)\n",
      "\n"
     ]
    }
   ],
   "source": [
    "for config_idx in range(len(TEST_CONFIGS)):\n",
    "    config = TEST_CONFIGS[config_idx]\n",
    "    mclatte_losses = []\n",
    "    semi_skimmed_mclatte_losses = []\n",
    "    skimmed_mclatte_losses = []\n",
    "    rnn_losses = []\n",
    "    synctwin_losses = []\n",
    "    for i in range(N_TEST * config_idx + 1, N_TEST * (1 + config_idx) + 1):\n",
    "        (\n",
    "            N, \n",
    "            N_train, \n",
    "            N_test, \n",
    "            X_train, \n",
    "            X_test, \n",
    "            M_train, \n",
    "            M_test, \n",
    "            Y_pre_train, \n",
    "            Y_pre_test, \n",
    "            Y_post_train, \n",
    "            Y_post_test, \n",
    "            A_train, \n",
    "            A_test, \n",
    "            T_train, \n",
    "            T_test,\n",
    "        ) = generate_data(config[0], config[1], config[2], i)\n",
    "\n",
    "        mclatte_losses.append(test_mclatte(\n",
    "            X_train, \n",
    "            X_test, \n",
    "            M_train, \n",
    "            M_test, \n",
    "            Y_pre_train, \n",
    "            Y_post_train, \n",
    "            Y_post_test, \n",
    "            A_train, \n",
    "            A_test, \n",
    "            T_train, \n",
    "            T_test,\n",
    "            run_idx=i,\n",
    "        ))\n",
    "        semi_skimmed_mclatte_losses.append(test_semi_skimmed_mclatte(\n",
    "            X_train, \n",
    "            X_test, \n",
    "            M_train, \n",
    "            M_test, \n",
    "            Y_pre_train, \n",
    "            Y_post_train, \n",
    "            Y_post_test, \n",
    "            A_train, \n",
    "            A_test, \n",
    "            T_train, \n",
    "            T_test,\n",
    "            run_idx=i,\n",
    "        ))\n",
    "        skimmed_mclatte_losses.append(test_skimmed_mclatte(\n",
    "            X_train, \n",
    "            X_test, \n",
    "            M_train, \n",
    "            M_test, \n",
    "            Y_pre_train, \n",
    "            Y_post_train, \n",
    "            Y_post_test, \n",
    "            A_train, \n",
    "            A_test, \n",
    "            T_train, \n",
    "            T_test,\n",
    "            run_idx=i,\n",
    "        ))\n",
    "\n",
    "        rnn_losses.append(test_rnn(\n",
    "            Y_pre_train, \n",
    "            Y_pre_test, \n",
    "            Y_post_train, \n",
    "            Y_post_test, \n",
    "            run_idx=i,\n",
    "        ))\n",
    "\n",
    "        synctwin_losses.append(test_synctwin(\n",
    "            N_train, \n",
    "            N_test, \n",
    "            X_train, \n",
    "            X_test, \n",
    "            M_train, \n",
    "            M_test, \n",
    "            Y_post_train, \n",
    "            Y_post_test, \n",
    "            A_train, \n",
    "            A_test, \n",
    "            T_train, \n",
    "            T_test,\n",
    "            run_idx=i,\n",
    "        ))\n",
    "        joblib.dump((\n",
    "            config, \n",
    "            mclatte_losses, \n",
    "            semi_skimmed_mclatte_losses, \n",
    "            skimmed_mclatte_losses, \n",
    "            rnn_losses,\n",
    "            synctwin_losses,\n",
    "        ), f'results/test/config_{config_idx}_idt.joblib')"
   ]
  },
  {
   "cell_type": "markdown",
   "metadata": {},
   "source": [
    "#### Check finished runs results"
   ]
  },
  {
   "cell_type": "code",
   "execution_count": null,
   "metadata": {},
   "outputs": [],
   "source": [
    "config, mclatte_losses, rnn_losses, synctwin_losses = joblib.load(f'results_idt/test/config_11.joblib')\n",
    "config, mclatte_losses, synctwin_losses, rnn_losses"
   ]
  },
  {
   "cell_type": "code",
   "execution_count": null,
   "metadata": {},
   "outputs": [],
   "source": [
    "for losses in mclatte_losses, synctwin_losses, rnn_losses:\n",
    "    print(f'{np.mean(losses):.3f} ({np.std(losses):.3f})')"
   ]
  },
  {
   "cell_type": "markdown",
   "metadata": {},
   "source": [
    "### Plot with trained models"
   ]
  },
  {
   "cell_type": "code",
   "execution_count": null,
   "metadata": {},
   "outputs": [],
   "source": [
    "import os\n",
    "import plotly.graph_objects as go\n",
    "import torch\n",
    "from mclatte.model import McLatte\n",
    "from mclatte.simulation_data import generate_simulation_data, TreatmentRepr"
   ]
  },
  {
   "cell_type": "code",
   "execution_count": null,
   "metadata": {},
   "outputs": [],
   "source": [
    "M = 5\n",
    "H = 5\n",
    "R = 5\n",
    "D = 10\n",
    "K = 3\n",
    "C = 4\n",
    "def generate_data(N, p_0, mode):\n",
    "    N_train = round(N * 0.8)\n",
    "    N_test = round(N * 0.2)\n",
    "    X, M_, Y_pre, Y_post, A, T = generate_simulation_data(N, M, H, R, D, K, C, mode, p_0)\n",
    "    X_train, X_test = X[:N_train], X[N_train:]\n",
    "    M_train, M_test = M_[:N_train], M_[N_train:]\n",
    "    Y_pre_train, Y_pre_test = Y_pre[:N_train], Y_pre[N_train:]\n",
    "    Y_post_train, Y_post_test = Y_post[:N_train], Y_post[N_train:]\n",
    "    A_train, A_test = A[:N_train], A[N_train:]\n",
    "    T_train, T_test = T[:N_train], T[N_train:]\n",
    "    return N, N_train, N_test, X_train, X_test, M_train, M_test, Y_pre_train, Y_pre_test, Y_post_train, Y_post_test, A_train, A_test, T_train, T_test"
   ]
  },
  {
   "cell_type": "code",
   "execution_count": null,
   "metadata": {},
   "outputs": [],
   "source": [
    "(\n",
    "    N, \n",
    "    N_train, \n",
    "    N_test, \n",
    "    X_train, \n",
    "    X_test, \n",
    "    M_train, \n",
    "    M_test, \n",
    "    Y_pre_train, \n",
    "    Y_pre_test, \n",
    "    Y_post_train, \n",
    "    Y_post_test, \n",
    "    A_train, \n",
    "    A_test, \n",
    "    T_train, \n",
    "    T_test,\n",
    ") = generate_data(200, 0.1, TreatmentRepr.BINARY)\n",
    "trained_mclatte = McLatte.load_from_checkpoint(os.path.join(os.getcwd(), f'results/mclatte_51.ckpt'))"
   ]
  },
  {
   "cell_type": "code",
   "execution_count": null,
   "metadata": {},
   "outputs": [],
   "source": [
    "trained_mclatte.eval()\n",
    "_, y_tilde = trained_mclatte(\n",
    "    torch.from_numpy(X_test).float(),\n",
    "    torch.from_numpy(A_test).float(),\n",
    "    torch.from_numpy(T_test).float(),\n",
    "    torch.from_numpy(M_test).float(),\n",
    ")"
   ]
  },
  {
   "cell_type": "code",
   "execution_count": null,
   "metadata": {},
   "outputs": [],
   "source": [
    "PLOT_SUB_ID = 5\n",
    "y_pre_plot = Y_pre_test[PLOT_SUB_ID]\n",
    "pre_t = list(range(y_pre_plot.shape[0]))\n",
    "\n",
    "y_post_plot = [y_pre_plot[-1]] + list(Y_post_test[PLOT_SUB_ID])\n",
    "y_pred_plot = [y_pre_plot[-1]] + list(y_tilde.detach().numpy()[PLOT_SUB_ID])\n",
    "post_t = np.arange(len(y_post_plot)) + y_pre_plot.shape[0] - 1\n",
    "\n",
    "fig = go.Figure()\n",
    "line_pre_trt = go.Scatter(x=pre_t, y=y_pre_plot, name='pre-treatment')\n",
    "line_gt_post_trt = go.Scatter(x=post_t, y=y_post_plot, name='post-treatment ground truth')\n",
    "line_pred_post_trt = go.Scatter(x=post_t, y=y_pred_plot, name='post-treatment predictions')\n",
    "fig.add_trace(line_pre_trt)\n",
    "fig.add_trace(line_gt_post_trt)\n",
    "fig.add_trace(line_pred_post_trt)\n",
    "\n",
    "fig.update_layout(title='Treatment Outcome',\n",
    "                  yaxis_title='Outcome', xaxis_title='Time')\n",
    "fig.show()"
   ]
  }
 ],
 "metadata": {
  "interpreter": {
   "hash": "852d66bd2a456ad8c66b277a4fc8ac1a7bcd6ab870e3be824a8a6385faf13d3b"
  },
  "kernelspec": {
   "display_name": "Python 3.9.9 64-bit ('.venv.mclatte': venv)",
   "language": "python",
   "name": "python3"
  },
  "language_info": {
   "codemirror_mode": {
    "name": "ipython",
    "version": 3
   },
   "file_extension": ".py",
   "mimetype": "text/x-python",
   "name": "python",
   "nbconvert_exporter": "python",
   "pygments_lexer": "ipython3",
   "version": "3.9.9"
  },
  "orig_nbformat": 4
 },
 "nbformat": 4,
 "nbformat_minor": 2
}
