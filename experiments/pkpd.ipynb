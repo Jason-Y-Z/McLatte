{
 "cells": [
  {
   "cell_type": "code",
   "execution_count": null,
   "metadata": {},
   "outputs": [],
   "source": [
    "import joblib\n",
    "from plot_utils import plot_config_results\n",
    "from test_utils import (\n",
    "    test_skimmed_mclatte,\n",
    "    test_semi_skimmed_mclatte,\n",
    "    test_mclatte,\n",
    "    test_rnn,\n",
    "    test_synctwin,\n",
    "    test_losses,\n",
    ")\n",
    "from mclatte.test_data.pkpd import generate_data, PkpdDataGenConfig"
   ]
  },
  {
   "cell_type": "markdown",
   "metadata": {},
   "source": [
    "## Data Generation"
   ]
  },
  {
   "cell_type": "markdown",
   "metadata": {},
   "source": [
    "Constants used for generation"
   ]
  },
  {
   "cell_type": "code",
   "execution_count": null,
   "metadata": {},
   "outputs": [],
   "source": [
    "sim_id = \"0.25_200\"\n",
    "seed = 509\n",
    "model_id = \"\"\n",
    "M = 5\n",
    "H = 5\n",
    "R = 5\n",
    "D = 3\n",
    "K = 1\n",
    "C = 3\n",
    "constants = dict(m=M, h=H, r=R, d=D, k=K, c=C)"
   ]
  },
  {
   "cell_type": "markdown",
   "metadata": {},
   "source": [
    "## Modelling"
   ]
  },
  {
   "cell_type": "markdown",
   "metadata": {},
   "source": [
    "### McLatte"
   ]
  },
  {
   "cell_type": "markdown",
   "metadata": {},
   "source": [
    "#### Vanilla"
   ]
  },
  {
   "cell_type": "code",
   "execution_count": null,
   "metadata": {},
   "outputs": [],
   "source": [
    "# print(pd.read_csv(os.path.join(os.getcwd(), 'results_pkpd/mclatte_hp_pkpd.csv')).sort_values(by='valid_loss').iloc[0])\n",
    "mclatte_config = {\n",
    "    \"encoder_class\": \"lstm\",\n",
    "    \"decoder_class\": \"lstm\",\n",
    "    \"hidden_dim\": 64,\n",
    "    \"batch_size\": 64,\n",
    "    \"epochs\": 100,\n",
    "    \"lr\": 0.001944,\n",
    "    \"gamma\": 0.957115,\n",
    "    \"lambda_r\": 0.311437,\n",
    "    \"lambda_d\": 0.118073,\n",
    "    \"lambda_p\": 0.49999,\n",
    "}"
   ]
  },
  {
   "cell_type": "markdown",
   "metadata": {},
   "source": [
    "#### Semi-Skimmed"
   ]
  },
  {
   "cell_type": "code",
   "execution_count": null,
   "metadata": {},
   "outputs": [],
   "source": [
    "# print(pd.read_csv(os.path.join(os.getcwd(), 'results_pkpd/semi_skimmed_mclatte_hp_pkpd.csv')).sort_values(by='valid_loss').iloc[0])\n",
    "semi_skimmed_mclatte_config = {\n",
    "    \"encoder_class\": \"lstm\",\n",
    "    \"decoder_class\": \"lstm\",\n",
    "    \"hidden_dim\": 64,\n",
    "    \"batch_size\": 64,\n",
    "    \"epochs\": 100,\n",
    "    \"lr\": 0.001944,\n",
    "    \"gamma\": 0.957115,\n",
    "    \"lambda_r\": 0.311437,\n",
    "    \"lambda_d\": 0.118073,\n",
    "    \"lambda_p\": 0.49999,\n",
    "}"
   ]
  },
  {
   "cell_type": "markdown",
   "metadata": {},
   "source": [
    "#### Skimmed"
   ]
  },
  {
   "cell_type": "code",
   "execution_count": null,
   "metadata": {},
   "outputs": [],
   "source": [
    "# print(pd.read_csv(os.path.join(os.getcwd(), 'results_pkpd/skimmed_mclatte_hp_pkpd.csv')).sort_values(by='valid_loss').iloc[0])\n",
    "skimmed_mclatte_config = {\n",
    "    \"encoder_class\": \"lstm\",\n",
    "    \"decoder_class\": \"lstm\",\n",
    "    \"hidden_dim\": 64,\n",
    "    \"batch_size\": 64,\n",
    "    \"epochs\": 100,\n",
    "    \"lr\": 0.021114,\n",
    "    \"gamma\": 0.980614,\n",
    "    \"lambda_r\": 0.093878,\n",
    "    \"lambda_p\": 0.485204,\n",
    "}"
   ]
  },
  {
   "cell_type": "markdown",
   "metadata": {},
   "source": [
    "### Baseline RNN"
   ]
  },
  {
   "cell_type": "code",
   "execution_count": null,
   "metadata": {},
   "outputs": [],
   "source": [
    "# print(pd.read_csv(os.path.join(os.getcwd(), 'results/baseline_rnn_hp_pkpd.csv')).sort_values(by='valid_loss').iloc[0])\n",
    "rnn_config = {\n",
    "    \"rnn_class\": \"gru\",\n",
    "    \"hidden_dim\": 64,\n",
    "    \"seq_len\": 2,\n",
    "    \"batch_size\": 64,\n",
    "    \"epochs\": 100,\n",
    "    \"lr\": 0.025182,\n",
    "    \"gamma\": 0.543008,\n",
    "}"
   ]
  },
  {
   "cell_type": "markdown",
   "metadata": {},
   "source": [
    "### SyncTwin"
   ]
  },
  {
   "cell_type": "code",
   "execution_count": null,
   "metadata": {},
   "outputs": [],
   "source": [
    "# print(pd.read_csv(os.path.join(os.getcwd(), 'results/synctwin_hp_pkpd.csv')).sort_values(by='valid_loss').iloc[0])\n",
    "synctwin_config = {\n",
    "    \"hidden_dim\": 128,\n",
    "    \"reg_B\": 0.778155,\n",
    "    \"lam_express\": 0.658256,\n",
    "    \"lam_recon\": 0.086627,\n",
    "    \"lam_prognostic\": 0.631468,\n",
    "    \"tau\": 0.911613,\n",
    "    \"batch_size\": 32,\n",
    "    \"epochs\": 100,\n",
    "    \"lr\": 0.003222,\n",
    "    \"gamma\": 0.572529,\n",
    "}"
   ]
  },
  {
   "cell_type": "markdown",
   "metadata": {},
   "source": [
    "## Test Models"
   ]
  },
  {
   "cell_type": "code",
   "execution_count": 42,
   "metadata": {},
   "outputs": [],
   "source": [
    "N_TEST = 1"
   ]
  },
  {
   "cell_type": "code",
   "execution_count": 43,
   "metadata": {},
   "outputs": [],
   "source": [
    "TEST_CONFIGS = [\n",
    "    [\"0.1\", 200],\n",
    "    # [\"0.25\", 200],\n",
    "    # [\"0.5\", 200],\n",
    "    # [\"0.1\", 1000],\n",
    "    # [\"0.25\", 1000],\n",
    "    # [\"0.5\", 1000],\n",
    "]"
   ]
  },
  {
   "cell_type": "code",
   "execution_count": 44,
   "metadata": {},
   "outputs": [],
   "source": [
    "def run_tests():\n",
    "    for config_idx in range(len(TEST_CONFIGS)):\n",
    "        config = TEST_CONFIGS[config_idx]\n",
    "        data_gen_config = PkpdDataGenConfig(\n",
    "            n=config[1],\n",
    "            p_0=config[0],\n",
    "            seed=seed,\n",
    "            **constants\n",
    "        )\n",
    "        mclatte_losses = []\n",
    "        semi_skimmed_mclatte_losses = []\n",
    "        skimmed_mclatte_losses = []\n",
    "        rnn_losses = []\n",
    "        synctwin_losses = []\n",
    "        for i in range(N_TEST * config_idx + 1, N_TEST * (1 + config_idx) + 1):\n",
    "            _, train_data, test_data = generate_data(data_gen_config, return_raw=False)\n",
    "\n",
    "            skimmed_mclatte_losses.append(\n",
    "                test_skimmed_mclatte(\n",
    "                    skimmed_mclatte_config,\n",
    "                    constants,\n",
    "                    train_data,\n",
    "                    test_data,\n",
    "                    run_idx=i,\n",
    "                )\n",
    "            )\n",
    "            semi_skimmed_mclatte_losses.append(\n",
    "                test_semi_skimmed_mclatte(\n",
    "                    semi_skimmed_mclatte_config,\n",
    "                    constants,\n",
    "                    train_data,\n",
    "                    test_data,\n",
    "                    run_idx=i,\n",
    "                )\n",
    "            )\n",
    "            mclatte_losses.append(\n",
    "                test_mclatte(\n",
    "                    mclatte_config,\n",
    "                    constants,\n",
    "                    train_data,\n",
    "                    test_data,\n",
    "                    run_idx=i,\n",
    "                )\n",
    "            )\n",
    "\n",
    "            rnn_losses.append(\n",
    "                test_rnn(\n",
    "                    rnn_config,\n",
    "                    train_data,\n",
    "                    test_data,\n",
    "                    run_idx=i,\n",
    "                )\n",
    "            )\n",
    "\n",
    "            synctwin_losses.append(\n",
    "                test_synctwin(\n",
    "                    synctwin_config,\n",
    "                    constants,\n",
    "                    train_data,\n",
    "                    test_data,\n",
    "                    run_idx=i,\n",
    "                )\n",
    "            )\n",
    "            joblib.dump(\n",
    "                (\n",
    "                    config,\n",
    "                    mclatte_losses,\n",
    "                    semi_skimmed_mclatte_losses,\n",
    "                    skimmed_mclatte_losses,\n",
    "                    rnn_losses,\n",
    "                    synctwin_losses,\n",
    "                ),\n",
    "                f\"results/test/config_{config_idx}_pkpd.joblib\",\n",
    "            )"
   ]
  },
  {
   "cell_type": "code",
   "execution_count": 45,
   "metadata": {},
   "outputs": [],
   "source": [
    "run_tests()"
   ]
  },
  {
   "cell_type": "markdown",
   "metadata": {},
   "source": [
    "### Statistical Testing"
   ]
  },
  {
   "cell_type": "code",
   "execution_count": 46,
   "metadata": {},
   "outputs": [],
   "source": [
    "LOSS_NAMES = [\"McLatte\", \"Semi-Skimmed McLatte\", \"Skimmed McLatte\", \"RNN\", \"SyncTwin\"]"
   ]
  },
  {
   "cell_type": "code",
   "execution_count": null,
   "metadata": {},
   "outputs": [],
   "source": [
    "all_losses = [[] for _ in range(len(LOSS_NAMES))]\n",
    "for config_id in range(len(TEST_CONFIGS)):\n",
    "    _, *losses = joblib.load(f\"results/test/config_{config_id}_pkpd.joblib\")\n",
    "    for i in range(len(LOSS_NAMES)):\n",
    "        all_losses[i] += losses[i]\n",
    "test_losses(all_losses, LOSS_NAMES)"
   ]
  },
  {
   "cell_type": "markdown",
   "metadata": {},
   "source": [
    "### Plot with trained models"
   ]
  },
  {
   "cell_type": "code",
   "execution_count": null,
   "metadata": {},
   "outputs": [],
   "source": [
    "for config_idx in range(len(TEST_CONFIGS)):\n",
    "    config = TEST_CONFIGS[config_idx]\n",
    "    data_gen_config = PkpdDataGenConfig(\n",
    "        n=config[1],\n",
    "        p_0=config[0],\n",
    "        seed=seed,\n",
    "        **constants\n",
    "    )\n",
    "    plot_config_results(\"pkpd\", generate_data, config_idx, data_gen_config)"
   ]
  }
 ],
 "metadata": {
  "interpreter": {
   "hash": "852d66bd2a456ad8c66b277a4fc8ac1a7bcd6ab870e3be824a8a6385faf13d3b"
  },
  "kernelspec": {
   "display_name": "Python 3.9.9 64-bit ('.venv.mclatte': venv)",
   "language": "python",
   "name": "python3"
  },
  "language_info": {
   "codemirror_mode": {
    "name": "ipython",
    "version": 3
   },
   "file_extension": ".py",
   "mimetype": "text/x-python",
   "name": "python",
   "nbconvert_exporter": "python",
   "pygments_lexer": "ipython3",
   "version": "3.9.1"
  },
  "orig_nbformat": 4
 },
 "nbformat": 4,
 "nbformat_minor": 2
}
