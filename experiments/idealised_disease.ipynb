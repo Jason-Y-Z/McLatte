{
 "cells": [
  {
   "cell_type": "markdown",
   "metadata": {},
   "source": [
    "## Idealised Hypothetical Disease Treatment"
   ]
  },
  {
   "cell_type": "code",
   "execution_count": null,
   "metadata": {},
   "outputs": [],
   "source": [
    "import joblib\n",
    "import numpy as np\n",
    "import plotly.graph_objects as go\n",
    "import random\n",
    "import torch\n",
    "import wandb\n",
    "from plot_utils import plot_config_results\n",
    "from test_utils import (\n",
    "    test_skimmed_mclatte,\n",
    "    test_semi_skimmed_mclatte,\n",
    "    test_mclatte,\n",
    "    test_rnn,\n",
    "    test_synctwin,\n",
    "    test_losses,\n",
    ")\n",
    "from mclatte.test_data.idt import (\n",
    "    generate_data,\n",
    "    SimDataGenConfig, \n",
    "    TreatmentRepr,\n",
    ")"
   ]
  },
  {
   "cell_type": "code",
   "execution_count": null,
   "metadata": {},
   "outputs": [],
   "source": [
    "random.seed(509)\n",
    "np.random.seed(509)\n",
    "torch.manual_seed(509)"
   ]
  },
  {
   "cell_type": "markdown",
   "metadata": {},
   "source": [
    "Constants for Data Generation"
   ]
  },
  {
   "cell_type": "code",
   "execution_count": null,
   "metadata": {},
   "outputs": [],
   "source": [
    "M = 5\n",
    "H = 5\n",
    "R = 5\n",
    "D = 10\n",
    "K = 3\n",
    "C = 4\n",
    "constants = dict(m=M, h=H, r=R, d=D, k=K, c=C)"
   ]
  },
  {
   "cell_type": "markdown",
   "metadata": {},
   "source": [
    "### Visualizations"
   ]
  },
  {
   "cell_type": "code",
   "execution_count": null,
   "metadata": {},
   "outputs": [],
   "source": [
    "data_gen_config = SimDataGenConfig(\n",
    "    n=250,\n",
    "    p_0=0.1,\n",
    "    mode=TreatmentRepr.BINARY,\n",
    "    **constants\n",
    ")\n",
    "(\n",
    "    N_visual,\n",
    "    N_train_visual,\n",
    "    N_test_visual,\n",
    "    X_train_visual,\n",
    "    X_test_visual,\n",
    "    M_train_visual,\n",
    "    M_test_visual,\n",
    "    Y_pre_train_visual,\n",
    "    Y_pre_test_visual,\n",
    "    Y_post_train_visual,\n",
    "    Y_post_test_visual,\n",
    "    A_train_visual,\n",
    "    A_test_visual,\n",
    "    T_train_visual,\n",
    "    T_test_visual,\n",
    ") = generate_data(data_gen_config, \"visual\")\n",
    "X_visual = np.concatenate((X_train_visual, X_test_visual), axis=0)\n",
    "A_visual = np.concatenate((A_train_visual, A_test_visual), axis=0)\n",
    "Y_pre_visual = np.concatenate((Y_pre_train_visual, Y_pre_test_visual), axis=0)\n",
    "Y_post_visual = np.concatenate((Y_post_train_visual, Y_post_test_visual), axis=0)\n",
    "sample_ids = np.random.randint(N_visual, size=10)"
   ]
  },
  {
   "cell_type": "markdown",
   "metadata": {},
   "source": [
    "Covariates"
   ]
  },
  {
   "cell_type": "code",
   "execution_count": null,
   "metadata": {},
   "outputs": [],
   "source": [
    "fig = go.Figure()\n",
    "for feature_idx in range(D):\n",
    "    values = np.mean(X_visual[sample_ids, :, feature_idx], axis=0)\n",
    "    fig.add_trace(\n",
    "        go.Scatter(x=list(range(R * M)), y=values, name=f\"feature {feature_idx}\")\n",
    "    )\n",
    "fig.update_layout(\n",
    "    title=\"Average Covariate Values\", xaxis_title=\"t\", yaxis_title=\"Feature Value\"\n",
    ")\n",
    "fig.show()"
   ]
  },
  {
   "cell_type": "markdown",
   "metadata": {},
   "source": [
    "Treatment Causes"
   ]
  },
  {
   "cell_type": "code",
   "execution_count": null,
   "metadata": {},
   "outputs": [],
   "source": [
    "fig = go.Figure(data=go.Heatmap(z=A_visual[sample_ids].T))\n",
    "fig.update_layout(\n",
    "    title=\"Treatment Causes\", xaxis_title=\"Sample ID\", yaxis_title=\"Cause\"\n",
    ")\n",
    "fig.show()"
   ]
  },
  {
   "cell_type": "markdown",
   "metadata": {},
   "source": [
    "Treatment Outcomes"
   ]
  },
  {
   "cell_type": "code",
   "execution_count": null,
   "metadata": {},
   "outputs": [],
   "source": [
    "Y_sampled = np.concatenate((Y_pre_visual, Y_post_visual), axis=1)[sample_ids, :]"
   ]
  },
  {
   "cell_type": "code",
   "execution_count": null,
   "metadata": {},
   "outputs": [],
   "source": [
    "fig = go.Figure()\n",
    "for sample_idx in range(len(sample_ids)):\n",
    "    values = Y_sampled[sample_idx, :]\n",
    "    fig.add_trace(\n",
    "        go.Scatter(x=list(range(M + H)), y=values, name=f\"Sample {sample_idx}\")\n",
    "    )\n",
    "fig.update_layout(\n",
    "    title=\"Sampled Treatment Outcomes\", xaxis_title=\"t\", yaxis_title=\"Outcome Value\"\n",
    ")\n",
    "fig.show()"
   ]
  },
  {
   "cell_type": "markdown",
   "metadata": {},
   "source": [
    "## Modelling"
   ]
  },
  {
   "cell_type": "code",
   "execution_count": null,
   "metadata": {},
   "outputs": [],
   "source": [
    "wandb.init(project=\"mclatte-test\", entity=\"jasonyz\")"
   ]
  },
  {
   "cell_type": "markdown",
   "metadata": {},
   "source": [
    "### McLatte"
   ]
  },
  {
   "cell_type": "markdown",
   "metadata": {},
   "source": [
    "#### Skimmed"
   ]
  },
  {
   "cell_type": "code",
   "execution_count": null,
   "metadata": {},
   "outputs": [],
   "source": [
    "# print(pd.read_csv(os.path.join(os.getcwd(), 'results_idt/skimmed_mclatte_hp.csv')).sort_values(by='valid_loss').iloc[0])\n",
    "skimmed_mclatte_config = {\n",
    "    \"encoder_class\": \"lstm\",\n",
    "    \"decoder_class\": \"lstm\",\n",
    "    \"hidden_dim\": 64,\n",
    "    \"batch_size\": 64,\n",
    "    \"epochs\": 100,\n",
    "    \"lr\": 0.0151,\n",
    "    \"gamma\": 0.986855,\n",
    "    \"lambda_r\": 1.928836,\n",
    "    \"lambda_p\": 0.042385,\n",
    "}"
   ]
  },
  {
   "cell_type": "markdown",
   "metadata": {},
   "source": [
    "#### Semi-Skimmed"
   ]
  },
  {
   "cell_type": "code",
   "execution_count": null,
   "metadata": {},
   "outputs": [],
   "source": [
    "# print(pd.read_csv(os.path.join(os.getcwd(), 'results_idt/semi_skimmed_mclatte_hp.csv')).sort_values(by='valid_loss').iloc[0])\n",
    "semi_skimmed_mclatte_config = {\n",
    "    \"encoder_class\": \"lstm\",\n",
    "    \"decoder_class\": \"lstm\",\n",
    "    \"hidden_dim\": 16,\n",
    "    \"batch_size\": 64,\n",
    "    \"epochs\": 100,\n",
    "    \"lr\": 0.120062,\n",
    "    \"gamma\": 0.731629,\n",
    "    \"lambda_r\": 0.016767,\n",
    "    \"lambda_d\": 1.83538,\n",
    "    \"lambda_p\": 1.509965,\n",
    "}"
   ]
  },
  {
   "cell_type": "markdown",
   "metadata": {},
   "source": [
    "#### Vanilla"
   ]
  },
  {
   "cell_type": "code",
   "execution_count": null,
   "metadata": {},
   "outputs": [],
   "source": [
    "# print(pd.read_csv(os.path.join(os.getcwd(), 'results_idt/mclatte_hp.csv')).sort_values(by='valid_loss').iloc[0])\n",
    "mclatte_config = {\n",
    "    \"encoder_class\": \"lstm\",\n",
    "    \"decoder_class\": \"lstm\",\n",
    "    \"hidden_dim\": 16,\n",
    "    \"batch_size\": 64,\n",
    "    \"epochs\": 100,\n",
    "    \"lr\": 0.024468,\n",
    "    \"gamma\": 0.740409,\n",
    "    \"lambda_r\": 0.040299,\n",
    "    \"lambda_d\": 0.034368,\n",
    "    \"lambda_p\": 0.021351,\n",
    "}"
   ]
  },
  {
   "cell_type": "markdown",
   "metadata": {},
   "source": [
    "### Baseline RNN"
   ]
  },
  {
   "cell_type": "code",
   "execution_count": null,
   "metadata": {},
   "outputs": [],
   "source": [
    "# print(pd.read_csv(os.path.join(os.getcwd(), 'results/baseline_rnn_hp.csv')).sort_values(by='valid_loss').iloc[0])\n",
    "rnn_config = {\n",
    "    \"rnn_class\": \"gru\",\n",
    "    \"hidden_dim\": 4,\n",
    "    \"seq_len\": 4,\n",
    "    \"batch_size\": 64,\n",
    "    \"epochs\": 100,\n",
    "    \"lr\": 0.048177,\n",
    "    \"gamma\": 0.795612,\n",
    "}"
   ]
  },
  {
   "cell_type": "markdown",
   "metadata": {},
   "source": [
    "### SyncTwin"
   ]
  },
  {
   "cell_type": "code",
   "execution_count": null,
   "metadata": {},
   "outputs": [],
   "source": [
    "# print(pd.read_csv(os.path.join(os.getcwd(), 'results/synctwin_hp.csv')).sort_values(by='valid_loss').iloc[0])\n",
    "synctwin_config = {\n",
    "    \"hidden_dim\": 32,\n",
    "    \"reg_B\": 0.909119,\n",
    "    \"lam_express\": 0.106598,\n",
    "    \"lam_recon\": 0.441844,\n",
    "    \"lam_prognostic\": 0.207286,\n",
    "    \"tau\": 0.311216,\n",
    "    \"batch_size\": 32,\n",
    "    \"epochs\": 100,\n",
    "    \"lr\": 0.000196,\n",
    "    \"gamma\": 0.888244,\n",
    "}"
   ]
  },
  {
   "cell_type": "markdown",
   "metadata": {},
   "source": [
    "## Test Models"
   ]
  },
  {
   "cell_type": "code",
   "execution_count": null,
   "metadata": {},
   "outputs": [],
   "source": [
    "N_TEST = 5"
   ]
  },
  {
   "cell_type": "code",
   "execution_count": null,
   "metadata": {},
   "outputs": [],
   "source": [
    "TEST_CONFIGS = [\n",
    "    [200, 0.1, TreatmentRepr.BINARY],\n",
    "    [200, 0.5, TreatmentRepr.BINARY],\n",
    "    [200, 0.1, TreatmentRepr.BOUNDED],\n",
    "    [200, 0.5, TreatmentRepr.BOUNDED],\n",
    "    [200, 0.1, TreatmentRepr.REAL_VALUED],\n",
    "    [200, 0.5, TreatmentRepr.REAL_VALUED],\n",
    "    # [1000, 0.1, TreatmentRepr.BINARY],\n",
    "    # [1000, 0.5, TreatmentRepr.BINARY],\n",
    "    # [1000, 0.1, TreatmentRepr.BOUNDED],\n",
    "    # [1000, 0.5, TreatmentRepr.BOUNDED],\n",
    "    # [1000, 0.1, TreatmentRepr.REAL_VALUED],\n",
    "    # [1000, 0.5, TreatmentRepr.REAL_VALUED],\n",
    "]"
   ]
  },
  {
   "cell_type": "code",
   "execution_count": null,
   "metadata": {},
   "outputs": [],
   "source": [
    "def run_tests():\n",
    "    for config_idx in range(len(TEST_CONFIGS)):\n",
    "        config = TEST_CONFIGS[config_idx]\n",
    "        data_gen_config = SimDataGenConfig(\n",
    "            n=config[0],\n",
    "            p_0=config[1],\n",
    "            mode=config[2],\n",
    "            **constants\n",
    "        )\n",
    "        mclatte_losses = []\n",
    "        semi_skimmed_mclatte_losses = []\n",
    "        skimmed_mclatte_losses = []\n",
    "        rnn_losses = []\n",
    "        synctwin_losses = []\n",
    "        for i in range(N_TEST * config_idx + 1, N_TEST * (1 + config_idx) + 1):\n",
    "            (\n",
    "                _,\n",
    "                train_data,\n",
    "                test_data,\n",
    "            ) = generate_data(data_gen_config, i, return_raw=False)\n",
    "\n",
    "            skimmed_mclatte_losses.append(\n",
    "                test_skimmed_mclatte(\n",
    "                    skimmed_mclatte_config,\n",
    "                    constants,\n",
    "                    train_data,\n",
    "                    test_data,\n",
    "                    run_idx=i,\n",
    "                )\n",
    "            )\n",
    "            semi_skimmed_mclatte_losses.append(\n",
    "                test_semi_skimmed_mclatte(\n",
    "                    semi_skimmed_mclatte_config,\n",
    "                    constants,\n",
    "                    train_data,\n",
    "                    test_data,\n",
    "                    run_idx=i,\n",
    "                )\n",
    "            )\n",
    "            mclatte_losses.append(\n",
    "                test_mclatte(\n",
    "                    mclatte_config,\n",
    "                    constants,\n",
    "                    train_data,\n",
    "                    test_data,\n",
    "                    run_idx=i,\n",
    "                )\n",
    "            )\n",
    "\n",
    "            rnn_losses.append(\n",
    "                test_rnn(\n",
    "                    rnn_config,\n",
    "                    train_data,\n",
    "                    test_data,\n",
    "                    run_idx=i,\n",
    "                )\n",
    "            )\n",
    "\n",
    "            synctwin_losses.append(\n",
    "                test_synctwin(\n",
    "                    synctwin_config,\n",
    "                    constants,\n",
    "                    train_data,\n",
    "                    test_data,\n",
    "                    run_idx=i,\n",
    "                )\n",
    "            )\n",
    "            joblib.dump(\n",
    "                (\n",
    "                    config,\n",
    "                    mclatte_losses,\n",
    "                    semi_skimmed_mclatte_losses,\n",
    "                    skimmed_mclatte_losses,\n",
    "                    rnn_losses,\n",
    "                    synctwin_losses,\n",
    "                ),\n",
    "                f\"results/test/config_{config_idx}_idt.joblib\",\n",
    "            )"
   ]
  },
  {
   "cell_type": "code",
   "execution_count": null,
   "metadata": {},
   "outputs": [],
   "source": [
    "run_tests()"
   ]
  },
  {
   "cell_type": "markdown",
   "metadata": {},
   "source": [
    "### Statistical Testing"
   ]
  },
  {
   "cell_type": "code",
   "execution_count": null,
   "metadata": {},
   "outputs": [],
   "source": [
    "LOSS_NAMES = [\"McLatte\", \"Semi-Skimmed McLatte\", \"Skimmed McLatte\", \"RNN\", \"SyncTwin\"]"
   ]
  },
  {
   "cell_type": "code",
   "execution_count": null,
   "metadata": {},
   "outputs": [],
   "source": [
    "all_losses = [[] for _ in range(len(LOSS_NAMES))]\n",
    "for config_id in range(len(TEST_CONFIGS)):\n",
    "    _, *losses = joblib.load(f\"results/test/config_{config_id}_idt.joblib\")\n",
    "    for i in range(len(LOSS_NAMES)):\n",
    "        all_losses[i] += losses[i]\n",
    "test_losses(all_losses, LOSS_NAMES)"
   ]
  },
  {
   "cell_type": "markdown",
   "metadata": {},
   "source": [
    "### Plot with trained models"
   ]
  },
  {
   "cell_type": "code",
   "execution_count": null,
   "metadata": {},
   "outputs": [],
   "source": [
    "for config_idx in range(len(TEST_CONFIGS)):\n",
    "    config = TEST_CONFIGS[config_idx]\n",
    "    data_gen_config = SimDataGenConfig(\n",
    "        n=config[0],\n",
    "        p_0=config[1],\n",
    "        mode=config[2],\n",
    "        **constants\n",
    "    )\n",
    "    plot_config_results(\"idt\", generate_data, config_idx, data_gen_config)"
   ]
  }
 ],
 "metadata": {
  "interpreter": {
   "hash": "852d66bd2a456ad8c66b277a4fc8ac1a7bcd6ab870e3be824a8a6385faf13d3b"
  },
  "kernelspec": {
   "display_name": "Python 3.9.9 64-bit ('.venv.mclatte': venv)",
   "language": "python",
   "name": "python3"
  },
  "language_info": {
   "codemirror_mode": {
    "name": "ipython",
    "version": 3
   },
   "file_extension": ".py",
   "mimetype": "text/x-python",
   "name": "python",
   "nbconvert_exporter": "python",
   "pygments_lexer": "ipython3",
   "version": "3.9.1"
  },
  "orig_nbformat": 4
 },
 "nbformat": 4,
 "nbformat_minor": 2
}
